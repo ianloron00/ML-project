{
  "nbformat": 4,
  "nbformat_minor": 5,
  "metadata": {
    "colab": {
      "name": "DEMO P4 - Heart Disease Prediction through SV - Oversampling.ipynb",
      "provenance": []
    },
    "kernelspec": {
      "display_name": "Python 3",
      "language": "python",
      "name": "python3"
    },
    "language_info": {
      "codemirror_mode": {
        "name": "ipython",
        "version": 3
      },
      "file_extension": ".py",
      "mimetype": "text/x-python",
      "name": "python",
      "nbconvert_exporter": "python",
      "pygments_lexer": "ipython3",
      "version": "3.8.8"
    }
  },
  "cells": [
    {
      "cell_type": "code",
      "metadata": {
        "id": "dressed-drove"
      },
      "source": [
        "### https://www.kaggle.com/dileep070/heart-disease-prediction-using-logistic-regression\n",
        "import numpy as np\n",
        "import pandas as pd \n",
        "# classifier models:\n",
        "from sklearn.linear_model import LogisticRegression\n",
        "from sklearn.naive_bayes import GaussianNB\n",
        "from sklearn.ensemble import RandomForestClassifier\n",
        "from sklearn.ensemble import RandomForestRegressor\n",
        "from sklearn.tree import DecisionTreeClassifier\n",
        "from sklearn.neighbors import KNeighborsClassifier\n",
        "from sklearn.pipeline import make_pipeline\n",
        "from sklearn.svm import SVC\n",
        "from sklearn.ensemble import VotingClassifier\n",
        "# scaler\n",
        "from sklearn.preprocessing import StandardScaler\n",
        "# split\n",
        "from sklearn.model_selection import train_test_split\n",
        "from sklearn.model_selection import ShuffleSplit\n",
        "# matplot libs\n",
        "from mpl_toolkits import mplot3d\n",
        "import matplotlib.pyplot as plt \n",
        "# to reduction\n",
        "from sklearn.manifold import TSNE\n",
        "from sklearn.decomposition import PCA\n",
        "# scoring\n",
        "from sklearn.metrics import fbeta_score, make_scorer, balanced_accuracy_score, jaccard_score, cohen_kappa_score\n",
        "from sklearn import metrics\n",
        "from sklearn.metrics import confusion_matrix,accuracy_score,roc_curve,classification_report\n",
        "# to classification report\n",
        "from sklearn.model_selection import learning_curve\n",
        "from pprint import pprint\n",
        "from sklearn.model_selection import RandomizedSearchCV\n",
        "from sklearn.model_selection import GridSearchCV\n",
        "from sklearn.model_selection import cross_val_score\n",
        "from sklearn.model_selection import cross_validate\n",
        "from imblearn.over_sampling import SMOTE\n",
        "from imblearn.under_sampling import NearMiss"
      ],
      "id": "dressed-drove",
      "execution_count": 50,
      "outputs": []
    },
    {
      "cell_type": "markdown",
      "metadata": {
        "id": "psychological-benjamin"
      },
      "source": [
        "Abaixo, funcoes de plots (ou tentativas rs) de plotar o gráfico. O último que postei era essa primeira funcao. Este comentário será apagado em 24 horas, boa noite."
      ],
      "id": "psychological-benjamin"
    },
    {
      "cell_type": "code",
      "metadata": {
        "id": "ranking-token"
      },
      "source": [
        "def plotRed3d(train, point_labels, main_title='dimensionality reduction using PCA'):\n",
        "    dicColors = {0:'magenta', 1:'blue'}    \n",
        "    label_color = [dicColors[c] for c in point_labels]\n",
        "\n",
        "    x_label = 'X'\n",
        "    y_label = 'Y'\n",
        "    z_label = 'Z'\n",
        "    title = main_title \n",
        "\n",
        "    # creating figure\n",
        "    fig = plt.figure(figsize=(10,10))\n",
        "    ax = plt.axes(projection =\"3d\")\n",
        "\n",
        "    # creating plot\n",
        "    ax.scatter3D(train[:,0], train[:,1], train[:,2],c=label_color,alpha=0.8)\n",
        "\n",
        "    ax.set_xlabel(x_label)\n",
        "    ax.set_ylabel(y_label)\n",
        "    ax.set_zlabel(z_label)\n",
        "\n",
        "    ax.legend(labels=['healthy', 'with probable ddisease'])\n",
        "    plt.grid(b=True)\n",
        "\n",
        "    plt.suptitle(title, fontsize=20)  \n",
        "    # plt.savefig(title + '.png')\n",
        "    plt.show()"
      ],
      "id": "ranking-token",
      "execution_count": 51,
      "outputs": []
    },
    {
      "cell_type": "code",
      "metadata": {
        "id": "hawaiian-wisconsin"
      },
      "source": [
        "import warnings\n",
        "# https://stackoverflow.com/questions/43162506/undefinedmetricwarning-f-score-is-ill-defined-and-being-set-to-0-0-in-labels-wi\n",
        "warnings.filterwarnings('ignore')\n",
        "\n",
        "def print_val_scores(model, X_train, y_train, scoring=['f1_weighted','f1_macro','recall_weighted',\n",
        "                                                       'precision_weighted'], \n",
        "                     cv=10):\n",
        "    _,__,f1_w,f1_m,r,p=cross_validate(model, X_train, y_train, cv=cv,\n",
        "                       scoring=scoring).items()\n",
        "    mean_f1_w = f1_w[1].mean(); sd_f1_w = f1_w[1].std()\n",
        "    mean_f1_m = f1_m[1].mean(); sd_f1_m = f1_m[1].std()\n",
        "    mean_r = r[1].mean(); sd_r = r[1].std()\n",
        "    mean_p = p[1].mean(); sd_p = p[1].std()\n",
        "    \n",
        "    print(\"Classification report for classifier {}:\\nparameters:\\n\".format(model) +\n",
        "          \"{}\\nmean: {}, std deviation: {}\\n\\n\".format(f1_w[0],mean_f1_w,sd_f1_w) +\n",
        "          \"{}\\nmean: {}, std deviation: {}\\n\\n\".format(f1_m[0],mean_f1_m,sd_f1_m) +\n",
        "          \"{}\\nmean: {}, std deviation: {}\\n\\n\".format(r[0],mean_r,sd_r) +\n",
        "          \"{}\\nmean: {}, std deviation: {}\\n\\n\".format(p[0],mean_p,sd_p))"
      ],
      "id": "hawaiian-wisconsin",
      "execution_count": 52,
      "outputs": []
    },
    {
      "cell_type": "code",
      "metadata": {
        "id": "final-speed"
      },
      "source": [
        "def print_val_custom_score (model, X_train, y_train, \n",
        "                            scoring='f1_macro', \n",
        "                            cv=10):\n",
        "    print(\"Classification report for classifier {}:\\nparameters:\\n\".format(model))\n",
        "    \n",
        "    myReturn=cross_validate(model,X_train,y_train,cv=cv,scoring=scoring)\n",
        "    _,__,metric_score=myReturn\n",
        "    metric_score=myReturn[metric_score]\n",
        "    mean = np.mean(metric_score)\n",
        "    sd = np.std(metric_score)\n",
        "    print(\"{}\\nmean: {}, std deviation: {}\\n\\n\".format(scoring,mean,sd))"
      ],
      "id": "final-speed",
      "execution_count": 53,
      "outputs": []
    },
    {
      "cell_type": "code",
      "metadata": {
        "id": "nutritional-skating"
      },
      "source": [
        "def print_metrics(clf, X, y, prediction):\n",
        "    print(f\"Classification report for classifier {clf}:\\n\"\n",
        "          f\"{metrics.classification_report(y, prediction)}\\n\")\n",
        "    disp = metrics.plot_confusion_matrix(clf, X, y)\n",
        "    disp.figure_.suptitle(\"Confusion Matrix\")"
      ],
      "id": "nutritional-skating",
      "execution_count": 54,
      "outputs": []
    },
    {
      "cell_type": "code",
      "metadata": {
        "id": "mathematical-kentucky"
      },
      "source": [
        "data=pd.read_csv('heart_pred.csv')\n",
        "# data.describe()"
      ],
      "id": "mathematical-kentucky",
      "execution_count": 55,
      "outputs": []
    },
    {
      "cell_type": "markdown",
      "metadata": {
        "id": "tender-mattress"
      },
      "source": [
        "Retirando valores nulos e NaN"
      ],
      "id": "tender-mattress"
    },
    {
      "cell_type": "code",
      "metadata": {
        "colab": {
          "base_uri": "https://localhost:8080/",
          "height": 317
        },
        "id": "integrated-switzerland",
        "outputId": "a56085b6-3f98-4357-ae1f-67f230478d24"
      },
      "source": [
        "data=data.dropna()\n",
        "# data_columns=list(data.columns.values.tolist())\n",
        "data=data[data.notnull()]\n",
        "data=data.reset_index()\n",
        "data=data.sample(frac=0.1)\n",
        "data.describe()"
      ],
      "id": "integrated-switzerland",
      "execution_count": 56,
      "outputs": [
        {
          "output_type": "execute_result",
          "data": {
            "text/html": [
              "<div>\n",
              "<style scoped>\n",
              "    .dataframe tbody tr th:only-of-type {\n",
              "        vertical-align: middle;\n",
              "    }\n",
              "\n",
              "    .dataframe tbody tr th {\n",
              "        vertical-align: top;\n",
              "    }\n",
              "\n",
              "    .dataframe thead th {\n",
              "        text-align: right;\n",
              "    }\n",
              "</style>\n",
              "<table border=\"1\" class=\"dataframe\">\n",
              "  <thead>\n",
              "    <tr style=\"text-align: right;\">\n",
              "      <th></th>\n",
              "      <th>index</th>\n",
              "      <th>male</th>\n",
              "      <th>age</th>\n",
              "      <th>education</th>\n",
              "      <th>currentSmoker</th>\n",
              "      <th>cigsPerDay</th>\n",
              "      <th>BPMeds</th>\n",
              "      <th>prevalentStroke</th>\n",
              "      <th>prevalentHyp</th>\n",
              "      <th>diabetes</th>\n",
              "      <th>totChol</th>\n",
              "      <th>sysBP</th>\n",
              "      <th>diaBP</th>\n",
              "      <th>BMI</th>\n",
              "      <th>heartRate</th>\n",
              "      <th>glucose</th>\n",
              "      <th>TenYearCHD</th>\n",
              "    </tr>\n",
              "  </thead>\n",
              "  <tbody>\n",
              "    <tr>\n",
              "      <th>count</th>\n",
              "      <td>366.000000</td>\n",
              "      <td>366.000000</td>\n",
              "      <td>366.000000</td>\n",
              "      <td>366.000000</td>\n",
              "      <td>366.000000</td>\n",
              "      <td>366.000000</td>\n",
              "      <td>366.000000</td>\n",
              "      <td>366.000000</td>\n",
              "      <td>366.000000</td>\n",
              "      <td>366.000000</td>\n",
              "      <td>366.000000</td>\n",
              "      <td>366.000000</td>\n",
              "      <td>366.000000</td>\n",
              "      <td>366.000000</td>\n",
              "      <td>366.000000</td>\n",
              "      <td>366.000000</td>\n",
              "      <td>366.000000</td>\n",
              "    </tr>\n",
              "    <tr>\n",
              "      <th>mean</th>\n",
              "      <td>2127.065574</td>\n",
              "      <td>0.442623</td>\n",
              "      <td>49.827869</td>\n",
              "      <td>2.000000</td>\n",
              "      <td>0.527322</td>\n",
              "      <td>9.833333</td>\n",
              "      <td>0.035519</td>\n",
              "      <td>0.008197</td>\n",
              "      <td>0.341530</td>\n",
              "      <td>0.030055</td>\n",
              "      <td>238.762295</td>\n",
              "      <td>133.214481</td>\n",
              "      <td>82.796448</td>\n",
              "      <td>25.423443</td>\n",
              "      <td>75.016393</td>\n",
              "      <td>81.827869</td>\n",
              "      <td>0.193989</td>\n",
              "    </tr>\n",
              "    <tr>\n",
              "      <th>std</th>\n",
              "      <td>1196.596287</td>\n",
              "      <td>0.497377</td>\n",
              "      <td>8.573319</td>\n",
              "      <td>1.044227</td>\n",
              "      <td>0.499936</td>\n",
              "      <td>12.171248</td>\n",
              "      <td>0.185341</td>\n",
              "      <td>0.090287</td>\n",
              "      <td>0.474872</td>\n",
              "      <td>0.170971</td>\n",
              "      <td>48.428519</td>\n",
              "      <td>21.187449</td>\n",
              "      <td>11.620611</td>\n",
              "      <td>3.442110</td>\n",
              "      <td>11.946445</td>\n",
              "      <td>20.741604</td>\n",
              "      <td>0.395962</td>\n",
              "    </tr>\n",
              "    <tr>\n",
              "      <th>min</th>\n",
              "      <td>24.000000</td>\n",
              "      <td>0.000000</td>\n",
              "      <td>35.000000</td>\n",
              "      <td>1.000000</td>\n",
              "      <td>0.000000</td>\n",
              "      <td>0.000000</td>\n",
              "      <td>0.000000</td>\n",
              "      <td>0.000000</td>\n",
              "      <td>0.000000</td>\n",
              "      <td>0.000000</td>\n",
              "      <td>148.000000</td>\n",
              "      <td>94.000000</td>\n",
              "      <td>54.000000</td>\n",
              "      <td>16.920000</td>\n",
              "      <td>50.000000</td>\n",
              "      <td>50.000000</td>\n",
              "      <td>0.000000</td>\n",
              "    </tr>\n",
              "    <tr>\n",
              "      <th>25%</th>\n",
              "      <td>1089.500000</td>\n",
              "      <td>0.000000</td>\n",
              "      <td>42.000000</td>\n",
              "      <td>1.000000</td>\n",
              "      <td>0.000000</td>\n",
              "      <td>0.000000</td>\n",
              "      <td>0.000000</td>\n",
              "      <td>0.000000</td>\n",
              "      <td>0.000000</td>\n",
              "      <td>0.000000</td>\n",
              "      <td>208.000000</td>\n",
              "      <td>117.500000</td>\n",
              "      <td>74.250000</td>\n",
              "      <td>23.062500</td>\n",
              "      <td>67.000000</td>\n",
              "      <td>72.000000</td>\n",
              "      <td>0.000000</td>\n",
              "    </tr>\n",
              "    <tr>\n",
              "      <th>50%</th>\n",
              "      <td>2180.000000</td>\n",
              "      <td>0.000000</td>\n",
              "      <td>49.000000</td>\n",
              "      <td>2.000000</td>\n",
              "      <td>1.000000</td>\n",
              "      <td>3.000000</td>\n",
              "      <td>0.000000</td>\n",
              "      <td>0.000000</td>\n",
              "      <td>0.000000</td>\n",
              "      <td>0.000000</td>\n",
              "      <td>233.500000</td>\n",
              "      <td>129.000000</td>\n",
              "      <td>82.000000</td>\n",
              "      <td>25.170000</td>\n",
              "      <td>75.000000</td>\n",
              "      <td>78.000000</td>\n",
              "      <td>0.000000</td>\n",
              "    </tr>\n",
              "    <tr>\n",
              "      <th>75%</th>\n",
              "      <td>3180.000000</td>\n",
              "      <td>1.000000</td>\n",
              "      <td>56.000000</td>\n",
              "      <td>3.000000</td>\n",
              "      <td>1.000000</td>\n",
              "      <td>20.000000</td>\n",
              "      <td>0.000000</td>\n",
              "      <td>0.000000</td>\n",
              "      <td>1.000000</td>\n",
              "      <td>0.000000</td>\n",
              "      <td>261.000000</td>\n",
              "      <td>146.000000</td>\n",
              "      <td>90.000000</td>\n",
              "      <td>27.475000</td>\n",
              "      <td>80.750000</td>\n",
              "      <td>86.000000</td>\n",
              "      <td>0.000000</td>\n",
              "    </tr>\n",
              "    <tr>\n",
              "      <th>max</th>\n",
              "      <td>4210.000000</td>\n",
              "      <td>1.000000</td>\n",
              "      <td>68.000000</td>\n",
              "      <td>4.000000</td>\n",
              "      <td>1.000000</td>\n",
              "      <td>60.000000</td>\n",
              "      <td>1.000000</td>\n",
              "      <td>1.000000</td>\n",
              "      <td>1.000000</td>\n",
              "      <td>1.000000</td>\n",
              "      <td>464.000000</td>\n",
              "      <td>200.000000</td>\n",
              "      <td>120.000000</td>\n",
              "      <td>38.140000</td>\n",
              "      <td>130.000000</td>\n",
              "      <td>274.000000</td>\n",
              "      <td>1.000000</td>\n",
              "    </tr>\n",
              "  </tbody>\n",
              "</table>\n",
              "</div>"
            ],
            "text/plain": [
              "             index        male         age  ...   heartRate     glucose  TenYearCHD\n",
              "count   366.000000  366.000000  366.000000  ...  366.000000  366.000000  366.000000\n",
              "mean   2127.065574    0.442623   49.827869  ...   75.016393   81.827869    0.193989\n",
              "std    1196.596287    0.497377    8.573319  ...   11.946445   20.741604    0.395962\n",
              "min      24.000000    0.000000   35.000000  ...   50.000000   50.000000    0.000000\n",
              "25%    1089.500000    0.000000   42.000000  ...   67.000000   72.000000    0.000000\n",
              "50%    2180.000000    0.000000   49.000000  ...   75.000000   78.000000    0.000000\n",
              "75%    3180.000000    1.000000   56.000000  ...   80.750000   86.000000    0.000000\n",
              "max    4210.000000    1.000000   68.000000  ...  130.000000  274.000000    1.000000\n",
              "\n",
              "[8 rows x 17 columns]"
            ]
          },
          "metadata": {
            "tags": []
          },
          "execution_count": 56
        }
      ]
    },
    {
      "cell_type": "code",
      "metadata": {
        "id": "olympic-publisher"
      },
      "source": [
        "y=data[\"TenYearCHD\"]\n",
        "X=data.drop('TenYearCHD',axis=1)"
      ],
      "id": "olympic-publisher",
      "execution_count": 57,
      "outputs": []
    },
    {
      "cell_type": "code",
      "metadata": {
        "colab": {
          "base_uri": "https://localhost:8080/"
        },
        "id": "efficient-racing",
        "outputId": "f2b147e6-3a09-400b-9614-ed87abaa671c"
      },
      "source": [
        "# X = TSNE(n_components=2).fit_transform(X)\n",
        "pca = PCA(n_components=3)\n",
        "pca.fit(X)"
      ],
      "id": "efficient-racing",
      "execution_count": 58,
      "outputs": [
        {
          "output_type": "execute_result",
          "data": {
            "text/plain": [
              "PCA(copy=True, iterated_power='auto', n_components=3, random_state=None,\n",
              "    svd_solver='auto', tol=0.0, whiten=False)"
            ]
          },
          "metadata": {
            "tags": []
          },
          "execution_count": 58
        }
      ]
    },
    {
      "cell_type": "code",
      "metadata": {
        "colab": {
          "base_uri": "https://localhost:8080/"
        },
        "id": "7Pe1LWBfZoDh",
        "outputId": "dc976490-e85b-4df8-cffe-5cd870be2364"
      },
      "source": [
        "len(y_a[y_a == 0]) , len(y_a[y_a == 1])"
      ],
      "id": "7Pe1LWBfZoDh",
      "execution_count": 59,
      "outputs": [
        {
          "output_type": "execute_result",
          "data": {
            "text/plain": [
              "(315, 315)"
            ]
          },
          "metadata": {
            "tags": []
          },
          "execution_count": 59
        }
      ]
    },
    {
      "cell_type": "code",
      "metadata": {
        "id": "accomplished-parade"
      },
      "source": [
        "X_reduced=pca.transform(X)\n",
        "smt = SMOTE()\n",
        "X_a, y_a = smt.fit_sample(X_reduced, y)\n",
        "X_train, X_test, y_train, y_test = train_test_split(X_a, y_a, test_size=0.20, random_state = 200)"
      ],
      "id": "accomplished-parade",
      "execution_count": 60,
      "outputs": []
    },
    {
      "cell_type": "code",
      "metadata": {
        "id": "continent-colon"
      },
      "source": [
        "scaler = StandardScaler()\n",
        "X_train = scaler.fit_transform(X_train)\n",
        "X_test = scaler.transform(X_test)"
      ],
      "id": "continent-colon",
      "execution_count": 61,
      "outputs": []
    },
    {
      "cell_type": "code",
      "metadata": {
        "colab": {
          "base_uri": "https://localhost:8080/",
          "height": 646
        },
        "id": "active-seating",
        "outputId": "362f518c-fc17-41bb-b1dc-2da6c222cea4"
      },
      "source": [
        "# print data distribution after dimentionality reduction\n",
        "plotRed3d(X_train,y_train)"
      ],
      "id": "active-seating",
      "execution_count": 62,
      "outputs": [
        {
          "output_type": "display_data",
          "data": {
            "image/png": "[encoded data removed]",
            "text/plain": [
              "<Figure size 720x720 with 1 Axes>"
            ]
          },
          "metadata": {
            "tags": [],
            "needs_background": "light"
          }
        }
      ]
    },
    {
      "cell_type": "code",
      "metadata": {
        "id": "acceptable-lease"
      },
      "source": [
        "f_beta = make_scorer(fbeta_score, beta=4, average='weighted',zero_division=0)\n",
        "# f_beta = make_scorer(fbeta_score, beta=2, average='weighted',zero_division=0)"
      ],
      "id": "acceptable-lease",
      "execution_count": 63,
      "outputs": []
    },
    {
      "cell_type": "code",
      "metadata": {
        "id": "based-browser"
      },
      "source": [
        ""
      ],
      "id": "based-browser",
      "execution_count": 63,
      "outputs": []
    },
    {
      "cell_type": "code",
      "metadata": {
        "id": "major-found"
      },
      "source": [
        "# Criacao de grid para a Random Forest Classifier\n",
        "max_depth = [int(x) for x in np.linspace(5, 100, num = 5)]\n",
        "max_depth.append(None)\n",
        "\n",
        "grid_rfc = {\n",
        "    'n_estimators': [int(x) for x in np.linspace(start = 50, stop = 500, num = 11)],\n",
        "    'criterion': ['gini','entropy'],\n",
        "    'max_features': ['auto', 'sqrt', 'log2', None],\n",
        "    'max_depth': max_depth,\n",
        "    'min_samples_split': [2, 4],\n",
        "    'min_samples_leaf': [1, 2, 4],\n",
        "    'bootstrap': [True, False]\n",
        "}"
      ],
      "id": "major-found",
      "execution_count": 64,
      "outputs": []
    },
    {
      "cell_type": "code",
      "metadata": {
        "id": "informational-treasurer"
      },
      "source": [
        "clf_rfc = RandomForestClassifier()"
      ],
      "id": "informational-treasurer",
      "execution_count": 65,
      "outputs": []
    },
    {
      "cell_type": "code",
      "metadata": {
        "colab": {
          "base_uri": "https://localhost:8080/"
        },
        "id": "documented-travel",
        "outputId": "78252296-df61-4ffc-f527-a6b96573489c"
      },
      "source": [
        "#  Random search of parameters. Uses our shuffle selection cross validation, \n",
        "#  and search across \"n_iter\" different (shuffle) combinations, and use all available cores\n",
        "rfc_search = RandomizedSearchCV(estimator = clf_rfc, param_distributions = grid_rfc, \n",
        "                               n_iter = 20, cv = 5, random_state=200, scoring=f_beta)\n",
        "\n",
        "rfc_search.fit(X_train, y_train)\n",
        "rfc_search.best_params_"
      ],
      "id": "documented-travel",
      "execution_count": 66,
      "outputs": [
        {
          "output_type": "execute_result",
          "data": {
            "text/plain": [
              "{'bootstrap': False,\n",
              " 'criterion': 'gini',\n",
              " 'max_depth': 5,\n",
              " 'max_features': 'auto',\n",
              " 'min_samples_leaf': 4,\n",
              " 'min_samples_split': 2,\n",
              " 'n_estimators': 185}"
            ]
          },
          "metadata": {
            "tags": []
          },
          "execution_count": 66
        }
      ]
    },
    {
      "cell_type": "code",
      "metadata": {
        "colab": {
          "base_uri": "https://localhost:8080/"
        },
        "id": "aquatic-floor",
        "outputId": "5b148576-8d39-42ca-aff2-ccd3f46ae043"
      },
      "source": [
        "rfc_search.best_score_"
      ],
      "id": "aquatic-floor",
      "execution_count": 67,
      "outputs": [
        {
          "output_type": "execute_result",
          "data": {
            "text/plain": [
              "0.7243531661289329"
            ]
          },
          "metadata": {
            "tags": []
          },
          "execution_count": 67
        }
      ]
    },
    {
      "cell_type": "code",
      "metadata": {
        "id": "lesbian-brooklyn"
      },
      "source": [
        "best_clf_rfc = rfc_search.best_estimator_\n",
        "# print_val_scores(best_clf_rfc, X_train, y_train)"
      ],
      "id": "lesbian-brooklyn",
      "execution_count": 68,
      "outputs": []
    },
    {
      "cell_type": "code",
      "metadata": {
        "colab": {
          "base_uri": "https://localhost:8080/"
        },
        "id": "instant-chambers",
        "outputId": "da337319-f2ff-43c9-de71-300fea97fa43"
      },
      "source": [
        "print_val_custom_score(best_clf_rfc, X_train, y_train,f_beta)"
      ],
      "id": "instant-chambers",
      "execution_count": 69,
      "outputs": [
        {
          "output_type": "stream",
          "text": [
            "Classification report for classifier RandomForestClassifier(bootstrap=False, ccp_alpha=0.0, class_weight=None,\n",
            "                       criterion='gini', max_depth=5, max_features='auto',\n",
            "                       max_leaf_nodes=None, max_samples=None,\n",
            "                       min_impurity_decrease=0.0, min_impurity_split=None,\n",
            "                       min_samples_leaf=4, min_samples_split=2,\n",
            "                       min_weight_fraction_leaf=0.0, n_estimators=185,\n",
            "                       n_jobs=None, oob_score=False, random_state=None,\n",
            "                       verbose=0, warm_start=False):\n",
            "parameters:\n",
            "\n",
            "make_scorer(fbeta_score, beta=4, average=weighted, zero_division=0)\n",
            "mean: 0.7283626029472049, std deviation: 0.042270481589269965\n",
            "\n",
            "\n"
          ],
          "name": "stdout"
        }
      ]
    },
    {
      "cell_type": "markdown",
      "metadata": {
        "id": "sweet-reaction"
      },
      "source": [
        "SVM implementarion"
      ],
      "id": "sweet-reaction"
    },
    {
      "cell_type": "code",
      "metadata": {
        "id": "double-motorcycle"
      },
      "source": [
        ""
      ],
      "id": "double-motorcycle",
      "execution_count": 69,
      "outputs": []
    },
    {
      "cell_type": "code",
      "metadata": {
        "id": "likely-russian"
      },
      "source": [
        "clf_svm = make_pipeline(StandardScaler(), SVC())\n",
        "# print(pprint(clf_svm.get_params() ))"
      ],
      "id": "likely-russian",
      "execution_count": 70,
      "outputs": []
    },
    {
      "cell_type": "code",
      "metadata": {
        "id": "funky-circular"
      },
      "source": [
        "# https://scikit-learn.org/stable/modules/generated/sklearn.svm.SVC.html\n",
        "\n",
        "C = [float(x) for x in np.linspace(start = 0.1, stop = 150.0, num = 10).astype(float)]\n",
        "class_weight=['balanced', None]\n",
        "kernel = ['linear', 'poly', 'rbf','sigmoid']\n",
        "gamma = ['scale', 'auto']\n",
        "decision_function_shape = ['ovo','ovr']\n",
        "shrinking = [True, False]\n",
        "\n",
        "grid_svm = {'svc__C': C,\n",
        "                   'svc__kernel': kernel,\n",
        "                   'svc__gamma': gamma,\n",
        "                   'svc__class_weight':class_weight,\n",
        "                   'svc__decision_function_shape': decision_function_shape,\n",
        "                   'svc__shrinking': shrinking,\n",
        "                   'svc__probability': [True]\n",
        "           }\n",
        "# pprint(grid_svm)"
      ],
      "id": "funky-circular",
      "execution_count": 71,
      "outputs": []
    },
    {
      "cell_type": "code",
      "metadata": {
        "colab": {
          "base_uri": "https://localhost:8080/"
        },
        "id": "under-morrison",
        "outputId": "63ed5706-5ac8-4147-985e-4b6ec0bcdb84"
      },
      "source": [
        "svm_search = RandomizedSearchCV(estimator = clf_svm, param_distributions = grid_svm, \n",
        "                               n_iter = 20, cv = 5, random_state=200, scoring=f_beta)\n",
        "\n",
        "svm_search.fit(X_train, y_train)\n",
        "svm_search.best_params_"
      ],
      "id": "under-morrison",
      "execution_count": 72,
      "outputs": [
        {
          "output_type": "execute_result",
          "data": {
            "text/plain": [
              "{'svc__C': 33.41111111111111,\n",
              " 'svc__class_weight': 'balanced',\n",
              " 'svc__decision_function_shape': 'ovo',\n",
              " 'svc__gamma': 'auto',\n",
              " 'svc__kernel': 'rbf',\n",
              " 'svc__probability': True,\n",
              " 'svc__shrinking': False}"
            ]
          },
          "metadata": {
            "tags": []
          },
          "execution_count": 72
        }
      ]
    },
    {
      "cell_type": "code",
      "metadata": {
        "colab": {
          "base_uri": "https://localhost:8080/"
        },
        "id": "broadband-genius",
        "outputId": "3894771b-c598-49d1-a1a5-17a0f8ce4838"
      },
      "source": [
        "best_clf_svm = svm_search.best_estimator_\n",
        "svm_search.best_score_\n",
        "print_val_custom_score(best_clf_svm,X_train,y_train,f_beta)"
      ],
      "id": "broadband-genius",
      "execution_count": 73,
      "outputs": [
        {
          "output_type": "stream",
          "text": [
            "Classification report for classifier Pipeline(memory=None,\n",
            "         steps=[('standardscaler',\n",
            "                 StandardScaler(copy=True, with_mean=True, with_std=True)),\n",
            "                ('svc',\n",
            "                 SVC(C=33.41111111111111, break_ties=False, cache_size=200,\n",
            "                     class_weight='balanced', coef0=0.0,\n",
            "                     decision_function_shape='ovo', degree=3, gamma='auto',\n",
            "                     kernel='rbf', max_iter=-1, probability=True,\n",
            "                     random_state=None, shrinking=False, tol=0.001,\n",
            "                     verbose=False))],\n",
            "         verbose=False):\n",
            "parameters:\n",
            "\n",
            "make_scorer(fbeta_score, beta=4, average=weighted, zero_division=0)\n",
            "mean: 0.6893520110571989, std deviation: 0.040429900503727134\n",
            "\n",
            "\n"
          ],
          "name": "stdout"
        }
      ]
    },
    {
      "cell_type": "code",
      "metadata": {
        "id": "nuclear-mouse"
      },
      "source": [
        "#print_val_scores(best_clf_svm,X_train,y_train)"
      ],
      "id": "nuclear-mouse",
      "execution_count": 74,
      "outputs": []
    },
    {
      "cell_type": "code",
      "metadata": {
        "id": "undefined-momentum"
      },
      "source": [
        ""
      ],
      "id": "undefined-momentum",
      "execution_count": 74,
      "outputs": []
    },
    {
      "cell_type": "code",
      "metadata": {
        "id": "rotary-grenada"
      },
      "source": [
        "# https://scikit-learn.org/stable/modules/generated/sklearn.svm.SVC.html\n",
        "var_smoothing = [float(1/10**x) for x in np.linspace(start=1,stop=15,num=16)]\n",
        "\n",
        "grid_nb = {\n",
        "    'var_smoothing': var_smoothing\n",
        "}\n",
        "# pprint(grid_nb)"
      ],
      "id": "rotary-grenada",
      "execution_count": 75,
      "outputs": []
    },
    {
      "cell_type": "code",
      "metadata": {
        "colab": {
          "base_uri": "https://localhost:8080/"
        },
        "id": "automated-corrections",
        "outputId": "6f3b7cae-c559-47a6-cbaa-0de9a867f713"
      },
      "source": [
        "clf_nb = GaussianNB()\n",
        "nb_search = GridSearchCV(estimator = clf_nb, param_grid = grid_nb, \n",
        "                         cv = 5, scoring=f_beta)\n",
        "nb_search.fit(X_train, y_train)\n",
        "nb_search.best_params_"
      ],
      "id": "automated-corrections",
      "execution_count": 76,
      "outputs": [
        {
          "output_type": "execute_result",
          "data": {
            "text/plain": [
              "{'var_smoothing': 0.0013593563908785257}"
            ]
          },
          "metadata": {
            "tags": []
          },
          "execution_count": 76
        }
      ]
    },
    {
      "cell_type": "code",
      "metadata": {
        "colab": {
          "base_uri": "https://localhost:8080/"
        },
        "id": "antique-cycle",
        "outputId": "12efed8b-b30e-4eeb-f229-86f59fba6632"
      },
      "source": [
        "best_clf_nb = nb_search.best_estimator_\n",
        "nb_search.best_score_\n",
        "print_val_custom_score(best_clf_nb,X_train,y_train,f_beta)"
      ],
      "id": "antique-cycle",
      "execution_count": 77,
      "outputs": [
        {
          "output_type": "stream",
          "text": [
            "Classification report for classifier GaussianNB(priors=None, var_smoothing=0.0013593563908785257):\n",
            "parameters:\n",
            "\n",
            "make_scorer(fbeta_score, beta=4, average=weighted, zero_division=0)\n",
            "mean: 0.645090414719482, std deviation: 0.051347533854316216\n",
            "\n",
            "\n"
          ],
          "name": "stdout"
        }
      ]
    },
    {
      "cell_type": "code",
      "metadata": {
        "id": "heated-corner"
      },
      "source": [
        ""
      ],
      "id": "heated-corner",
      "execution_count": 77,
      "outputs": []
    },
    {
      "cell_type": "code",
      "metadata": {
        "id": "behind-tattoo"
      },
      "source": [
        "#https://scikit-learn.org/stable/modules/generated/sklearn.linear_model.LogisticRegression.html\n",
        "\n",
        "C=[float(x) for x in np.linspace(start=0.1,stop=3,num=21)]\n",
        "grid_lr = {\n",
        "    'C': C,\n",
        "    'n_jobs': [None, -1],\n",
        "    'multi_class': ['auto', 'ovr', 'multinomial'],\n",
        "    'warm_start': [False,True]\n",
        "}\n",
        "# pprint(grid_lr)"
      ],
      "id": "behind-tattoo",
      "execution_count": 78,
      "outputs": []
    },
    {
      "cell_type": "code",
      "metadata": {
        "colab": {
          "base_uri": "https://localhost:8080/"
        },
        "id": "alone-consortium",
        "outputId": "70f91436-be32-4de3-8f2e-1c68ecddada9"
      },
      "source": [
        "clf_lr = LogisticRegression()\n",
        "# print(RandomizedSearchCV(estimator = clf_lr, param_distributions = grid_lr, n_iter=20,\n",
        "#                         cv = 5, scoring=f_beta).estimator.get_params().keys())\n",
        "\n",
        "lr_search = RandomizedSearchCV(estimator = clf_lr, param_distributions=grid_lr, \n",
        "                                 n_iter=20, cv = 5, scoring=f_beta)\n",
        "lr_search.fit(X_train, y_train)\n",
        "lr_search.best_params_"
      ],
      "id": "alone-consortium",
      "execution_count": 79,
      "outputs": [
        {
          "output_type": "execute_result",
          "data": {
            "text/plain": [
              "{'C': 1.26, 'multi_class': 'multinomial', 'n_jobs': -1, 'warm_start': False}"
            ]
          },
          "metadata": {
            "tags": []
          },
          "execution_count": 79
        }
      ]
    },
    {
      "cell_type": "code",
      "metadata": {
        "colab": {
          "base_uri": "https://localhost:8080/"
        },
        "id": "sporting-chaos",
        "outputId": "3430dba0-4d43-4aa4-c922-7fff027b0012"
      },
      "source": [
        "best_clf_lr = lr_search.best_estimator_\n",
        "lr_search.best_score_\n",
        "print_val_custom_score(best_clf_lr,X_train,y_train,f_beta)"
      ],
      "id": "sporting-chaos",
      "execution_count": 80,
      "outputs": [
        {
          "output_type": "stream",
          "text": [
            "Classification report for classifier LogisticRegression(C=1.26, class_weight=None, dual=False, fit_intercept=True,\n",
            "                   intercept_scaling=1, l1_ratio=None, max_iter=100,\n",
            "                   multi_class='multinomial', n_jobs=-1, penalty='l2',\n",
            "                   random_state=None, solver='lbfgs', tol=0.0001, verbose=0,\n",
            "                   warm_start=False):\n",
            "parameters:\n",
            "\n",
            "make_scorer(fbeta_score, beta=4, average=weighted, zero_division=0)\n",
            "mean: 0.6458658038448154, std deviation: 0.060284293935606074\n",
            "\n",
            "\n"
          ],
          "name": "stdout"
        }
      ]
    },
    {
      "cell_type": "code",
      "metadata": {
        "id": "uniform-greene"
      },
      "source": [
        ""
      ],
      "id": "uniform-greene",
      "execution_count": 80,
      "outputs": []
    },
    {
      "cell_type": "code",
      "metadata": {
        "id": "optical-consensus"
      },
      "source": [
        ""
      ],
      "id": "optical-consensus",
      "execution_count": 80,
      "outputs": []
    },
    {
      "cell_type": "code",
      "metadata": {
        "id": "oriented-berlin"
      },
      "source": [
        ""
      ],
      "id": "oriented-berlin",
      "execution_count": 80,
      "outputs": []
    },
    {
      "cell_type": "code",
      "metadata": {
        "id": "convenient-defeat"
      },
      "source": [
        ""
      ],
      "id": "convenient-defeat",
      "execution_count": 80,
      "outputs": []
    },
    {
      "cell_type": "code",
      "metadata": {
        "id": "appropriate-consciousness"
      },
      "source": [
        "clf_lr = best_clf_lr \n",
        "clf_rfc = best_clf_rfc\n",
        "clf_nb = best_clf_nb\n",
        "clf_svm = best_clf_svm"
      ],
      "id": "appropriate-consciousness",
      "execution_count": 81,
      "outputs": []
    },
    {
      "cell_type": "code",
      "metadata": {
        "colab": {
          "base_uri": "https://localhost:8080/"
        },
        "id": "secret-summary",
        "outputId": "cb3f7c3c-1a87-4877-b3a7-8e9ee87b8a9b"
      },
      "source": [
        "print('5 fold cross-validation')\n",
        "\n",
        "labels = ['Logistic Regression','Random Forest Classsifier', 'Naive Bayes', 'SVM']\n",
        "for clf, label in zip([clf_lr, clf_rfc,clf_nb, clf_svm], labels):\n",
        "\n",
        "    scores = cross_val_score(clf, X_train, y_train,\n",
        "                             cv=5, scoring=f_beta)\n",
        "\n",
        "    print(\"f2 Validation: %0.3f (+/- %0.3f) [%s]\" % (np.mean(scores), np.std(scores), label))"
      ],
      "id": "secret-summary",
      "execution_count": 82,
      "outputs": [
        {
          "output_type": "stream",
          "text": [
            "5 fold cross-validation\n",
            "f2 Validation: 0.646 (+/- 0.053) [Logistic Regression]\n",
            "f2 Validation: 0.718 (+/- 0.045) [Random Forest Classsifier]\n",
            "f2 Validation: 0.639 (+/- 0.040) [Naive Bayes]\n",
            "f2 Validation: 0.700 (+/- 0.055) [SVM]\n"
          ],
          "name": "stdout"
        }
      ]
    },
    {
      "cell_type": "code",
      "metadata": {
        "id": "baking-snapshot"
      },
      "source": [
        "voting_clf_hard = VotingClassifier(estimators = [(labels[0], clf_lr),\n",
        "                                                 (labels[1], clf_rfc),\n",
        "                                                 (labels[2], clf_nb),\n",
        "                                                 (labels[3], clf_svm)],\n",
        "                                  voting='hard')"
      ],
      "id": "baking-snapshot",
      "execution_count": 83,
      "outputs": []
    },
    {
      "cell_type": "code",
      "metadata": {
        "id": "figured-spiritual"
      },
      "source": [
        "voting_clf_soft = VotingClassifier(estimators = [(labels[0], clf_lr),\n",
        "                                                 (labels[1], clf_rfc),\n",
        "                                                 (labels[2], clf_nb),\n",
        "                                                 (labels[3], clf_svm)],\n",
        "                                  voting='soft')"
      ],
      "id": "figured-spiritual",
      "execution_count": 84,
      "outputs": []
    },
    {
      "cell_type": "code",
      "metadata": {
        "colab": {
          "base_uri": "https://localhost:8080/"
        },
        "id": "reduced-dollar",
        "scrolled": false,
        "outputId": "30145d5b-b706-47a7-c4f5-b7d9f00ee182"
      },
      "source": [
        "print('5 fold cross-validation')\n",
        "\n",
        "labels = ['Logistic Regression','Random Forest Classifier', 'Naive Bayes', 'SVM', \n",
        "          'Voting Classifier - Hard', 'Voting Classifier - Soft']\n",
        "for clf, label in zip([clf_lr, clf_rfc,clf_nb, clf_svm, voting_clf_hard, voting_clf_soft], labels):\n",
        "\n",
        "    scores = cross_val_score(clf, X, y,\n",
        "                             cv=5, scoring=f_beta,error_score='raise')\n",
        "\n",
        "    print(\"f2 Validation: %0.3f (+/- %0.3f) [%s]\" % (np.mean(scores), np.std(scores), label))"
      ],
      "id": "reduced-dollar",
      "execution_count": 85,
      "outputs": [
        {
          "output_type": "stream",
          "text": [
            "5 fold cross-validation\n",
            "f2 Validation: 0.802 (+/- 0.031) [Logistic Regression]\n",
            "f2 Validation: 0.791 (+/- 0.022) [Random Forest Classifier]\n",
            "f2 Validation: 0.804 (+/- 0.011) [Naive Bayes]\n",
            "f2 Validation: 0.761 (+/- 0.026) [SVM]\n",
            "f2 Validation: 0.798 (+/- 0.009) [Voting Classifier - Hard]\n",
            "f2 Validation: 0.795 (+/- 0.005) [Voting Classifier - Soft]\n"
          ],
          "name": "stdout"
        }
      ]
    },
    {
      "cell_type": "code",
      "metadata": {
        "id": "recorded-partner"
      },
      "source": [
        ""
      ],
      "id": "recorded-partner",
      "execution_count": 85,
      "outputs": []
    },
    {
      "cell_type": "code",
      "metadata": {
        "id": "cutting-afghanistan"
      },
      "source": [
        ""
      ],
      "id": "cutting-afghanistan",
      "execution_count": 85,
      "outputs": []
    },
    {
      "cell_type": "code",
      "metadata": {
        "id": "willing-support"
      },
      "source": [
        ""
      ],
      "id": "willing-support",
      "execution_count": 85,
      "outputs": []
    },
    {
      "cell_type": "code",
      "metadata": {
        "colab": {
          "base_uri": "https://localhost:8080/"
        },
        "id": "norman-continent",
        "outputId": "6656688c-4a51-42e4-fa7e-18aee658fc16"
      },
      "source": [
        "print(clf_lr)\n",
        "print(clf_nb)\n",
        "print(clf_rfc)\n",
        "print(clf_svm)"
      ],
      "id": "norman-continent",
      "execution_count": 86,
      "outputs": [
        {
          "output_type": "stream",
          "text": [
            "LogisticRegression(C=1.26, class_weight=None, dual=False, fit_intercept=True,\n",
            "                   intercept_scaling=1, l1_ratio=None, max_iter=100,\n",
            "                   multi_class='multinomial', n_jobs=-1, penalty='l2',\n",
            "                   random_state=None, solver='lbfgs', tol=0.0001, verbose=0,\n",
            "                   warm_start=False)\n",
            "GaussianNB(priors=None, var_smoothing=0.0013593563908785257)\n",
            "RandomForestClassifier(bootstrap=False, ccp_alpha=0.0, class_weight=None,\n",
            "                       criterion='gini', max_depth=5, max_features='auto',\n",
            "                       max_leaf_nodes=None, max_samples=None,\n",
            "                       min_impurity_decrease=0.0, min_impurity_split=None,\n",
            "                       min_samples_leaf=4, min_samples_split=2,\n",
            "                       min_weight_fraction_leaf=0.0, n_estimators=185,\n",
            "                       n_jobs=None, oob_score=False, random_state=None,\n",
            "                       verbose=0, warm_start=False)\n",
            "Pipeline(memory=None,\n",
            "         steps=[('standardscaler',\n",
            "                 StandardScaler(copy=True, with_mean=True, with_std=True)),\n",
            "                ('svc',\n",
            "                 SVC(C=33.41111111111111, break_ties=False, cache_size=200,\n",
            "                     class_weight='balanced', coef0=0.0,\n",
            "                     decision_function_shape='ovo', degree=3, gamma='auto',\n",
            "                     kernel='rbf', max_iter=-1, probability=True,\n",
            "                     random_state=None, shrinking=False, tol=0.001,\n",
            "                     verbose=False))],\n",
            "         verbose=False)\n"
          ],
          "name": "stdout"
        }
      ]
    },
    {
      "cell_type": "code",
      "metadata": {
        "id": "valid-congress",
        "colab": {
          "base_uri": "https://localhost:8080/",
          "height": 1000
        },
        "outputId": "e4ebbd2a-fec6-49ae-f88a-e7e07c4ea23c"
      },
      "source": [
        "for clf, label in zip([clf_lr, clf_rfc,clf_nb, clf_svm, voting_clf_hard, voting_clf_soft], labels):\n",
        "    clf.fit(X_train,y_train)\n",
        "    prediction = clf.predict(X_test)\n",
        "    print_metrics(clf,X_test,y_test,prediction)"
      ],
      "id": "valid-congress",
      "execution_count": 87,
      "outputs": [
        {
          "output_type": "stream",
          "text": [
            "Classification report for classifier LogisticRegression(C=1.26, class_weight=None, dual=False, fit_intercept=True,\n",
            "                   intercept_scaling=1, l1_ratio=None, max_iter=100,\n",
            "                   multi_class='multinomial', n_jobs=-1, penalty='l2',\n",
            "                   random_state=None, solver='lbfgs', tol=0.0001, verbose=0,\n",
            "                   warm_start=False):\n",
            "              precision    recall  f1-score   support\n",
            "\n",
            "           0       0.63      0.83      0.72        52\n",
            "           1       0.82      0.62      0.71        66\n",
            "\n",
            "    accuracy                           0.71       118\n",
            "   macro avg       0.73      0.72      0.71       118\n",
            "weighted avg       0.74      0.71      0.71       118\n",
            "\n",
            "\n",
            "Classification report for classifier RandomForestClassifier(bootstrap=False, ccp_alpha=0.0, class_weight=None,\n",
            "                       criterion='gini', max_depth=5, max_features='auto',\n",
            "                       max_leaf_nodes=None, max_samples=None,\n",
            "                       min_impurity_decrease=0.0, min_impurity_split=None,\n",
            "                       min_samples_leaf=4, min_samples_split=2,\n",
            "                       min_weight_fraction_leaf=0.0, n_estimators=185,\n",
            "                       n_jobs=None, oob_score=False, random_state=None,\n",
            "                       verbose=0, warm_start=False):\n",
            "              precision    recall  f1-score   support\n",
            "\n",
            "           0       0.78      0.73      0.75        52\n",
            "           1       0.80      0.83      0.81        66\n",
            "\n",
            "    accuracy                           0.79       118\n",
            "   macro avg       0.79      0.78      0.78       118\n",
            "weighted avg       0.79      0.79      0.79       118\n",
            "\n",
            "\n",
            "Classification report for classifier GaussianNB(priors=None, var_smoothing=0.0013593563908785257):\n",
            "              precision    recall  f1-score   support\n",
            "\n",
            "           0       0.61      0.81      0.69        52\n",
            "           1       0.80      0.59      0.68        66\n",
            "\n",
            "    accuracy                           0.69       118\n",
            "   macro avg       0.70      0.70      0.69       118\n",
            "weighted avg       0.71      0.69      0.69       118\n",
            "\n",
            "\n",
            "Classification report for classifier Pipeline(memory=None,\n",
            "         steps=[('standardscaler',\n",
            "                 StandardScaler(copy=True, with_mean=True, with_std=True)),\n",
            "                ('svc',\n",
            "                 SVC(C=33.41111111111111, break_ties=False, cache_size=200,\n",
            "                     class_weight='balanced', coef0=0.0,\n",
            "                     decision_function_shape='ovo', degree=3, gamma='auto',\n",
            "                     kernel='rbf', max_iter=-1, probability=True,\n",
            "                     random_state=None, shrinking=False, tol=0.001,\n",
            "                     verbose=False))],\n",
            "         verbose=False):\n",
            "              precision    recall  f1-score   support\n",
            "\n",
            "           0       0.76      0.65      0.70        52\n",
            "           1       0.75      0.83      0.79        66\n",
            "\n",
            "    accuracy                           0.75       118\n",
            "   macro avg       0.75      0.74      0.75       118\n",
            "weighted avg       0.75      0.75      0.75       118\n",
            "\n",
            "\n",
            "Classification report for classifier VotingClassifier(estimators=[('Logistic Regression',\n",
            "                              LogisticRegression(C=1.26, class_weight=None,\n",
            "                                                 dual=False, fit_intercept=True,\n",
            "                                                 intercept_scaling=1,\n",
            "                                                 l1_ratio=None, max_iter=100,\n",
            "                                                 multi_class='multinomial',\n",
            "                                                 n_jobs=-1, penalty='l2',\n",
            "                                                 random_state=None,\n",
            "                                                 solver='lbfgs', tol=0.0001,\n",
            "                                                 verbose=0, warm_start=False)),\n",
            "                             ('Random Forest Classsifier',\n",
            "                              RandomForestClassifier(bootst...\n",
            "                                                              with_mean=True,\n",
            "                                                              with_std=True)),\n",
            "                                              ('svc',\n",
            "                                               SVC(C=33.41111111111111,\n",
            "                                                   break_ties=False,\n",
            "                                                   cache_size=200,\n",
            "                                                   class_weight='balanced',\n",
            "                                                   coef0=0.0,\n",
            "                                                   decision_function_shape='ovo',\n",
            "                                                   degree=3, gamma='auto',\n",
            "                                                   kernel='rbf', max_iter=-1,\n",
            "                                                   probability=True,\n",
            "                                                   random_state=None,\n",
            "                                                   shrinking=False, tol=0.001,\n",
            "                                                   verbose=False))],\n",
            "                                       verbose=False))],\n",
            "                 flatten_transform=True, n_jobs=None, voting='hard',\n",
            "                 weights=None):\n",
            "              precision    recall  f1-score   support\n",
            "\n",
            "           0       0.65      0.85      0.73        52\n",
            "           1       0.84      0.64      0.72        66\n",
            "\n",
            "    accuracy                           0.73       118\n",
            "   macro avg       0.74      0.74      0.73       118\n",
            "weighted avg       0.75      0.73      0.73       118\n",
            "\n",
            "\n",
            "Classification report for classifier VotingClassifier(estimators=[('Logistic Regression',\n",
            "                              LogisticRegression(C=1.26, class_weight=None,\n",
            "                                                 dual=False, fit_intercept=True,\n",
            "                                                 intercept_scaling=1,\n",
            "                                                 l1_ratio=None, max_iter=100,\n",
            "                                                 multi_class='multinomial',\n",
            "                                                 n_jobs=-1, penalty='l2',\n",
            "                                                 random_state=None,\n",
            "                                                 solver='lbfgs', tol=0.0001,\n",
            "                                                 verbose=0, warm_start=False)),\n",
            "                             ('Random Forest Classsifier',\n",
            "                              RandomForestClassifier(bootst...\n",
            "                                                              with_mean=True,\n",
            "                                                              with_std=True)),\n",
            "                                              ('svc',\n",
            "                                               SVC(C=33.41111111111111,\n",
            "                                                   break_ties=False,\n",
            "                                                   cache_size=200,\n",
            "                                                   class_weight='balanced',\n",
            "                                                   coef0=0.0,\n",
            "                                                   decision_function_shape='ovo',\n",
            "                                                   degree=3, gamma='auto',\n",
            "                                                   kernel='rbf', max_iter=-1,\n",
            "                                                   probability=True,\n",
            "                                                   random_state=None,\n",
            "                                                   shrinking=False, tol=0.001,\n",
            "                                                   verbose=False))],\n",
            "                                       verbose=False))],\n",
            "                 flatten_transform=True, n_jobs=None, voting='soft',\n",
            "                 weights=None):\n",
            "              precision    recall  f1-score   support\n",
            "\n",
            "           0       0.75      0.75      0.75        52\n",
            "           1       0.80      0.80      0.80        66\n",
            "\n",
            "    accuracy                           0.78       118\n",
            "   macro avg       0.78      0.78      0.78       118\n",
            "weighted avg       0.78      0.78      0.78       118\n",
            "\n",
            "\n"
          ],
          "name": "stdout"
        },
        {
          "output_type": "display_data",
          "data": {
            "image/png": "[encoded data removed]",
            "text/plain": [
              "<Figure size 432x288 with 2 Axes>"
            ]
          },
          "metadata": {
            "tags": [],
            "needs_background": "light"
          }
        },
        {
          "output_type": "display_data",
          "data": {
            "image/png": "[encoded data removed]",
            "text/plain": [
              "<Figure size 432x288 with 2 Axes>"
            ]
          },
          "metadata": {
            "tags": [],
            "needs_background": "light"
          }
        },
        {
          "output_type": "display_data",
          "data": {
            "image/png": "[encoded data removed]",
            "text/plain": [
              "<Figure size 432x288 with 2 Axes>"
            ]
          },
          "metadata": {
            "tags": [],
            "needs_background": "light"
          }
        },
        {
          "output_type": "display_data",
          "data": {
            "image/png": "[encoded data removed]",
            "text/plain": [
              "<Figure size 432x288 with 2 Axes>"
            ]
          },
          "metadata": {
            "tags": [],
            "needs_background": "light"
          }
        },
        {
          "output_type": "display_data",
          "data": {
            "image/png": "[encoded data removed]",
            "text/plain": [
              "<Figure size 432x288 with 2 Axes>"
            ]
          },
          "metadata": {
            "tags": [],
            "needs_background": "light"
          }
        },
        {
          "output_type": "display_data",
          "data": {
            "image/png": "[encoded data removed]",
            "text/plain": [
              "<Figure size 432x288 with 2 Axes>"
            ]
          },
          "metadata": {
            "tags": [],
            "needs_background": "light"
          }
        }
      ]
    },
    {
      "cell_type": "code",
      "metadata": {
        "id": "several-abraham"
      },
      "source": [
        ""
      ],
      "id": "several-abraham",
      "execution_count": 87,
      "outputs": []
    },
    {
      "cell_type": "code",
      "metadata": {
        "id": "capable-legislature"
      },
      "source": [
        ""
      ],
      "id": "capable-legislature",
      "execution_count": 87,
      "outputs": []
    },
    {
      "cell_type": "code",
      "metadata": {
        "id": "elegant-archives"
      },
      "source": [
        ""
      ],
      "id": "elegant-archives",
      "execution_count": 87,
      "outputs": []
    },
    {
      "cell_type": "code",
      "metadata": {
        "id": "nutritional-savings"
      },
      "source": [
        ""
      ],
      "id": "nutritional-savings",
      "execution_count": 87,
      "outputs": []
    },
    {
      "cell_type": "markdown",
      "metadata": {
        "id": "signed-delicious"
      },
      "source": [
        "Caso vc nao queira rodar tudo de novo, pode dar ctrl c+v nos grids e recuperar os melhores modelos assim:"
      ],
      "id": "signed-delicious"
    },
    {
      "cell_type": "code",
      "metadata": {
        "id": "hundred-passenger"
      },
      "source": [
        "# https://stackoverflow.com/questions/33110973/pass-a-dict-to-scikit-learn-estimator\n",
        "grid_rfc={'n_estimators': 500,\n",
        " 'min_samples_split': 2,\n",
        " 'min_samples_leaf': 4,\n",
        " 'max_features': 'sqrt',\n",
        " 'max_depth': None,\n",
        " 'criterion': 'gini',\n",
        " 'bootstrap': True}\n",
        "\n",
        "clf_rfc=RandomForestClassifier(**grid_rfc)\n",
        "\n",
        "grid_svm={'svc__shrinking': False,\n",
        " 'svc__probability': True,\n",
        " 'svc__kernel': 'rbf',\n",
        " 'svc__gamma': 'auto',\n",
        " 'svc__decision_function_shape': 'ovo',\n",
        " 'svc__class_weight': None,\n",
        " 'svc__C': 0.1}\n",
        "\n",
        "clf_svm = make_pipeline(StandardScaler(), SVC())\n",
        "clf_svm.set_params(**grid_svm)\n",
        "\n",
        "grid_nb={'var_smoothing': 0.1}\n",
        "clf_nb=GaussianNB(var_smoothing= 0.1)\n",
        "\n",
        "grid_lr={'warm_start': True, 'n_jobs': -1, 'multi_class': 'multinomial', 'C': 0.39}\n",
        "clf_lr=LogisticRegression(**grid_lr)"
      ],
      "id": "hundred-passenger",
      "execution_count": 88,
      "outputs": []
    }
  ]
}