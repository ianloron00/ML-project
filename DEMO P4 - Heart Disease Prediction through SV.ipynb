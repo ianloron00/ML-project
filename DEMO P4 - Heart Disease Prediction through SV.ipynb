{
 "cells": [
  {
   "cell_type": "code",
   "execution_count": 1,
   "id": "dressed-drove",
   "metadata": {},
   "outputs": [],
   "source": [
    "### https://www.kaggle.com/dileep070/heart-disease-prediction-using-logistic-regression\n",
    "import numpy as np\n",
    "import pandas as pd \n",
    "# classifier models:\n",
    "from sklearn.linear_model import LogisticRegression\n",
    "from sklearn.naive_bayes import GaussianNB\n",
    "from sklearn.ensemble import RandomForestClassifier\n",
    "from sklearn.ensemble import RandomForestRegressor\n",
    "from sklearn.tree import DecisionTreeClassifier\n",
    "from sklearn.neighbors import KNeighborsClassifier\n",
    "from sklearn.pipeline import make_pipeline\n",
    "from sklearn.svm import SVC\n",
    "from sklearn.ensemble import VotingClassifier\n",
    "# scaler\n",
    "from sklearn.preprocessing import StandardScaler\n",
    "# split\n",
    "from sklearn.model_selection import train_test_split\n",
    "from sklearn.model_selection import ShuffleSplit\n",
    "# matplot libs\n",
    "from mpl_toolkits import mplot3d\n",
    "import matplotlib.pyplot as plt \n",
    "# to reduction\n",
    "from sklearn.manifold import TSNE\n",
    "from sklearn.decomposition import PCA\n",
    "# scoring\n",
    "from sklearn.metrics import fbeta_score, make_scorer\n",
    "from sklearn import metrics\n",
    "from sklearn.metrics import confusion_matrix,accuracy_score,roc_curve,classification_report\n",
    "# to classification report\n",
    "from sklearn.model_selection import learning_curve\n",
    "from pprint import pprint\n",
    "from sklearn.model_selection import RandomizedSearchCV\n",
    "from sklearn.model_selection import GridSearchCV\n",
    "from sklearn.model_selection import cross_val_score\n",
    "from sklearn.model_selection import cross_validate"
   ]
  },
  {
   "cell_type": "markdown",
   "id": "psychological-benjamin",
   "metadata": {},
   "source": [
    "Abaixo, funcoes de plots (ou tentativas rs) de plotar o gráfico. O último que postei era essa primeira funcao. Este comentário será apagado em 24 horas, boa noite."
   ]
  },
  {
   "cell_type": "code",
   "execution_count": 2,
   "id": "athletic-peace",
   "metadata": {},
   "outputs": [],
   "source": [
    "def print_dim_reduced_data(samples_2d, targets):\n",
    "    target_ids = range(2)\n",
    "    colors = 'r', 'g'\n",
    "    for i, c, label in zip(target_ids, colors, targets):\n",
    "        plt.scatter(samples_2d[targets == i, 0], samples_2d[targets == i, 1], c=c, label=label)\n",
    "    plt.grid(linestyle='--')\n",
    "    plt.legend(bbox_to_anchor=(1.15, 0.725, 0, 0))\n",
    "    plt.show()\n",
    "    plt.close()"
   ]
  },
  {
   "cell_type": "code",
   "execution_count": 9,
   "id": "hawaiian-wisconsin",
   "metadata": {},
   "outputs": [],
   "source": [
    "import warnings\n",
    "# https://stackoverflow.com/questions/43162506/undefinedmetricwarning-f-score-is-ill-defined-and-being-set-to-0-0-in-labels-wi\n",
    "warnings.filterwarnings('ignore')\n",
    "\n",
    "def print_val_scores(model, X_train, y_train, scoring=['f1_weighted','f1_macro','recall_weighted',\n",
    "                                                       'precision_weighted'], \n",
    "                     cv=10):\n",
    "    _,__,f1_w,f1_m,r,p=cross_validate(model, X_train, y_train, cv=cv,\n",
    "                       scoring=scoring).items()\n",
    "    mean_f1_w = f1_w[1].mean(); sd_f1_w = f1_w[1].std()\n",
    "    mean_f1_m = f1_m[1].mean(); sd_f1_m = f1_m[1].std()\n",
    "    mean_r = r[1].mean(); sd_r = r[1].std()\n",
    "    mean_p = p[1].mean(); sd_p = p[1].std()\n",
    "    \n",
    "    print(\"Classification report for classifier {}:\\nparameters:\\n\".format(model) +\n",
    "          \"{}\\nmean: {}, std deviation: {}\\n\\n\".format(f1_w[0],mean_f1_w,sd_f1_w) +\n",
    "          \"{}\\nmean: {}, std deviation: {}\\n\\n\".format(f1_m[0],mean_f1_m,sd_f1_m) +\n",
    "          \"{}\\nmean: {}, std deviation: {}\\n\\n\".format(r[0],mean_r,sd_r) +\n",
    "          \"{}\\nmean: {}, std deviation: {}\\n\\n\".format(p[0],mean_p,sd_p))"
   ]
  },
  {
   "cell_type": "code",
   "execution_count": 10,
   "id": "final-speed",
   "metadata": {},
   "outputs": [],
   "source": [
    "def print_val_custom_score (model, X_train, y_train, \n",
    "                            scoring='f1_macro', \n",
    "                            cv=10):\n",
    "    print(\"Classification report for classifier {}:\\nparameters:\\n\".format(model))\n",
    "    \n",
    "    myReturn=cross_validate(model,X_train,y_train,cv=cv,scoring=scoring)\n",
    "    _,__,metric_score=myReturn\n",
    "    metric_score=myReturn[metric_score]\n",
    "    mean = np.mean(metric_score)\n",
    "    sd = np.std(metric_score)\n",
    "    print(\"{}\\nmean: {}, std deviation: {}\\n\\n\".format(scoring,mean,sd))"
   ]
  },
  {
   "cell_type": "code",
   "execution_count": 11,
   "id": "nutritional-skating",
   "metadata": {},
   "outputs": [],
   "source": [
    "def print_metrics(clf, X, y, prediction):\n",
    "    print(f\"Classification report for classifier {clf}:\\n\"\n",
    "          f\"{metrics.classification_report(y, prediction)}\\n\")\n",
    "    disp = metrics.plot_confusion_matrix(clf, X, y)\n",
    "    disp.figure_.suptitle(\"Confusion Matrix\")"
   ]
  },
  {
   "cell_type": "code",
   "execution_count": 12,
   "id": "mathematical-kentucky",
   "metadata": {},
   "outputs": [],
   "source": [
    "data=pd.read_csv('heart_pred.csv')\n",
    "# data.describe()"
   ]
  },
  {
   "cell_type": "markdown",
   "id": "tender-mattress",
   "metadata": {},
   "source": [
    "Retirando valores nulos e NaN"
   ]
  },
  {
   "cell_type": "code",
   "execution_count": 13,
   "id": "integrated-switzerland",
   "metadata": {},
   "outputs": [
    {
     "data": {
      "text/html": [
       "<div>\n",
       "<style scoped>\n",
       "    .dataframe tbody tr th:only-of-type {\n",
       "        vertical-align: middle;\n",
       "    }\n",
       "\n",
       "    .dataframe tbody tr th {\n",
       "        vertical-align: top;\n",
       "    }\n",
       "\n",
       "    .dataframe thead th {\n",
       "        text-align: right;\n",
       "    }\n",
       "</style>\n",
       "<table border=\"1\" class=\"dataframe\">\n",
       "  <thead>\n",
       "    <tr style=\"text-align: right;\">\n",
       "      <th></th>\n",
       "      <th>index</th>\n",
       "      <th>male</th>\n",
       "      <th>age</th>\n",
       "      <th>education</th>\n",
       "      <th>currentSmoker</th>\n",
       "      <th>cigsPerDay</th>\n",
       "      <th>BPMeds</th>\n",
       "      <th>prevalentStroke</th>\n",
       "      <th>prevalentHyp</th>\n",
       "      <th>diabetes</th>\n",
       "      <th>totChol</th>\n",
       "      <th>sysBP</th>\n",
       "      <th>diaBP</th>\n",
       "      <th>BMI</th>\n",
       "      <th>heartRate</th>\n",
       "      <th>glucose</th>\n",
       "      <th>TenYearCHD</th>\n",
       "    </tr>\n",
       "  </thead>\n",
       "  <tbody>\n",
       "    <tr>\n",
       "      <th>count</th>\n",
       "      <td>366.000000</td>\n",
       "      <td>366.000000</td>\n",
       "      <td>366.000000</td>\n",
       "      <td>366.000000</td>\n",
       "      <td>366.000000</td>\n",
       "      <td>366.000000</td>\n",
       "      <td>366.000000</td>\n",
       "      <td>366.000000</td>\n",
       "      <td>366.000000</td>\n",
       "      <td>366.000000</td>\n",
       "      <td>366.000000</td>\n",
       "      <td>366.000000</td>\n",
       "      <td>366.000000</td>\n",
       "      <td>366.000000</td>\n",
       "      <td>366.000000</td>\n",
       "      <td>366.000000</td>\n",
       "      <td>366.000000</td>\n",
       "    </tr>\n",
       "    <tr>\n",
       "      <th>mean</th>\n",
       "      <td>2137.221311</td>\n",
       "      <td>0.387978</td>\n",
       "      <td>49.898907</td>\n",
       "      <td>1.920765</td>\n",
       "      <td>0.382514</td>\n",
       "      <td>7.442623</td>\n",
       "      <td>0.024590</td>\n",
       "      <td>0.019126</td>\n",
       "      <td>0.314208</td>\n",
       "      <td>0.019126</td>\n",
       "      <td>238.614754</td>\n",
       "      <td>133.648907</td>\n",
       "      <td>82.807377</td>\n",
       "      <td>25.986393</td>\n",
       "      <td>74.942623</td>\n",
       "      <td>80.953552</td>\n",
       "      <td>0.161202</td>\n",
       "    </tr>\n",
       "    <tr>\n",
       "      <th>std</th>\n",
       "      <td>1225.679201</td>\n",
       "      <td>0.487957</td>\n",
       "      <td>8.465443</td>\n",
       "      <td>1.007781</td>\n",
       "      <td>0.486666</td>\n",
       "      <td>12.052885</td>\n",
       "      <td>0.155084</td>\n",
       "      <td>0.137154</td>\n",
       "      <td>0.464835</td>\n",
       "      <td>0.137154</td>\n",
       "      <td>44.681910</td>\n",
       "      <td>21.442126</td>\n",
       "      <td>12.304712</td>\n",
       "      <td>4.384681</td>\n",
       "      <td>11.958581</td>\n",
       "      <td>19.545956</td>\n",
       "      <td>0.368221</td>\n",
       "    </tr>\n",
       "    <tr>\n",
       "      <th>min</th>\n",
       "      <td>16.000000</td>\n",
       "      <td>0.000000</td>\n",
       "      <td>33.000000</td>\n",
       "      <td>1.000000</td>\n",
       "      <td>0.000000</td>\n",
       "      <td>0.000000</td>\n",
       "      <td>0.000000</td>\n",
       "      <td>0.000000</td>\n",
       "      <td>0.000000</td>\n",
       "      <td>0.000000</td>\n",
       "      <td>148.000000</td>\n",
       "      <td>85.500000</td>\n",
       "      <td>51.000000</td>\n",
       "      <td>15.540000</td>\n",
       "      <td>44.000000</td>\n",
       "      <td>40.000000</td>\n",
       "      <td>0.000000</td>\n",
       "    </tr>\n",
       "    <tr>\n",
       "      <th>25%</th>\n",
       "      <td>1044.250000</td>\n",
       "      <td>0.000000</td>\n",
       "      <td>42.250000</td>\n",
       "      <td>1.000000</td>\n",
       "      <td>0.000000</td>\n",
       "      <td>0.000000</td>\n",
       "      <td>0.000000</td>\n",
       "      <td>0.000000</td>\n",
       "      <td>0.000000</td>\n",
       "      <td>0.000000</td>\n",
       "      <td>208.000000</td>\n",
       "      <td>118.125000</td>\n",
       "      <td>75.000000</td>\n",
       "      <td>23.035000</td>\n",
       "      <td>67.000000</td>\n",
       "      <td>70.000000</td>\n",
       "      <td>0.000000</td>\n",
       "    </tr>\n",
       "    <tr>\n",
       "      <th>50%</th>\n",
       "      <td>2166.000000</td>\n",
       "      <td>0.000000</td>\n",
       "      <td>50.000000</td>\n",
       "      <td>2.000000</td>\n",
       "      <td>0.000000</td>\n",
       "      <td>0.000000</td>\n",
       "      <td>0.000000</td>\n",
       "      <td>0.000000</td>\n",
       "      <td>0.000000</td>\n",
       "      <td>0.000000</td>\n",
       "      <td>235.000000</td>\n",
       "      <td>131.000000</td>\n",
       "      <td>82.000000</td>\n",
       "      <td>25.625000</td>\n",
       "      <td>75.000000</td>\n",
       "      <td>77.000000</td>\n",
       "      <td>0.000000</td>\n",
       "    </tr>\n",
       "    <tr>\n",
       "      <th>75%</th>\n",
       "      <td>3131.750000</td>\n",
       "      <td>1.000000</td>\n",
       "      <td>57.000000</td>\n",
       "      <td>2.750000</td>\n",
       "      <td>1.000000</td>\n",
       "      <td>15.000000</td>\n",
       "      <td>0.000000</td>\n",
       "      <td>0.000000</td>\n",
       "      <td>1.000000</td>\n",
       "      <td>0.000000</td>\n",
       "      <td>261.750000</td>\n",
       "      <td>146.375000</td>\n",
       "      <td>89.375000</td>\n",
       "      <td>28.195000</td>\n",
       "      <td>80.000000</td>\n",
       "      <td>87.000000</td>\n",
       "      <td>0.000000</td>\n",
       "    </tr>\n",
       "    <tr>\n",
       "      <th>max</th>\n",
       "      <td>4200.000000</td>\n",
       "      <td>1.000000</td>\n",
       "      <td>69.000000</td>\n",
       "      <td>4.000000</td>\n",
       "      <td>1.000000</td>\n",
       "      <td>70.000000</td>\n",
       "      <td>1.000000</td>\n",
       "      <td>1.000000</td>\n",
       "      <td>1.000000</td>\n",
       "      <td>1.000000</td>\n",
       "      <td>410.000000</td>\n",
       "      <td>207.000000</td>\n",
       "      <td>132.000000</td>\n",
       "      <td>56.800000</td>\n",
       "      <td>130.000000</td>\n",
       "      <td>244.000000</td>\n",
       "      <td>1.000000</td>\n",
       "    </tr>\n",
       "  </tbody>\n",
       "</table>\n",
       "</div>"
      ],
      "text/plain": [
       "             index        male         age   education  currentSmoker  \\\n",
       "count   366.000000  366.000000  366.000000  366.000000     366.000000   \n",
       "mean   2137.221311    0.387978   49.898907    1.920765       0.382514   \n",
       "std    1225.679201    0.487957    8.465443    1.007781       0.486666   \n",
       "min      16.000000    0.000000   33.000000    1.000000       0.000000   \n",
       "25%    1044.250000    0.000000   42.250000    1.000000       0.000000   \n",
       "50%    2166.000000    0.000000   50.000000    2.000000       0.000000   \n",
       "75%    3131.750000    1.000000   57.000000    2.750000       1.000000   \n",
       "max    4200.000000    1.000000   69.000000    4.000000       1.000000   \n",
       "\n",
       "       cigsPerDay      BPMeds  prevalentStroke  prevalentHyp    diabetes  \\\n",
       "count  366.000000  366.000000       366.000000    366.000000  366.000000   \n",
       "mean     7.442623    0.024590         0.019126      0.314208    0.019126   \n",
       "std     12.052885    0.155084         0.137154      0.464835    0.137154   \n",
       "min      0.000000    0.000000         0.000000      0.000000    0.000000   \n",
       "25%      0.000000    0.000000         0.000000      0.000000    0.000000   \n",
       "50%      0.000000    0.000000         0.000000      0.000000    0.000000   \n",
       "75%     15.000000    0.000000         0.000000      1.000000    0.000000   \n",
       "max     70.000000    1.000000         1.000000      1.000000    1.000000   \n",
       "\n",
       "          totChol       sysBP       diaBP         BMI   heartRate     glucose  \\\n",
       "count  366.000000  366.000000  366.000000  366.000000  366.000000  366.000000   \n",
       "mean   238.614754  133.648907   82.807377   25.986393   74.942623   80.953552   \n",
       "std     44.681910   21.442126   12.304712    4.384681   11.958581   19.545956   \n",
       "min    148.000000   85.500000   51.000000   15.540000   44.000000   40.000000   \n",
       "25%    208.000000  118.125000   75.000000   23.035000   67.000000   70.000000   \n",
       "50%    235.000000  131.000000   82.000000   25.625000   75.000000   77.000000   \n",
       "75%    261.750000  146.375000   89.375000   28.195000   80.000000   87.000000   \n",
       "max    410.000000  207.000000  132.000000   56.800000  130.000000  244.000000   \n",
       "\n",
       "       TenYearCHD  \n",
       "count  366.000000  \n",
       "mean     0.161202  \n",
       "std      0.368221  \n",
       "min      0.000000  \n",
       "25%      0.000000  \n",
       "50%      0.000000  \n",
       "75%      0.000000  \n",
       "max      1.000000  "
      ]
     },
     "execution_count": 13,
     "metadata": {},
     "output_type": "execute_result"
    }
   ],
   "source": [
    "data=data.dropna()\n",
    "# data_columns=list(data.columns.values.tolist())\n",
    "data=data[data.notnull()]\n",
    "data=data.reset_index()\n",
    "data=data.sample(frac=0.1)\n",
    "data.describe()"
   ]
  },
  {
   "cell_type": "code",
   "execution_count": 14,
   "id": "olympic-publisher",
   "metadata": {},
   "outputs": [],
   "source": [
    "y=data[\"TenYearCHD\"]\n",
    "X=data.drop('TenYearCHD',axis=1)"
   ]
  },
  {
   "cell_type": "code",
   "execution_count": 15,
   "id": "efficient-racing",
   "metadata": {},
   "outputs": [
    {
     "data": {
      "text/plain": [
       "PCA(n_components=3)"
      ]
     },
     "execution_count": 15,
     "metadata": {},
     "output_type": "execute_result"
    }
   ],
   "source": [
    "# X = TSNE(n_components=2).fit_transform(X)\n",
    "pca = PCA(n_components=3)\n",
    "pca.fit(X)"
   ]
  },
  {
   "cell_type": "code",
   "execution_count": 16,
   "id": "accomplished-parade",
   "metadata": {},
   "outputs": [],
   "source": [
    "X_reduced=pca.transform(X)\n",
    "X_train, X_test, y_train, y_test = train_test_split(X_reduced, y, test_size=0.20, random_state = 200)"
   ]
  },
  {
   "cell_type": "code",
   "execution_count": 17,
   "id": "continent-colon",
   "metadata": {},
   "outputs": [],
   "source": [
    "scaler = StandardScaler()\n",
    "X_train = scaler.fit_transform(X_train)\n",
    "X_test = scaler.transform(X_test)"
   ]
  },
  {
   "cell_type": "code",
   "execution_count": 18,
   "id": "active-seating",
   "metadata": {},
   "outputs": [
    {
     "data": {
      "image/png": "[encoded data removed]",
      "text/plain": [
       "<Figure size 432x288 with 1 Axes>"
      ]
     },
     "metadata": {
      "needs_background": "light"
     },
     "output_type": "display_data"
    }
   ],
   "source": [
    "# print data distribution after t-SNE reduction\n",
    "print_dim_reduced_data(X_train, y_train)\n",
    "# print_2d_data(X_train, y_train)"
   ]
  },
  {
   "cell_type": "code",
   "execution_count": 22,
   "id": "acceptable-lease",
   "metadata": {},
   "outputs": [],
   "source": [
    "f_beta = make_scorer(fbeta_score, beta=2, average='weighted',zero_division=0)"
   ]
  },
  {
   "cell_type": "code",
   "execution_count": null,
   "id": "based-browser",
   "metadata": {},
   "outputs": [],
   "source": []
  },
  {
   "cell_type": "code",
   "execution_count": 67,
   "id": "major-found",
   "metadata": {},
   "outputs": [],
   "source": [
    "# Criacao de grid para a Random Forest Classifier\n",
    "max_depth = [int(x) for x in np.linspace(5, 100, num = 5)]\n",
    "max_depth.append(None)\n",
    "\n",
    "grid_rfc = {\n",
    "    'n_estimators': [int(x) for x in np.linspace(start = 50, stop = 500, num = 11)],\n",
    "    'criterion': ['gini','entropy'],\n",
    "    'max_features': ['auto', 'sqrt', 'log2', None],\n",
    "    'max_depth': max_depth,\n",
    "    'min_samples_split': [2, 4],\n",
    "    'min_samples_leaf': [1, 2, 4],\n",
    "    'bootstrap': [True, False]\n",
    "}"
   ]
  },
  {
   "cell_type": "code",
   "execution_count": 68,
   "id": "informational-treasurer",
   "metadata": {},
   "outputs": [],
   "source": [
    "clf_rfc = RandomForestClassifier()"
   ]
  },
  {
   "cell_type": "code",
   "execution_count": 69,
   "id": "documented-travel",
   "metadata": {},
   "outputs": [
    {
     "data": {
      "text/plain": [
       "{'n_estimators': 500,\n",
       " 'min_samples_split': 2,\n",
       " 'min_samples_leaf': 4,\n",
       " 'max_features': 'sqrt',\n",
       " 'max_depth': None,\n",
       " 'criterion': 'gini',\n",
       " 'bootstrap': True}"
      ]
     },
     "execution_count": 69,
     "metadata": {},
     "output_type": "execute_result"
    }
   ],
   "source": [
    "#  Random search of parameters. Uses our shuffle selection cross validation, \n",
    "#  and search across \"n_iter\" different (shuffle) combinations, and use all available cores\n",
    "rfc_search = RandomizedSearchCV(estimator = clf_rfc, param_distributions = grid_rfc, \n",
    "                               n_iter = 20, cv = 5, random_state=200, scoring=f_beta)\n",
    "\n",
    "rfc_search.fit(X_train, y_train)\n",
    "rfc_search.best_params_"
   ]
  },
  {
   "cell_type": "code",
   "execution_count": 70,
   "id": "aquatic-floor",
   "metadata": {},
   "outputs": [
    {
     "data": {
      "text/plain": [
       "0.8040294578297871"
      ]
     },
     "execution_count": 70,
     "metadata": {},
     "output_type": "execute_result"
    }
   ],
   "source": [
    "rfc_search.best_score_"
   ]
  },
  {
   "cell_type": "code",
   "execution_count": 71,
   "id": "lesbian-brooklyn",
   "metadata": {},
   "outputs": [
    {
     "name": "stdout",
     "output_type": "stream",
     "text": [
      "Classification report for classifier RandomForestClassifier(max_features='sqrt', min_samples_leaf=4,\n",
      "                       n_estimators=500):\n",
      "parameters:\n",
      "test_f1_weighted\n",
      "mean: 0.7591812727141288, std deviation: 0.019875592625596412\n",
      "\n",
      "test_f1_macro\n",
      "mean: 0.45418969569912965, std deviation: 0.005100259594978172\n",
      "\n",
      "test_recall_weighted\n",
      "mean: 0.8322988505747126, std deviation: 0.017175737110913452\n",
      "\n",
      "test_precision_weighted\n",
      "mean: 0.6979818998546705, std deviation: 0.02278481597660345\n",
      "\n",
      "\n"
     ]
    }
   ],
   "source": [
    "best_clf_rfc = rfc_search.best_estimator_\n",
    "print_val_scores(best_clf_rfc, X_train, y_train)"
   ]
  },
  {
   "cell_type": "code",
   "execution_count": 72,
   "id": "instant-chambers",
   "metadata": {},
   "outputs": [
    {
     "name": "stdout",
     "output_type": "stream",
     "text": [
      "Classification report for classifier RandomForestClassifier(max_features='sqrt', min_samples_leaf=4,\n",
      "                       n_estimators=500):\n",
      "parameters:\n",
      "\n",
      "make_scorer(fbeta_score, beta=2, average=weighted, zero_division=0)\n",
      "mean: 0.8014048691217898, std deviation: 0.018103765907257995\n",
      "\n",
      "\n"
     ]
    }
   ],
   "source": [
    "print_val_custom_score(best_clf_rfc, X_train, y_train,f_beta)"
   ]
  },
  {
   "cell_type": "markdown",
   "id": "sweet-reaction",
   "metadata": {},
   "source": [
    "SVM implementarion"
   ]
  },
  {
   "cell_type": "code",
   "execution_count": null,
   "id": "double-motorcycle",
   "metadata": {},
   "outputs": [],
   "source": []
  },
  {
   "cell_type": "code",
   "execution_count": 97,
   "id": "likely-russian",
   "metadata": {},
   "outputs": [],
   "source": [
    "clf_svm = make_pipeline(StandardScaler(), SVC())\n",
    "# print(pprint(clf_svm.get_params() ))"
   ]
  },
  {
   "cell_type": "code",
   "execution_count": 100,
   "id": "funky-circular",
   "metadata": {},
   "outputs": [],
   "source": [
    "# https://scikit-learn.org/stable/modules/generated/sklearn.svm.SVC.html\n",
    "\n",
    "C = [float(x) for x in np.linspace(start = 0.1, stop = 150.0, num = 10).astype(float)]\n",
    "class_weight=['balanced', None]\n",
    "kernel = ['linear', 'poly', 'rbf','sigmoid']\n",
    "gamma = ['scale', 'auto']\n",
    "decision_function_shape = ['ovo','ovr']\n",
    "shrinking = [True, False]\n",
    "\n",
    "grid_svm = {'svc__C': C,\n",
    "                   'svc__kernel': kernel,\n",
    "                   'svc__gamma': gamma,\n",
    "                   'svc__class_weight':class_weight,\n",
    "                   'svc__decision_function_shape': decision_function_shape,\n",
    "                   'svc__shrinking': shrinking,\n",
    "                   'svc__probability': [True]\n",
    "           }\n",
    "# pprint(grid_svm)"
   ]
  },
  {
   "cell_type": "code",
   "execution_count": 101,
   "id": "under-morrison",
   "metadata": {},
   "outputs": [
    {
     "data": {
      "text/plain": [
       "{'svc__shrinking': False,\n",
       " 'svc__probability': True,\n",
       " 'svc__kernel': 'rbf',\n",
       " 'svc__gamma': 'auto',\n",
       " 'svc__decision_function_shape': 'ovo',\n",
       " 'svc__class_weight': None,\n",
       " 'svc__C': 0.1}"
      ]
     },
     "execution_count": 101,
     "metadata": {},
     "output_type": "execute_result"
    }
   ],
   "source": [
    "svm_search = RandomizedSearchCV(estimator = clf_svm, param_distributions = grid_svm, \n",
    "                               n_iter = 40, cv = 5, random_state=200, scoring=f_beta)\n",
    "\n",
    "svm_search.fit(X_train, y_train)\n",
    "svm_search.best_params_"
   ]
  },
  {
   "cell_type": "code",
   "execution_count": 102,
   "id": "broadband-genius",
   "metadata": {},
   "outputs": [
    {
     "name": "stdout",
     "output_type": "stream",
     "text": [
      "Classification report for classifier Pipeline(steps=[('standardscaler', StandardScaler()),\n",
      "                ('svc',\n",
      "                 SVC(C=0.1, decision_function_shape='ovo', gamma='auto',\n",
      "                     probability=True, shrinking=False))]):\n",
      "parameters:\n",
      "\n",
      "make_scorer(fbeta_score, beta=2, average=weighted, zero_division=0)\n",
      "mean: 0.8040136944050337, std deviation: 0.015882060839522427\n",
      "\n",
      "\n"
     ]
    }
   ],
   "source": [
    "best_clf_svm = svm_search.best_estimator_\n",
    "svm_search.best_score_\n",
    "print_val_custom_score(best_clf_svm,X_train,y_train,f_beta)"
   ]
  },
  {
   "cell_type": "code",
   "execution_count": 103,
   "id": "nuclear-mouse",
   "metadata": {},
   "outputs": [
    {
     "name": "stdout",
     "output_type": "stream",
     "text": [
      "Classification report for classifier Pipeline(steps=[('standardscaler', StandardScaler()),\n",
      "                ('svc',\n",
      "                 SVC(C=0.1, decision_function_shape='ovo', gamma='auto',\n",
      "                     probability=True, shrinking=False))]):\n",
      "parameters:\n",
      "test_f1_weighted\n",
      "mean: 0.7608647743976306, std deviation: 0.018932972567457768\n",
      "\n",
      "test_f1_macro\n",
      "mean: 0.45519979670923066, std deviation: 0.003938020837875205\n",
      "\n",
      "test_recall_weighted\n",
      "mean: 0.835632183908046, std deviation: 0.01340448711458688\n",
      "\n",
      "test_precision_weighted\n",
      "mean: 0.6984608270577356, std deviation: 0.02265472109544313\n",
      "\n",
      "\n"
     ]
    }
   ],
   "source": [
    "print_val_scores(best_clf_svm,X_train,y_train)"
   ]
  },
  {
   "cell_type": "code",
   "execution_count": null,
   "id": "undefined-momentum",
   "metadata": {},
   "outputs": [],
   "source": []
  },
  {
   "cell_type": "code",
   "execution_count": 82,
   "id": "rotary-grenada",
   "metadata": {},
   "outputs": [],
   "source": [
    "# https://scikit-learn.org/stable/modules/generated/sklearn.svm.SVC.html\n",
    "var_smoothing = [float(1/10**x) for x in np.linspace(start=1,stop=15,num=16)]\n",
    "\n",
    "grid_nb = {\n",
    "    'var_smoothing': var_smoothing\n",
    "}\n",
    "# pprint(grid_nb)"
   ]
  },
  {
   "cell_type": "code",
   "execution_count": 83,
   "id": "automated-corrections",
   "metadata": {},
   "outputs": [
    {
     "data": {
      "text/plain": [
       "{'var_smoothing': 0.1}"
      ]
     },
     "execution_count": 83,
     "metadata": {},
     "output_type": "execute_result"
    }
   ],
   "source": [
    "clf_nb = GaussianNB()\n",
    "nb_search = GridSearchCV(estimator = clf_nb, param_grid = grid_nb, \n",
    "                         cv = 5, scoring=f_beta)\n",
    "nb_search.fit(X_train, y_train)\n",
    "nb_search.best_params_"
   ]
  },
  {
   "cell_type": "code",
   "execution_count": 84,
   "id": "antique-cycle",
   "metadata": {},
   "outputs": [
    {
     "name": "stdout",
     "output_type": "stream",
     "text": [
      "Classification report for classifier GaussianNB(var_smoothing=0.1):\n",
      "parameters:\n",
      "\n",
      "make_scorer(fbeta_score, beta=2, average=weighted, zero_division=0)\n",
      "mean: 0.7986025161794428, std deviation: 0.015832869236222805\n",
      "\n",
      "\n"
     ]
    }
   ],
   "source": [
    "best_clf_nb = nb_search.best_estimator_\n",
    "nb_search.best_score_\n",
    "print_val_custom_score(best_clf_nb,X_train,y_train,f_beta)"
   ]
  },
  {
   "cell_type": "code",
   "execution_count": null,
   "id": "heated-corner",
   "metadata": {},
   "outputs": [],
   "source": []
  },
  {
   "cell_type": "code",
   "execution_count": 85,
   "id": "behind-tattoo",
   "metadata": {},
   "outputs": [],
   "source": [
    "#https://scikit-learn.org/stable/modules/generated/sklearn.linear_model.LogisticRegression.html\n",
    "\n",
    "C=[float(x) for x in np.linspace(start=0.1,stop=3,num=21)]\n",
    "grid_lr = {\n",
    "    'C': C,\n",
    "    'n_jobs': [None, -1],\n",
    "    'multi_class': ['auto', 'ovr', 'multinomial'],\n",
    "    'warm_start': [False,True]\n",
    "}\n",
    "# pprint(grid_lr)"
   ]
  },
  {
   "cell_type": "code",
   "execution_count": 86,
   "id": "alone-consortium",
   "metadata": {},
   "outputs": [
    {
     "data": {
      "text/plain": [
       "{'warm_start': True, 'n_jobs': -1, 'multi_class': 'multinomial', 'C': 0.39}"
      ]
     },
     "execution_count": 86,
     "metadata": {},
     "output_type": "execute_result"
    }
   ],
   "source": [
    "clf_lr = LogisticRegression()\n",
    "# print(RandomizedSearchCV(estimator = clf_lr, param_distributions = grid_lr, n_iter=20,\n",
    "#                         cv = 5, scoring=f_beta).estimator.get_params().keys())\n",
    "\n",
    "lr_search = RandomizedSearchCV(estimator = clf_lr, param_distributions=grid_lr, \n",
    "                                 n_iter=20, cv = 5, scoring=f_beta)\n",
    "lr_search.fit(X_train, y_train)\n",
    "lr_search.best_params_"
   ]
  },
  {
   "cell_type": "code",
   "execution_count": 87,
   "id": "sporting-chaos",
   "metadata": {},
   "outputs": [
    {
     "name": "stdout",
     "output_type": "stream",
     "text": [
      "Classification report for classifier LogisticRegression(C=0.39, multi_class='multinomial', n_jobs=-1,\n",
      "                   warm_start=True):\n",
      "parameters:\n",
      "\n",
      "make_scorer(fbeta_score, beta=2, average=weighted, zero_division=0)\n",
      "mean: 0.8040136944050337, std deviation: 0.015882060839522427\n",
      "\n",
      "\n"
     ]
    }
   ],
   "source": [
    "best_clf_lr = lr_search.best_estimator_\n",
    "lr_search.best_score_\n",
    "print_val_custom_score(best_clf_lr,X_train,y_train,f_beta)"
   ]
  },
  {
   "cell_type": "code",
   "execution_count": null,
   "id": "uniform-greene",
   "metadata": {},
   "outputs": [],
   "source": []
  },
  {
   "cell_type": "code",
   "execution_count": null,
   "id": "optical-consensus",
   "metadata": {},
   "outputs": [],
   "source": []
  },
  {
   "cell_type": "code",
   "execution_count": null,
   "id": "oriented-berlin",
   "metadata": {},
   "outputs": [],
   "source": []
  },
  {
   "cell_type": "code",
   "execution_count": null,
   "id": "convenient-defeat",
   "metadata": {},
   "outputs": [],
   "source": []
  },
  {
   "cell_type": "code",
   "execution_count": 115,
   "id": "secret-summary",
   "metadata": {},
   "outputs": [
    {
     "name": "stdout",
     "output_type": "stream",
     "text": [
      "5 fold cross-validation\n",
      "f2 Validation: 0.804 (+/- 0.009) [Logistic Regression]\n",
      "f2 Validation: 0.804 (+/- 0.009) [Random Forest Classsifier]\n",
      "f2 Validation: 0.795 (+/- 0.021) [Naive Bayes]\n",
      "f2 Validation: 0.804 (+/- 0.009) [SVM]\n"
     ]
    }
   ],
   "source": [
    "clf_lr = best_clf_lr \n",
    "clf_rfc = best_clf_rfc\n",
    "clf_nb = best_clf_nb\n",
    "clf_svm = best_clf_svm\n",
    "\n",
    "print('5 fold cross-validation')\n",
    "\n",
    "labels = ['Logistic Regression','Random Forest Classsifier', 'Naive Bayes', 'SVM']\n",
    "for clf, label in zip([clf_lr, clf_rfc,clf_nb, clf_svm], labels):\n",
    "\n",
    "    scores = cross_val_score(clf, X_train, y_train,\n",
    "                             cv=5, scoring=f_beta)\n",
    "\n",
    "    print(\"f2 Validation: %0.3f (+/- %0.3f) [%s]\" % (np.mean(scores), np.std(scores), label))"
   ]
  },
  {
   "cell_type": "code",
   "execution_count": 114,
   "id": "normal-laugh",
   "metadata": {},
   "outputs": [
    {
     "name": "stdout",
     "output_type": "stream",
     "text": [
      "Pipeline(steps=[('standardscaler', StandardScaler()),\n",
      "                ('svc',\n",
      "                 SVC(C=0.1, decision_function_shape='ovo', gamma='auto',\n",
      "                     probability=True, shrinking=False))])\n",
      "Pipeline(steps=[('standardscaler', StandardScaler()),\n",
      "                ('svc',\n",
      "                 SVC(C=0.1, decision_function_shape='ovo', gamma='auto',\n",
      "                     probability=True, shrinking=False))])\n"
     ]
    }
   ],
   "source": [
    "print(best_clf_svm)\n",
    "clf_svm = best_clf_svm\n",
    "print(clf_svm)"
   ]
  },
  {
   "cell_type": "code",
   "execution_count": 116,
   "id": "baking-snapshot",
   "metadata": {},
   "outputs": [],
   "source": [
    "voting_clf_hard = VotingClassifier(estimators = [(labels[0], clf_lr),\n",
    "                                                 (labels[1], clf_rfc),\n",
    "                                                 (labels[2], clf_nb),\n",
    "                                                 (labels[3], clf_svm)],\n",
    "                                  voting='hard')"
   ]
  },
  {
   "cell_type": "code",
   "execution_count": 117,
   "id": "figured-spiritual",
   "metadata": {},
   "outputs": [],
   "source": [
    "voting_clf_soft = VotingClassifier(estimators = [(labels[0], clf_lr),\n",
    "                                                 (labels[1], clf_rfc),\n",
    "                                                 (labels[2], clf_nb),\n",
    "                                                 (labels[3], clf_svm)],\n",
    "                                  voting='soft')"
   ]
  },
  {
   "cell_type": "code",
   "execution_count": 119,
   "id": "reduced-dollar",
   "metadata": {
    "scrolled": false
   },
   "outputs": [
    {
     "name": "stdout",
     "output_type": "stream",
     "text": [
      "5 fold cross-validation\n",
      "f2 Validation: 0.805 (+/- 0.022) [Logistic Regression]\n",
      "f2 Validation: 0.808 (+/- 0.006) [Random Forest Classifier]\n",
      "f2 Validation: 0.808 (+/- 0.006) [Naive Bayes]\n",
      "f2 Validation: 0.808 (+/- 0.006) [SVM]\n",
      "f2 Validation: 0.808 (+/- 0.006) [Voting Classifier - Hard]\n",
      "f2 Validation: 0.808 (+/- 0.006) [Voting Classifier - Soft]\n"
     ]
    }
   ],
   "source": [
    "print('5 fold cross-validation')\n",
    "\n",
    "labels = ['Logistic Regression','Random Forest Classifier', 'Naive Bayes', 'SVM', \n",
    "          'Voting Classifier - Hard', 'Voting Classifier - Soft']\n",
    "for clf, label in zip([clf_lr, clf_rfc,clf_nb, clf_svm, voting_clf_hard, voting_clf_soft], labels):\n",
    "\n",
    "    scores = cross_val_score(clf, X, y,\n",
    "                             cv=5, scoring=f_beta,error_score='raise')\n",
    "\n",
    "    print(\"f2 Validation: %0.3f (+/- %0.3f) [%s]\" % (np.mean(scores), np.std(scores), label))"
   ]
  },
  {
   "cell_type": "code",
   "execution_count": null,
   "id": "valid-congress",
   "metadata": {},
   "outputs": [],
   "source": []
  },
  {
   "cell_type": "code",
   "execution_count": null,
   "id": "several-abraham",
   "metadata": {},
   "outputs": [],
   "source": []
  },
  {
   "cell_type": "code",
   "execution_count": null,
   "id": "capable-legislature",
   "metadata": {},
   "outputs": [],
   "source": []
  }
 ],
 "metadata": {
  "kernelspec": {
   "display_name": "Python 3",
   "language": "python",
   "name": "python3"
  },
  "language_info": {
   "codemirror_mode": {
    "name": "ipython",
    "version": 3
   },
   "file_extension": ".py",
   "mimetype": "text/x-python",
   "name": "python",
   "nbconvert_exporter": "python",
   "pygments_lexer": "ipython3",
   "version": "3.8.8"
  }
 },
 "nbformat": 4,
 "nbformat_minor": 5
}
