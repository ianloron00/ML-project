{
 "cells": [
  {
   "cell_type": "code",
   "execution_count": 2,
   "id": "dressed-drove",
   "metadata": {},
   "outputs": [],
   "source": [
    "### https://www.kaggle.com/dileep070/heart-disease-prediction-using-logistic-regression\n",
    "import numpy as np\n",
    "import pandas as pd \n",
    "# classifier models:\n",
    "from sklearn.linear_model import LogisticRegression\n",
    "from sklearn.naive_bayes import GaussianNB\n",
    "from sklearn.ensemble import RandomForestClassifier\n",
    "from sklearn.ensemble import RandomForestRegressor\n",
    "from sklearn.tree import DecisionTreeClassifier\n",
    "from sklearn.neighbors import KNeighborsClassifier\n",
    "from sklearn.pipeline import make_pipeline\n",
    "from sklearn.svm import SVC\n",
    "from sklearn.ensemble import VotingClassifier\n",
    "# scaler\n",
    "from sklearn.preprocessing import StandardScaler\n",
    "# split\n",
    "from sklearn.model_selection import train_test_split\n",
    "from sklearn.model_selection import ShuffleSplit\n",
    "# matplot libs\n",
    "from mpl_toolkits import mplot3d\n",
    "import matplotlib.pyplot as plt \n",
    "# to reduction\n",
    "from sklearn.manifold import TSNE\n",
    "from sklearn.decomposition import PCA\n",
    "# scoring\n",
    "from sklearn.metrics import fbeta_score, make_scorer\n",
    "from sklearn import metrics\n",
    "from sklearn.metrics import confusion_matrix,accuracy_score,roc_curve,classification_report\n",
    "# to classification report\n",
    "from sklearn.model_selection import learning_curve\n",
    "from pprint import pprint\n",
    "from sklearn.model_selection import RandomizedSearchCV\n",
    "from sklearn.model_selection import GridSearchCV\n",
    "from sklearn.model_selection import cross_val_score\n",
    "from sklearn.model_selection import cross_validate"
   ]
  },
  {
   "cell_type": "markdown",
   "id": "psychological-benjamin",
   "metadata": {},
   "source": [
    "Abaixo, funcoes de plots (ou tentativas rs) de plotar o gráfico. O último que postei era essa primeira funcao. Este comentário será apagado em 24 horas, boa noite."
   ]
  },
  {
   "cell_type": "code",
   "execution_count": 5,
   "id": "athletic-peace",
   "metadata": {},
   "outputs": [],
   "source": [
    "def print_dim_reduced_data(samples_2d, targets):\n",
    "    target_ids = range(2)\n",
    "    colors = 'r', 'g'\n",
    "    for i, c, label in zip(target_ids, colors, targets):\n",
    "        plt.scatter(samples_2d[targets == i, 0], samples_2d[targets == i, 1], c=c, label=label)\n",
    "    plt.grid(linestyle='--')\n",
    "    plt.legend(bbox_to_anchor=(1.15, 0.725, 0, 0))\n",
    "    plt.show()\n",
    "    plt.close()"
   ]
  },
  {
   "cell_type": "code",
   "execution_count": 45,
   "id": "hawaiian-wisconsin",
   "metadata": {},
   "outputs": [],
   "source": [
    "def print_val_scores(model, X_train, y_train, scoring=['f1_weighted','f1_macro','recall_weighted','precision_weighted'], \n",
    "                     cv=10):\n",
    "    _,__,f1_w,f1_m,r,p=cross_validate(model, X_train, y_train, cv=cv,\n",
    "                       scoring=scoring).items()\n",
    "    mean_f1_w = f1_w[1].mean(); sd_f1_w = f1_w[1].std()\n",
    "    mean_f1_m = f1_m[1].mean(); sd_f1_m = f1_m[1].std()\n",
    "    mean_r = r[1].mean(); sd_r = r[1].std()\n",
    "    mean_p = p[1].mean(); sd_p = p[1].std()\n",
    "    \n",
    "    print(\"Classification report for classifier {}:\\nparameters:\\n\".format(model) +\n",
    "          \"{}\\nmean: {}, std deviation: {}\\n\\n\".format(f1_w[0],mean_f1_w,sd_f1_w) +\n",
    "          \"{}\\nmean: {}, std deviation: {}\\n\\n\".format(f1_m[0],mean_f1_m,sd_f1_m) +\n",
    "          \"{}\\nmean: {}, std deviation: {}\\n\\n\".format(r[0],mean_r,sd_r) +\n",
    "          \"{}\\nmean: {}, std deviation: {}\\n\\n\".format(p[0],mean_p,sd_p))"
   ]
  },
  {
   "cell_type": "code",
   "execution_count": 46,
   "id": "final-speed",
   "metadata": {},
   "outputs": [],
   "source": [
    "def print_val_custom_score (model, X_train, y_train, \n",
    "                            scoring='f1_macro', \n",
    "                            cv=10):\n",
    "    print(\"Classification report for classifier {}:\\nparameters:\\n\".format(model))\n",
    "    \n",
    "    myReturn=cross_validate(model,X_train,y_train,cv=cv,scoring=scoring)\n",
    "    _,__,metric_score=myReturn\n",
    "    metric_score=myReturn[metric_score]\n",
    "    mean = np.mean(metric_score)\n",
    "    sd = np.std(metric_score)\n",
    "    print(\"{}\\nmean: {}, std deviation: {}\\n\\n\".format(scoring,mean,sd))"
   ]
  },
  {
   "cell_type": "code",
   "execution_count": 47,
   "id": "nutritional-skating",
   "metadata": {},
   "outputs": [],
   "source": [
    "def print_metrics(clf, X, y, prediction):\n",
    "    print(f\"Classification report for classifier {clf}:\\n\"\n",
    "          f\"{metrics.classification_report(y, prediction)}\\n\")\n",
    "    disp = metrics.plot_confusion_matrix(clf, X, y)\n",
    "    disp.figure_.suptitle(\"Confusion Matrix\")"
   ]
  },
  {
   "cell_type": "code",
   "execution_count": 11,
   "id": "mathematical-kentucky",
   "metadata": {},
   "outputs": [],
   "source": [
    "data=pd.read_csv('heart_pred.csv')\n",
    "# data.describe()"
   ]
  },
  {
   "cell_type": "markdown",
   "id": "tender-mattress",
   "metadata": {},
   "source": [
    "Retirando valores nulos e NaN"
   ]
  },
  {
   "cell_type": "code",
   "execution_count": 12,
   "id": "integrated-switzerland",
   "metadata": {},
   "outputs": [
    {
     "data": {
      "text/html": [
       "<div>\n",
       "<style scoped>\n",
       "    .dataframe tbody tr th:only-of-type {\n",
       "        vertical-align: middle;\n",
       "    }\n",
       "\n",
       "    .dataframe tbody tr th {\n",
       "        vertical-align: top;\n",
       "    }\n",
       "\n",
       "    .dataframe thead th {\n",
       "        text-align: right;\n",
       "    }\n",
       "</style>\n",
       "<table border=\"1\" class=\"dataframe\">\n",
       "  <thead>\n",
       "    <tr style=\"text-align: right;\">\n",
       "      <th></th>\n",
       "      <th>index</th>\n",
       "      <th>male</th>\n",
       "      <th>age</th>\n",
       "      <th>education</th>\n",
       "      <th>currentSmoker</th>\n",
       "      <th>cigsPerDay</th>\n",
       "      <th>BPMeds</th>\n",
       "      <th>prevalentStroke</th>\n",
       "      <th>prevalentHyp</th>\n",
       "      <th>diabetes</th>\n",
       "      <th>totChol</th>\n",
       "      <th>sysBP</th>\n",
       "      <th>diaBP</th>\n",
       "      <th>BMI</th>\n",
       "      <th>heartRate</th>\n",
       "      <th>glucose</th>\n",
       "      <th>TenYearCHD</th>\n",
       "    </tr>\n",
       "  </thead>\n",
       "  <tbody>\n",
       "    <tr>\n",
       "      <th>count</th>\n",
       "      <td>366.000000</td>\n",
       "      <td>366.000000</td>\n",
       "      <td>366.000000</td>\n",
       "      <td>366.000000</td>\n",
       "      <td>366.000000</td>\n",
       "      <td>366.000000</td>\n",
       "      <td>366.000000</td>\n",
       "      <td>366.000000</td>\n",
       "      <td>366.000000</td>\n",
       "      <td>366.000000</td>\n",
       "      <td>366.000000</td>\n",
       "      <td>366.000000</td>\n",
       "      <td>366.000000</td>\n",
       "      <td>366.000000</td>\n",
       "      <td>366.000000</td>\n",
       "      <td>366.000000</td>\n",
       "      <td>366.000000</td>\n",
       "    </tr>\n",
       "    <tr>\n",
       "      <th>mean</th>\n",
       "      <td>2171.243169</td>\n",
       "      <td>0.475410</td>\n",
       "      <td>49.546448</td>\n",
       "      <td>2.024590</td>\n",
       "      <td>0.489071</td>\n",
       "      <td>8.953552</td>\n",
       "      <td>0.021858</td>\n",
       "      <td>0.005464</td>\n",
       "      <td>0.295082</td>\n",
       "      <td>0.038251</td>\n",
       "      <td>238.008197</td>\n",
       "      <td>131.769126</td>\n",
       "      <td>83.233607</td>\n",
       "      <td>25.654809</td>\n",
       "      <td>76.038251</td>\n",
       "      <td>85.428962</td>\n",
       "      <td>0.163934</td>\n",
       "    </tr>\n",
       "    <tr>\n",
       "      <th>std</th>\n",
       "      <td>1230.105009</td>\n",
       "      <td>0.500079</td>\n",
       "      <td>8.330947</td>\n",
       "      <td>1.071139</td>\n",
       "      <td>0.500565</td>\n",
       "      <td>12.152029</td>\n",
       "      <td>0.146420</td>\n",
       "      <td>0.073821</td>\n",
       "      <td>0.456704</td>\n",
       "      <td>0.192065</td>\n",
       "      <td>42.957225</td>\n",
       "      <td>19.795235</td>\n",
       "      <td>11.110007</td>\n",
       "      <td>3.997785</td>\n",
       "      <td>11.510503</td>\n",
       "      <td>29.555041</td>\n",
       "      <td>0.370723</td>\n",
       "    </tr>\n",
       "    <tr>\n",
       "      <th>min</th>\n",
       "      <td>18.000000</td>\n",
       "      <td>0.000000</td>\n",
       "      <td>34.000000</td>\n",
       "      <td>1.000000</td>\n",
       "      <td>0.000000</td>\n",
       "      <td>0.000000</td>\n",
       "      <td>0.000000</td>\n",
       "      <td>0.000000</td>\n",
       "      <td>0.000000</td>\n",
       "      <td>0.000000</td>\n",
       "      <td>135.000000</td>\n",
       "      <td>90.000000</td>\n",
       "      <td>59.000000</td>\n",
       "      <td>16.730000</td>\n",
       "      <td>45.000000</td>\n",
       "      <td>53.000000</td>\n",
       "      <td>0.000000</td>\n",
       "    </tr>\n",
       "    <tr>\n",
       "      <th>25%</th>\n",
       "      <td>1055.500000</td>\n",
       "      <td>0.000000</td>\n",
       "      <td>43.000000</td>\n",
       "      <td>1.000000</td>\n",
       "      <td>0.000000</td>\n",
       "      <td>0.000000</td>\n",
       "      <td>0.000000</td>\n",
       "      <td>0.000000</td>\n",
       "      <td>0.000000</td>\n",
       "      <td>0.000000</td>\n",
       "      <td>210.000000</td>\n",
       "      <td>119.000000</td>\n",
       "      <td>75.125000</td>\n",
       "      <td>23.007500</td>\n",
       "      <td>69.000000</td>\n",
       "      <td>72.000000</td>\n",
       "      <td>0.000000</td>\n",
       "    </tr>\n",
       "    <tr>\n",
       "      <th>50%</th>\n",
       "      <td>2209.500000</td>\n",
       "      <td>0.000000</td>\n",
       "      <td>49.000000</td>\n",
       "      <td>2.000000</td>\n",
       "      <td>0.000000</td>\n",
       "      <td>0.000000</td>\n",
       "      <td>0.000000</td>\n",
       "      <td>0.000000</td>\n",
       "      <td>0.000000</td>\n",
       "      <td>0.000000</td>\n",
       "      <td>237.000000</td>\n",
       "      <td>128.750000</td>\n",
       "      <td>82.000000</td>\n",
       "      <td>25.495000</td>\n",
       "      <td>75.000000</td>\n",
       "      <td>78.000000</td>\n",
       "      <td>0.000000</td>\n",
       "    </tr>\n",
       "    <tr>\n",
       "      <th>75%</th>\n",
       "      <td>3248.500000</td>\n",
       "      <td>1.000000</td>\n",
       "      <td>56.000000</td>\n",
       "      <td>3.000000</td>\n",
       "      <td>1.000000</td>\n",
       "      <td>20.000000</td>\n",
       "      <td>0.000000</td>\n",
       "      <td>0.000000</td>\n",
       "      <td>1.000000</td>\n",
       "      <td>0.000000</td>\n",
       "      <td>263.000000</td>\n",
       "      <td>142.875000</td>\n",
       "      <td>89.875000</td>\n",
       "      <td>28.037500</td>\n",
       "      <td>85.000000</td>\n",
       "      <td>90.000000</td>\n",
       "      <td>0.000000</td>\n",
       "    </tr>\n",
       "    <tr>\n",
       "      <th>max</th>\n",
       "      <td>4222.000000</td>\n",
       "      <td>1.000000</td>\n",
       "      <td>69.000000</td>\n",
       "      <td>4.000000</td>\n",
       "      <td>1.000000</td>\n",
       "      <td>70.000000</td>\n",
       "      <td>1.000000</td>\n",
       "      <td>1.000000</td>\n",
       "      <td>1.000000</td>\n",
       "      <td>1.000000</td>\n",
       "      <td>410.000000</td>\n",
       "      <td>205.000000</td>\n",
       "      <td>124.000000</td>\n",
       "      <td>42.000000</td>\n",
       "      <td>122.000000</td>\n",
       "      <td>370.000000</td>\n",
       "      <td>1.000000</td>\n",
       "    </tr>\n",
       "  </tbody>\n",
       "</table>\n",
       "</div>"
      ],
      "text/plain": [
       "             index        male         age   education  currentSmoker  \\\n",
       "count   366.000000  366.000000  366.000000  366.000000     366.000000   \n",
       "mean   2171.243169    0.475410   49.546448    2.024590       0.489071   \n",
       "std    1230.105009    0.500079    8.330947    1.071139       0.500565   \n",
       "min      18.000000    0.000000   34.000000    1.000000       0.000000   \n",
       "25%    1055.500000    0.000000   43.000000    1.000000       0.000000   \n",
       "50%    2209.500000    0.000000   49.000000    2.000000       0.000000   \n",
       "75%    3248.500000    1.000000   56.000000    3.000000       1.000000   \n",
       "max    4222.000000    1.000000   69.000000    4.000000       1.000000   \n",
       "\n",
       "       cigsPerDay      BPMeds  prevalentStroke  prevalentHyp    diabetes  \\\n",
       "count  366.000000  366.000000       366.000000    366.000000  366.000000   \n",
       "mean     8.953552    0.021858         0.005464      0.295082    0.038251   \n",
       "std     12.152029    0.146420         0.073821      0.456704    0.192065   \n",
       "min      0.000000    0.000000         0.000000      0.000000    0.000000   \n",
       "25%      0.000000    0.000000         0.000000      0.000000    0.000000   \n",
       "50%      0.000000    0.000000         0.000000      0.000000    0.000000   \n",
       "75%     20.000000    0.000000         0.000000      1.000000    0.000000   \n",
       "max     70.000000    1.000000         1.000000      1.000000    1.000000   \n",
       "\n",
       "          totChol       sysBP       diaBP         BMI   heartRate     glucose  \\\n",
       "count  366.000000  366.000000  366.000000  366.000000  366.000000  366.000000   \n",
       "mean   238.008197  131.769126   83.233607   25.654809   76.038251   85.428962   \n",
       "std     42.957225   19.795235   11.110007    3.997785   11.510503   29.555041   \n",
       "min    135.000000   90.000000   59.000000   16.730000   45.000000   53.000000   \n",
       "25%    210.000000  119.000000   75.125000   23.007500   69.000000   72.000000   \n",
       "50%    237.000000  128.750000   82.000000   25.495000   75.000000   78.000000   \n",
       "75%    263.000000  142.875000   89.875000   28.037500   85.000000   90.000000   \n",
       "max    410.000000  205.000000  124.000000   42.000000  122.000000  370.000000   \n",
       "\n",
       "       TenYearCHD  \n",
       "count  366.000000  \n",
       "mean     0.163934  \n",
       "std      0.370723  \n",
       "min      0.000000  \n",
       "25%      0.000000  \n",
       "50%      0.000000  \n",
       "75%      0.000000  \n",
       "max      1.000000  "
      ]
     },
     "execution_count": 12,
     "metadata": {},
     "output_type": "execute_result"
    }
   ],
   "source": [
    "data=data.dropna()\n",
    "# data_columns=list(data.columns.values.tolist())\n",
    "data=data[data.notnull()]\n",
    "data=data.reset_index()\n",
    "data=data.sample(frac=0.1)\n",
    "data.describe()"
   ]
  },
  {
   "cell_type": "code",
   "execution_count": 13,
   "id": "olympic-publisher",
   "metadata": {},
   "outputs": [],
   "source": [
    "y=data[\"TenYearCHD\"]\n",
    "X=data.drop('TenYearCHD',axis=1)"
   ]
  },
  {
   "cell_type": "code",
   "execution_count": 14,
   "id": "efficient-racing",
   "metadata": {},
   "outputs": [
    {
     "data": {
      "text/plain": [
       "PCA(n_components=3)"
      ]
     },
     "execution_count": 14,
     "metadata": {},
     "output_type": "execute_result"
    }
   ],
   "source": [
    "# X = TSNE(n_components=2).fit_transform(X)\n",
    "pca = PCA(n_components=3)\n",
    "pca.fit(X)"
   ]
  },
  {
   "cell_type": "code",
   "execution_count": 15,
   "id": "accomplished-parade",
   "metadata": {},
   "outputs": [],
   "source": [
    "X_reduced=pca.transform(X)\n",
    "X_train, X_test, y_train, y_test = train_test_split(X_reduced, y, test_size=0.20, random_state = 200)"
   ]
  },
  {
   "cell_type": "code",
   "execution_count": 16,
   "id": "continent-colon",
   "metadata": {},
   "outputs": [],
   "source": [
    "scaler = StandardScaler()\n",
    "X_train = scaler.fit_transform(X_train)\n",
    "X_test = scaler.transform(X_test)"
   ]
  },
  {
   "cell_type": "code",
   "execution_count": 9,
   "id": "active-seating",
   "metadata": {},
   "outputs": [
    {
     "ename": "NameError",
     "evalue": "name 'print_dim_reduced_data' is not defined",
     "output_type": "error",
     "traceback": [
      "\u001b[0;31m---------------------------------------------------------------------------\u001b[0m",
      "\u001b[0;31mNameError\u001b[0m                                 Traceback (most recent call last)",
      "\u001b[0;32m<ipython-input-9-982474efcd5a>\u001b[0m in \u001b[0;36m<module>\u001b[0;34m\u001b[0m\n\u001b[1;32m      1\u001b[0m \u001b[0;31m# print data distribution after t-SNE reduction\u001b[0m\u001b[0;34m\u001b[0m\u001b[0;34m\u001b[0m\u001b[0;34m\u001b[0m\u001b[0m\n\u001b[0;32m----> 2\u001b[0;31m \u001b[0mprint_dim_reduced_data\u001b[0m\u001b[0;34m(\u001b[0m\u001b[0mX_train\u001b[0m\u001b[0;34m,\u001b[0m \u001b[0my_train\u001b[0m\u001b[0;34m)\u001b[0m\u001b[0;34m\u001b[0m\u001b[0;34m\u001b[0m\u001b[0m\n\u001b[0m\u001b[1;32m      3\u001b[0m \u001b[0;31m# print_2d_data(X_train, y_train)\u001b[0m\u001b[0;34m\u001b[0m\u001b[0;34m\u001b[0m\u001b[0;34m\u001b[0m\u001b[0m\n",
      "\u001b[0;31mNameError\u001b[0m: name 'print_dim_reduced_data' is not defined"
     ]
    }
   ],
   "source": [
    "# print data distribution after t-SNE reduction\n",
    "print_dim_reduced_data(X_train, y_train)\n",
    "# print_2d_data(X_train, y_train)"
   ]
  },
  {
   "cell_type": "code",
   "execution_count": 25,
   "id": "acceptable-lease",
   "metadata": {},
   "outputs": [],
   "source": [
    "f_beta = make_scorer(fbeta_score, beta=2, average='weighted')"
   ]
  },
  {
   "cell_type": "code",
   "execution_count": 34,
   "id": "major-found",
   "metadata": {},
   "outputs": [],
   "source": [
    "# Criacao de grid para a Random Forest Classifier\n",
    "max_depth = [int(x) for x in np.linspace(5, 100, num = 5)]\n",
    "max_depth.append(None)\n",
    "\n",
    "grid_rfc = {\n",
    "    'n_estimators': [int(x) for x in np.linspace(start = 100, stop = 600, num = 6)],\n",
    "    'criterion': ['gini','entropy'],\n",
    "    'max_features': ['auto', 'sqrt', 'log2', None],\n",
    "    'max_depth': max_depth,\n",
    "    'min_samples_split': [2, 4],\n",
    "    'min_samples_leaf': [1, 2, 4],\n",
    "    'bootstrap': [True, False]\n",
    "}"
   ]
  },
  {
   "cell_type": "code",
   "execution_count": 35,
   "id": "informational-treasurer",
   "metadata": {},
   "outputs": [],
   "source": [
    "clf_rfc = RandomForestClassifier()"
   ]
  },
  {
   "cell_type": "code",
   "execution_count": 36,
   "id": "documented-travel",
   "metadata": {},
   "outputs": [
    {
     "data": {
      "text/plain": [
       "{'n_estimators': 100,\n",
       " 'min_samples_split': 4,\n",
       " 'min_samples_leaf': 2,\n",
       " 'max_features': 'log2',\n",
       " 'max_depth': 5,\n",
       " 'criterion': 'gini',\n",
       " 'bootstrap': False}"
      ]
     },
     "execution_count": 36,
     "metadata": {},
     "output_type": "execute_result"
    }
   ],
   "source": [
    "#  Random search of parameters. Uses our shuffle selection cross validation, \n",
    "#  and search across \"n_iter\" different (shuffle) combinations, and use all available cores\n",
    "rfc_search = RandomizedSearchCV(estimator = clf_rfc, param_distributions = grid_rfc, \n",
    "                               n_iter = 20, cv = 5, random_state=200, scoring=f_beta)\n",
    "\n",
    "rfc_search.fit(X_train, y_train)\n",
    "rfc_search.best_params_"
   ]
  },
  {
   "cell_type": "code",
   "execution_count": 37,
   "id": "aquatic-floor",
   "metadata": {},
   "outputs": [
    {
     "data": {
      "text/plain": [
       "0.8130380130828172"
      ]
     },
     "execution_count": 37,
     "metadata": {},
     "output_type": "execute_result"
    }
   ],
   "source": [
    "rfc_search.best_score_"
   ]
  },
  {
   "cell_type": "code",
   "execution_count": 51,
   "id": "lesbian-brooklyn",
   "metadata": {},
   "outputs": [
    {
     "name": "stderr",
     "output_type": "stream",
     "text": [
      "/home/ianloron00/.local/lib/python3.8/site-packages/sklearn/metrics/_classification.py:1245: UndefinedMetricWarning: Precision is ill-defined and being set to 0.0 in labels with no predicted samples. Use `zero_division` parameter to control this behavior.\n",
      "  _warn_prf(average, modifier, msg_start, len(result))\n",
      "/home/ianloron00/.local/lib/python3.8/site-packages/sklearn/metrics/_classification.py:1245: UndefinedMetricWarning: Precision is ill-defined and being set to 0.0 in labels with no predicted samples. Use `zero_division` parameter to control this behavior.\n",
      "  _warn_prf(average, modifier, msg_start, len(result))\n",
      "/home/ianloron00/.local/lib/python3.8/site-packages/sklearn/metrics/_classification.py:1245: UndefinedMetricWarning: Precision is ill-defined and being set to 0.0 in labels with no predicted samples. Use `zero_division` parameter to control this behavior.\n",
      "  _warn_prf(average, modifier, msg_start, len(result))\n",
      "/home/ianloron00/.local/lib/python3.8/site-packages/sklearn/metrics/_classification.py:1245: UndefinedMetricWarning: Precision is ill-defined and being set to 0.0 in labels with no predicted samples. Use `zero_division` parameter to control this behavior.\n",
      "  _warn_prf(average, modifier, msg_start, len(result))\n",
      "/home/ianloron00/.local/lib/python3.8/site-packages/sklearn/metrics/_classification.py:1245: UndefinedMetricWarning: Precision is ill-defined and being set to 0.0 in labels with no predicted samples. Use `zero_division` parameter to control this behavior.\n",
      "  _warn_prf(average, modifier, msg_start, len(result))\n"
     ]
    },
    {
     "name": "stdout",
     "output_type": "stream",
     "text": [
      "Classification report for classifier RandomForestClassifier(bootstrap=False, max_depth=5, max_features='log2',\n",
      "                       min_samples_leaf=2, min_samples_split=4):\n",
      "parameters:\n",
      "test_f1_weighted\n",
      "mean: 0.7672547306325868, std deviation: 0.030913561754922676\n",
      "\n",
      "test_f1_macro\n",
      "mean: 0.46715705985961264, std deviation: 0.04298435965544746\n",
      "\n",
      "test_recall_weighted\n",
      "mean: 0.8287356321839081, std deviation: 0.026808974229173766\n",
      "\n",
      "test_precision_weighted\n",
      "mean: 0.7151261870643559, std deviation: 0.04074736498918468\n",
      "\n",
      "\n"
     ]
    },
    {
     "name": "stderr",
     "output_type": "stream",
     "text": [
      "/home/ianloron00/.local/lib/python3.8/site-packages/sklearn/metrics/_classification.py:1245: UndefinedMetricWarning: Precision is ill-defined and being set to 0.0 in labels with no predicted samples. Use `zero_division` parameter to control this behavior.\n",
      "  _warn_prf(average, modifier, msg_start, len(result))\n"
     ]
    }
   ],
   "source": [
    "best_clf_rfc = rfc_search.best_estimator_\n",
    "print_val_scores(best_clf_rfc, X_train, y_train)"
   ]
  },
  {
   "cell_type": "code",
   "execution_count": 52,
   "id": "instant-chambers",
   "metadata": {},
   "outputs": [
    {
     "name": "stdout",
     "output_type": "stream",
     "text": [
      "Classification report for classifier RandomForestClassifier(bootstrap=False, max_depth=5, max_features='log2',\n",
      "                       min_samples_leaf=2, min_samples_split=4):\n",
      "parameters:\n",
      "\n",
      "make_scorer(fbeta_score, beta=2, average=weighted)\n",
      "mean: 0.8019601050025875, std deviation: 0.02811101140265819\n",
      "\n",
      "\n"
     ]
    }
   ],
   "source": [
    "print_val_custom_score(best_clf_rfc, X_train, y_train,f_beta)"
   ]
  },
  {
   "cell_type": "markdown",
   "id": "sweet-reaction",
   "metadata": {},
   "source": [
    "SVM implementarion"
   ]
  },
  {
   "cell_type": "code",
   "execution_count": 40,
   "id": "likely-russian",
   "metadata": {},
   "outputs": [
    {
     "name": "stdout",
     "output_type": "stream",
     "text": [
      "{'memory': None,\n",
      " 'standardscaler': StandardScaler(),\n",
      " 'standardscaler__copy': True,\n",
      " 'standardscaler__with_mean': True,\n",
      " 'standardscaler__with_std': True,\n",
      " 'steps': [('standardscaler', StandardScaler()), ('svc', SVC())],\n",
      " 'svc': SVC(),\n",
      " 'svc__C': 1.0,\n",
      " 'svc__break_ties': False,\n",
      " 'svc__cache_size': 200,\n",
      " 'svc__class_weight': None,\n",
      " 'svc__coef0': 0.0,\n",
      " 'svc__decision_function_shape': 'ovr',\n",
      " 'svc__degree': 3,\n",
      " 'svc__gamma': 'scale',\n",
      " 'svc__kernel': 'rbf',\n",
      " 'svc__max_iter': -1,\n",
      " 'svc__probability': False,\n",
      " 'svc__random_state': None,\n",
      " 'svc__shrinking': True,\n",
      " 'svc__tol': 0.001,\n",
      " 'svc__verbose': False,\n",
      " 'verbose': False}\n",
      "None\n"
     ]
    }
   ],
   "source": [
    "clf_svm = make_pipeline(StandardScaler(), SVC())\n",
    "print(pprint(clf_svm.get_params() ))"
   ]
  },
  {
   "cell_type": "markdown",
   "id": "maritime-benjamin",
   "metadata": {},
   "source": [
    "É assim que se imprime os parâmetros de cada modelo. Agora, precisa treinar para os demais"
   ]
  },
  {
   "cell_type": "code",
   "execution_count": 38,
   "id": "funky-circular",
   "metadata": {},
   "outputs": [],
   "source": [
    "# https://scikit-learn.org/stable/modules/generated/sklearn.svm.SVC.html\n",
    "C = [float(x) for x in np.linspace(start = 0.1, stop = 100.0, num = 10).astype(float)]\n",
    "class_weight=['balanced', None] #,{0:2,1:3},{0:5,1:1},{0:20,1:1},{0:200,1:3},{0:110,1:20}]\n",
    "kernel = ['linear', 'poly', 'rbf','sigmoid']\n",
    "gamma = ['scale', 'auto']\n",
    "decision_function_shape = ['ovo','ovr']\n",
    "shrinking = [True, False]\n",
    "\n",
    "grid_svm = {'svc__C': C,\n",
    "                   'svc__kernel': kernel,\n",
    "                   'svc__gamma': gamma,\n",
    "                   'svc__class_weight':class_weight,\n",
    "                   'svc__decision_function_shape': decision_function_shape,\n",
    "                   'svc__shrinking': shrinking}\n",
    "# pprint(grid_svm)"
   ]
  },
  {
   "cell_type": "code",
   "execution_count": 41,
   "id": "under-morrison",
   "metadata": {},
   "outputs": [
    {
     "data": {
      "text/plain": [
       "{'svc__shrinking': True,\n",
       " 'svc__kernel': 'rbf',\n",
       " 'svc__gamma': 'auto',\n",
       " 'svc__decision_function_shape': 'ovo',\n",
       " 'svc__class_weight': None,\n",
       " 'svc__C': 44.50000000000001}"
      ]
     },
     "execution_count": 41,
     "metadata": {},
     "output_type": "execute_result"
    }
   ],
   "source": [
    "svm_search = RandomizedSearchCV(estimator = clf_svm, param_distributions = grid_svm, \n",
    "                               n_iter = 20, cv = 5, random_state=200, scoring=f_beta)\n",
    "\n",
    "svm_search.fit(X_train, y_train)\n",
    "svm_search.best_params_"
   ]
  },
  {
   "cell_type": "code",
   "execution_count": 48,
   "id": "broadband-genius",
   "metadata": {},
   "outputs": [
    {
     "name": "stdout",
     "output_type": "stream",
     "text": [
      "Classification report for classifier Pipeline(steps=[('standardscaler', StandardScaler()),\n",
      "                ('svc',\n",
      "                 SVC(C=44.50000000000001, decision_function_shape='ovo',\n",
      "                     gamma='auto'))]):\n",
      "parameters:\n",
      "\n",
      "make_scorer(fbeta_score, beta=2, average=weighted)\n",
      "mean: 0.8032301657604393, std deviation: 0.03415055609091998\n",
      "\n",
      "\n"
     ]
    }
   ],
   "source": [
    "clf_svm = svm_search.best_estimator_\n",
    "svm_search.best_score_\n",
    "print_val_custom_score(best_clf_svm,X_train,y_train,f_beta)"
   ]
  },
  {
   "cell_type": "code",
   "execution_count": 49,
   "id": "nuclear-mouse",
   "metadata": {},
   "outputs": [
    {
     "name": "stdout",
     "output_type": "stream",
     "text": [
      "Classification report for classifier Pipeline(steps=[('standardscaler', StandardScaler()),\n",
      "                ('svc',\n",
      "                 SVC(C=44.50000000000001, decision_function_shape='ovo',\n",
      "                     gamma='auto'))]):\n",
      "parameters:\n",
      "test_f1_weighted\n",
      "mean: 0.7687812932419819, std deviation: 0.03512788348917426\n",
      "\n",
      "test_f1_macro\n",
      "mean: 0.4694712284057457, std deviation: 0.05429699616844974\n",
      "\n",
      "test_recall_weighted\n",
      "mean: 0.8286206896551723, std deviation: 0.035001651434153506\n",
      "\n",
      "test_precision_weighted\n",
      "mean: 0.7266741218881527, std deviation: 0.059973731929896065\n",
      "\n",
      "\n"
     ]
    },
    {
     "name": "stderr",
     "output_type": "stream",
     "text": [
      "/home/ianloron00/.local/lib/python3.8/site-packages/sklearn/metrics/_classification.py:1245: UndefinedMetricWarning: Precision is ill-defined and being set to 0.0 in labels with no predicted samples. Use `zero_division` parameter to control this behavior.\n",
      "  _warn_prf(average, modifier, msg_start, len(result))\n",
      "/home/ianloron00/.local/lib/python3.8/site-packages/sklearn/metrics/_classification.py:1245: UndefinedMetricWarning: Precision is ill-defined and being set to 0.0 in labels with no predicted samples. Use `zero_division` parameter to control this behavior.\n",
      "  _warn_prf(average, modifier, msg_start, len(result))\n",
      "/home/ianloron00/.local/lib/python3.8/site-packages/sklearn/metrics/_classification.py:1245: UndefinedMetricWarning: Precision is ill-defined and being set to 0.0 in labels with no predicted samples. Use `zero_division` parameter to control this behavior.\n",
      "  _warn_prf(average, modifier, msg_start, len(result))\n",
      "/home/ianloron00/.local/lib/python3.8/site-packages/sklearn/metrics/_classification.py:1245: UndefinedMetricWarning: Precision is ill-defined and being set to 0.0 in labels with no predicted samples. Use `zero_division` parameter to control this behavior.\n",
      "  _warn_prf(average, modifier, msg_start, len(result))\n",
      "/home/ianloron00/.local/lib/python3.8/site-packages/sklearn/metrics/_classification.py:1245: UndefinedMetricWarning: Precision is ill-defined and being set to 0.0 in labels with no predicted samples. Use `zero_division` parameter to control this behavior.\n",
      "  _warn_prf(average, modifier, msg_start, len(result))\n"
     ]
    }
   ],
   "source": [
    "print_val_scores(best_clf_svm,X_train,y_train)"
   ]
  },
  {
   "cell_type": "code",
   "execution_count": null,
   "id": "double-divorce",
   "metadata": {},
   "outputs": [],
   "source": []
  },
  {
   "cell_type": "code",
   "execution_count": null,
   "id": "heated-corner",
   "metadata": {},
   "outputs": [],
   "source": []
  },
  {
   "cell_type": "code",
   "execution_count": null,
   "id": "bright-australia",
   "metadata": {},
   "outputs": [],
   "source": []
  },
  {
   "cell_type": "code",
   "execution_count": null,
   "id": "sporting-chaos",
   "metadata": {},
   "outputs": [],
   "source": []
  },
  {
   "cell_type": "code",
   "execution_count": 28,
   "id": "secret-summary",
   "metadata": {},
   "outputs": [
    {
     "name": "stdout",
     "output_type": "stream",
     "text": [
      "5 fold cross-validation\n",
      "F2 Validation: 0.812 (+/- 0.018) [Logistic Regression]\n",
      "F2 Validation: 0.809 (+/- 0.010) [Random Forest Classsifier]\n",
      "F2 Validation: 0.813 (+/- 0.027) [Naive Bayes]\n"
     ]
    }
   ],
   "source": [
    "clf_lr = LogisticRegression(random_state=200)\n",
    "clf_rfc = RandomForestClassifier(random_state=200)\n",
    "clf_nb = GaussianNB()\n",
    "\n",
    "print('5 fold cross-validation')\n",
    "\n",
    "labels = ['Logistic Regression','Random Forest Classsifier', 'Naive Bayes']\n",
    "for clf, label in zip([clf_lr, clf_rfr,clf_nb], labels):\n",
    "\n",
    "    scores = cross_val_score(clf, X_train, y_train,\n",
    "                             cv=5, scoring=f_beta)\n",
    "\n",
    "    print(\"f2 Validation: %0.3f (+/- %0.3f) [%s]\" % (np.mean(scores), np.std(scores), label))"
   ]
  },
  {
   "cell_type": "code",
   "execution_count": 30,
   "id": "baking-snapshot",
   "metadata": {},
   "outputs": [],
   "source": [
    "voting_clf_hard = VotingClassifier(estimators = [(labels[0], clf_lr),\n",
    "                                                 (labels[1], clf_rfc),\n",
    "                                                 (labels[2], clf_nb)],\n",
    "                                  voting='hard')"
   ]
  },
  {
   "cell_type": "code",
   "execution_count": 31,
   "id": "figured-spiritual",
   "metadata": {},
   "outputs": [],
   "source": [
    "voting_clf_soft = VotingClassifier(estimators = [(labels[0], clf_lr),\n",
    "                                                 (labels[1], clf_rfc),\n",
    "                                                 (labels[2], clf_nb)],\n",
    "                                  voting='soft')"
   ]
  },
  {
   "cell_type": "code",
   "execution_count": 32,
   "id": "reduced-dollar",
   "metadata": {},
   "outputs": [
    {
     "name": "stdout",
     "output_type": "stream",
     "text": [
      "5 fold cross-validation\n",
      "f2 Validation: 0.812 (+/- 0.018) [Logistic Regression]\n",
      "f2 Validation: 0.809 (+/- 0.010) [Random Forest Classsifier]\n",
      "f2 Validation: 0.813 (+/- 0.027) [Naive Bayes]\n",
      "f2 Validation: 0.812 (+/- 0.018) [Hard Voting]\n",
      "f2 Validation: 0.804 (+/- 0.011) [Soft Voting]\n"
     ]
    }
   ],
   "source": [
    "print('5 fold cross-validation')\n",
    "\n",
    "labels = ['Logistic Regression','Random Forest Classifier', 'Naive Bayes', 'Voting Classifier - Hard', \n",
    "          'Voting Classifier - Soft']\n",
    "for clf, label in zip([clf_lr, clf_rfc,clf_nb, voting_clf_hard, voting_clf_soft], labels):\n",
    "\n",
    "    scores = cross_val_score(clf, X_train, y_train,\n",
    "                             cv=5, scoring=f_beta)\n",
    "\n",
    "    print(\"f2 Validation: %0.3f (+/- %0.3f) [%s]\" % (np.mean(scores), np.std(scores), label))"
   ]
  },
  {
   "cell_type": "code",
   "execution_count": null,
   "id": "valid-congress",
   "metadata": {},
   "outputs": [],
   "source": []
  },
  {
   "cell_type": "code",
   "execution_count": null,
   "id": "several-abraham",
   "metadata": {},
   "outputs": [],
   "source": []
  },
  {
   "cell_type": "code",
   "execution_count": null,
   "id": "capable-legislature",
   "metadata": {},
   "outputs": [],
   "source": []
  }
 ],
 "metadata": {
  "kernelspec": {
   "display_name": "Python 3",
   "language": "python",
   "name": "python3"
  },
  "language_info": {
   "codemirror_mode": {
    "name": "ipython",
    "version": 3
   },
   "file_extension": ".py",
   "mimetype": "text/x-python",
   "name": "python",
   "nbconvert_exporter": "python",
   "pygments_lexer": "ipython3",
   "version": "3.8.8"
  }
 },
 "nbformat": 4,
 "nbformat_minor": 5
}
