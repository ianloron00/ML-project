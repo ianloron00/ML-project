{
 "cells": [
  {
   "cell_type": "code",
   "execution_count": 88,
   "id": "dressed-drove",
   "metadata": {},
   "outputs": [],
   "source": [
    "### https://www.kaggle.com/dileep070/heart-disease-prediction-using-logistic-regression\n",
    "import numpy as np\n",
    "import pandas as pd \n",
    "# classifier models:\n",
    "from sklearn.linear_model import LogisticRegression\n",
    "from sklearn.naive_bayes import GaussianNB\n",
    "from sklearn.ensemble import RandomForestClassifier\n",
    "from sklearn.ensemble import RandomForestRegressor\n",
    "from sklearn.tree import DecisionTreeClassifier\n",
    "from sklearn.neighbors import KNeighborsClassifier\n",
    "from sklearn.pipeline import make_pipeline\n",
    "from sklearn.svm import SVC\n",
    "from sklearn.ensemble import VotingClassifier\n",
    "# scaler\n",
    "from sklearn.preprocessing import StandardScaler\n",
    "# split\n",
    "from sklearn.model_selection import train_test_split\n",
    "from sklearn.model_selection import ShuffleSplit\n",
    "# matplot libs\n",
    "from mpl_toolkits import mplot3d\n",
    "import matplotlib.pyplot as plt \n",
    "# to reduction\n",
    "from sklearn.manifold import TSNE\n",
    "from sklearn.decomposition import PCA\n",
    "# scoring\n",
    "from sklearn.metrics import fbeta_score, make_scorer\n",
    "from sklearn import metrics\n",
    "from sklearn.metrics import confusion_matrix,accuracy_score,roc_curve,classification_report\n",
    "# to classification report\n",
    "from sklearn.model_selection import learning_curve\n",
    "from pprint import pprint\n",
    "from sklearn.model_selection import RandomizedSearchCV\n",
    "from sklearn.model_selection import GridSearchCV\n",
    "from sklearn.model_selection import cross_val_score\n",
    "from sklearn.model_selection import cross_validate"
   ]
  },
  {
   "cell_type": "markdown",
   "id": "psychological-benjamin",
   "metadata": {},
   "source": [
    "Abaixo, funcoes de plots (ou tentativas rs) de plotar o gráfico. O último que postei era essa primeira funcao. Este comentário será apagado em 24 horas, boa noite."
   ]
  },
  {
   "cell_type": "code",
   "execution_count": 89,
   "id": "ranking-token",
   "metadata": {},
   "outputs": [],
   "source": [
    "def plotRed3d(train, point_labels, main_title='dimensionality reduction using PCA'):\n",
    "    dicColors = {0:'magenta', 1:'blue'}    \n",
    "    label_color = [dicColors[c] for c in point_labels]\n",
    "\n",
    "    x_label = 'X'\n",
    "    y_label = 'Y'\n",
    "    z_label = 'Z'\n",
    "    title = main_title \n",
    "\n",
    "    # creating figure\n",
    "    fig = plt.figure(figsize=(10,10))\n",
    "    ax = plt.axes(projection =\"3d\")\n",
    "\n",
    "    # creating plot\n",
    "    ax.scatter3D(train[:,0], train[:,1], train[:,2],c=label_color,alpha=0.8)\n",
    "\n",
    "    ax.set_xlabel(x_label)\n",
    "    ax.set_ylabel(y_label)\n",
    "    ax.set_zlabel(z_label)\n",
    "\n",
    "    ax.legend(labels=['healthy', 'with probable ddisease'])\n",
    "    plt.grid(b=True)\n",
    "\n",
    "    plt.suptitle(title, fontsize=20)  \n",
    "    # plt.savefig(title + '.png')\n",
    "    plt.show()"
   ]
  },
  {
   "cell_type": "code",
   "execution_count": 90,
   "id": "hawaiian-wisconsin",
   "metadata": {},
   "outputs": [],
   "source": [
    "import warnings\n",
    "# https://stackoverflow.com/questions/43162506/undefinedmetricwarning-f-score-is-ill-defined-and-being-set-to-0-0-in-labels-wi\n",
    "warnings.filterwarnings('ignore')\n",
    "\n",
    "def print_val_scores(model, X_train, y_train, scoring=['f1_weighted','f1_macro','recall_weighted',\n",
    "                                                       'precision_weighted'], \n",
    "                     cv=10):\n",
    "    _,__,f1_w,f1_m,r,p=cross_validate(model, X_train, y_train, cv=cv,\n",
    "                       scoring=scoring).items()\n",
    "    mean_f1_w = f1_w[1].mean(); sd_f1_w = f1_w[1].std()\n",
    "    mean_f1_m = f1_m[1].mean(); sd_f1_m = f1_m[1].std()\n",
    "    mean_r = r[1].mean(); sd_r = r[1].std()\n",
    "    mean_p = p[1].mean(); sd_p = p[1].std()\n",
    "    \n",
    "    print(\"Classification report for classifier {}:\\nparameters:\\n\".format(model) +\n",
    "          \"{}\\nmean: {}, std deviation: {}\\n\\n\".format(f1_w[0],mean_f1_w,sd_f1_w) +\n",
    "          \"{}\\nmean: {}, std deviation: {}\\n\\n\".format(f1_m[0],mean_f1_m,sd_f1_m) +\n",
    "          \"{}\\nmean: {}, std deviation: {}\\n\\n\".format(r[0],mean_r,sd_r) +\n",
    "          \"{}\\nmean: {}, std deviation: {}\\n\\n\".format(p[0],mean_p,sd_p))"
   ]
  },
  {
   "cell_type": "code",
   "execution_count": 91,
   "id": "final-speed",
   "metadata": {},
   "outputs": [],
   "source": [
    "def print_val_custom_score (model, X_train, y_train, \n",
    "                            scoring='f1_macro', \n",
    "                            cv=10):\n",
    "    print(\"Classification report for classifier {}:\\nparameters:\\n\".format(model))\n",
    "    \n",
    "    myReturn=cross_validate(model,X_train,y_train,cv=cv,scoring=scoring)\n",
    "    _,__,metric_score=myReturn\n",
    "    metric_score=myReturn[metric_score]\n",
    "    mean = np.mean(metric_score)\n",
    "    sd = np.std(metric_score)\n",
    "    print(\"{}\\nmean: {}, std deviation: {}\\n\\n\".format(scoring,mean,sd))"
   ]
  },
  {
   "cell_type": "code",
   "execution_count": 92,
   "id": "nutritional-skating",
   "metadata": {},
   "outputs": [],
   "source": [
    "def print_metrics(clf, X, y, prediction):\n",
    "    print(f\"Classification report for classifier {clf}:\\n\"\n",
    "          f\"{metrics.classification_report(y, prediction)}\\n\")\n",
    "    disp = metrics.plot_confusion_matrix(clf, X, y)\n",
    "    disp.figure_.suptitle(\"Confusion Matrix\")"
   ]
  },
  {
   "cell_type": "code",
   "execution_count": 93,
   "id": "mathematical-kentucky",
   "metadata": {},
   "outputs": [],
   "source": [
    "data=pd.read_csv('heart_pred.csv')\n",
    "# data.describe()"
   ]
  },
  {
   "cell_type": "markdown",
   "id": "tender-mattress",
   "metadata": {},
   "source": [
    "Retirando valores nulos e NaN"
   ]
  },
  {
   "cell_type": "code",
   "execution_count": 94,
   "id": "integrated-switzerland",
   "metadata": {},
   "outputs": [
    {
     "data": {
      "text/html": [
       "<div>\n",
       "<style scoped>\n",
       "    .dataframe tbody tr th:only-of-type {\n",
       "        vertical-align: middle;\n",
       "    }\n",
       "\n",
       "    .dataframe tbody tr th {\n",
       "        vertical-align: top;\n",
       "    }\n",
       "\n",
       "    .dataframe thead th {\n",
       "        text-align: right;\n",
       "    }\n",
       "</style>\n",
       "<table border=\"1\" class=\"dataframe\">\n",
       "  <thead>\n",
       "    <tr style=\"text-align: right;\">\n",
       "      <th></th>\n",
       "      <th>index</th>\n",
       "      <th>male</th>\n",
       "      <th>age</th>\n",
       "      <th>education</th>\n",
       "      <th>currentSmoker</th>\n",
       "      <th>cigsPerDay</th>\n",
       "      <th>BPMeds</th>\n",
       "      <th>prevalentStroke</th>\n",
       "      <th>prevalentHyp</th>\n",
       "      <th>diabetes</th>\n",
       "      <th>totChol</th>\n",
       "      <th>sysBP</th>\n",
       "      <th>diaBP</th>\n",
       "      <th>BMI</th>\n",
       "      <th>heartRate</th>\n",
       "      <th>glucose</th>\n",
       "      <th>TenYearCHD</th>\n",
       "    </tr>\n",
       "  </thead>\n",
       "  <tbody>\n",
       "    <tr>\n",
       "      <th>count</th>\n",
       "      <td>366.000000</td>\n",
       "      <td>366.000000</td>\n",
       "      <td>366.000000</td>\n",
       "      <td>366.000000</td>\n",
       "      <td>366.000000</td>\n",
       "      <td>366.000000</td>\n",
       "      <td>366.000000</td>\n",
       "      <td>366.000000</td>\n",
       "      <td>366.000000</td>\n",
       "      <td>366.000000</td>\n",
       "      <td>366.000000</td>\n",
       "      <td>366.000000</td>\n",
       "      <td>366.000000</td>\n",
       "      <td>366.000000</td>\n",
       "      <td>366.000000</td>\n",
       "      <td>366.000000</td>\n",
       "      <td>366.000000</td>\n",
       "    </tr>\n",
       "    <tr>\n",
       "      <th>mean</th>\n",
       "      <td>2147.890710</td>\n",
       "      <td>0.437158</td>\n",
       "      <td>49.322404</td>\n",
       "      <td>1.950820</td>\n",
       "      <td>0.510929</td>\n",
       "      <td>9.404372</td>\n",
       "      <td>0.021858</td>\n",
       "      <td>0.002732</td>\n",
       "      <td>0.278689</td>\n",
       "      <td>0.016393</td>\n",
       "      <td>236.647541</td>\n",
       "      <td>131.459016</td>\n",
       "      <td>82.465847</td>\n",
       "      <td>26.080000</td>\n",
       "      <td>75.478142</td>\n",
       "      <td>80.489071</td>\n",
       "      <td>0.147541</td>\n",
       "    </tr>\n",
       "    <tr>\n",
       "      <th>std</th>\n",
       "      <td>1189.202375</td>\n",
       "      <td>0.496714</td>\n",
       "      <td>8.248861</td>\n",
       "      <td>1.013761</td>\n",
       "      <td>0.500565</td>\n",
       "      <td>12.015076</td>\n",
       "      <td>0.146420</td>\n",
       "      <td>0.052271</td>\n",
       "      <td>0.448968</td>\n",
       "      <td>0.127157</td>\n",
       "      <td>43.324628</td>\n",
       "      <td>21.735230</td>\n",
       "      <td>11.737287</td>\n",
       "      <td>4.190289</td>\n",
       "      <td>12.095434</td>\n",
       "      <td>16.874838</td>\n",
       "      <td>0.355130</td>\n",
       "    </tr>\n",
       "    <tr>\n",
       "      <th>min</th>\n",
       "      <td>1.000000</td>\n",
       "      <td>0.000000</td>\n",
       "      <td>34.000000</td>\n",
       "      <td>1.000000</td>\n",
       "      <td>0.000000</td>\n",
       "      <td>0.000000</td>\n",
       "      <td>0.000000</td>\n",
       "      <td>0.000000</td>\n",
       "      <td>0.000000</td>\n",
       "      <td>0.000000</td>\n",
       "      <td>143.000000</td>\n",
       "      <td>95.000000</td>\n",
       "      <td>52.000000</td>\n",
       "      <td>16.480000</td>\n",
       "      <td>52.000000</td>\n",
       "      <td>55.000000</td>\n",
       "      <td>0.000000</td>\n",
       "    </tr>\n",
       "    <tr>\n",
       "      <th>25%</th>\n",
       "      <td>1159.750000</td>\n",
       "      <td>0.000000</td>\n",
       "      <td>42.000000</td>\n",
       "      <td>1.000000</td>\n",
       "      <td>0.000000</td>\n",
       "      <td>0.000000</td>\n",
       "      <td>0.000000</td>\n",
       "      <td>0.000000</td>\n",
       "      <td>0.000000</td>\n",
       "      <td>0.000000</td>\n",
       "      <td>207.250000</td>\n",
       "      <td>115.000000</td>\n",
       "      <td>75.000000</td>\n",
       "      <td>23.357500</td>\n",
       "      <td>67.000000</td>\n",
       "      <td>70.000000</td>\n",
       "      <td>0.000000</td>\n",
       "    </tr>\n",
       "    <tr>\n",
       "      <th>50%</th>\n",
       "      <td>2194.500000</td>\n",
       "      <td>0.000000</td>\n",
       "      <td>48.500000</td>\n",
       "      <td>2.000000</td>\n",
       "      <td>1.000000</td>\n",
       "      <td>1.000000</td>\n",
       "      <td>0.000000</td>\n",
       "      <td>0.000000</td>\n",
       "      <td>0.000000</td>\n",
       "      <td>0.000000</td>\n",
       "      <td>237.000000</td>\n",
       "      <td>129.000000</td>\n",
       "      <td>82.000000</td>\n",
       "      <td>25.730000</td>\n",
       "      <td>75.000000</td>\n",
       "      <td>77.000000</td>\n",
       "      <td>0.000000</td>\n",
       "    </tr>\n",
       "    <tr>\n",
       "      <th>75%</th>\n",
       "      <td>3190.500000</td>\n",
       "      <td>1.000000</td>\n",
       "      <td>55.750000</td>\n",
       "      <td>3.000000</td>\n",
       "      <td>1.000000</td>\n",
       "      <td>20.000000</td>\n",
       "      <td>0.000000</td>\n",
       "      <td>0.000000</td>\n",
       "      <td>1.000000</td>\n",
       "      <td>0.000000</td>\n",
       "      <td>262.000000</td>\n",
       "      <td>142.000000</td>\n",
       "      <td>89.000000</td>\n",
       "      <td>28.462500</td>\n",
       "      <td>82.000000</td>\n",
       "      <td>85.000000</td>\n",
       "      <td>0.000000</td>\n",
       "    </tr>\n",
       "    <tr>\n",
       "      <th>max</th>\n",
       "      <td>4218.000000</td>\n",
       "      <td>1.000000</td>\n",
       "      <td>68.000000</td>\n",
       "      <td>4.000000</td>\n",
       "      <td>1.000000</td>\n",
       "      <td>60.000000</td>\n",
       "      <td>1.000000</td>\n",
       "      <td>1.000000</td>\n",
       "      <td>1.000000</td>\n",
       "      <td>1.000000</td>\n",
       "      <td>464.000000</td>\n",
       "      <td>206.000000</td>\n",
       "      <td>119.000000</td>\n",
       "      <td>44.090000</td>\n",
       "      <td>120.000000</td>\n",
       "      <td>250.000000</td>\n",
       "      <td>1.000000</td>\n",
       "    </tr>\n",
       "  </tbody>\n",
       "</table>\n",
       "</div>"
      ],
      "text/plain": [
       "             index        male         age   education  currentSmoker  \\\n",
       "count   366.000000  366.000000  366.000000  366.000000     366.000000   \n",
       "mean   2147.890710    0.437158   49.322404    1.950820       0.510929   \n",
       "std    1189.202375    0.496714    8.248861    1.013761       0.500565   \n",
       "min       1.000000    0.000000   34.000000    1.000000       0.000000   \n",
       "25%    1159.750000    0.000000   42.000000    1.000000       0.000000   \n",
       "50%    2194.500000    0.000000   48.500000    2.000000       1.000000   \n",
       "75%    3190.500000    1.000000   55.750000    3.000000       1.000000   \n",
       "max    4218.000000    1.000000   68.000000    4.000000       1.000000   \n",
       "\n",
       "       cigsPerDay      BPMeds  prevalentStroke  prevalentHyp    diabetes  \\\n",
       "count  366.000000  366.000000       366.000000    366.000000  366.000000   \n",
       "mean     9.404372    0.021858         0.002732      0.278689    0.016393   \n",
       "std     12.015076    0.146420         0.052271      0.448968    0.127157   \n",
       "min      0.000000    0.000000         0.000000      0.000000    0.000000   \n",
       "25%      0.000000    0.000000         0.000000      0.000000    0.000000   \n",
       "50%      1.000000    0.000000         0.000000      0.000000    0.000000   \n",
       "75%     20.000000    0.000000         0.000000      1.000000    0.000000   \n",
       "max     60.000000    1.000000         1.000000      1.000000    1.000000   \n",
       "\n",
       "          totChol       sysBP       diaBP         BMI   heartRate     glucose  \\\n",
       "count  366.000000  366.000000  366.000000  366.000000  366.000000  366.000000   \n",
       "mean   236.647541  131.459016   82.465847   26.080000   75.478142   80.489071   \n",
       "std     43.324628   21.735230   11.737287    4.190289   12.095434   16.874838   \n",
       "min    143.000000   95.000000   52.000000   16.480000   52.000000   55.000000   \n",
       "25%    207.250000  115.000000   75.000000   23.357500   67.000000   70.000000   \n",
       "50%    237.000000  129.000000   82.000000   25.730000   75.000000   77.000000   \n",
       "75%    262.000000  142.000000   89.000000   28.462500   82.000000   85.000000   \n",
       "max    464.000000  206.000000  119.000000   44.090000  120.000000  250.000000   \n",
       "\n",
       "       TenYearCHD  \n",
       "count  366.000000  \n",
       "mean     0.147541  \n",
       "std      0.355130  \n",
       "min      0.000000  \n",
       "25%      0.000000  \n",
       "50%      0.000000  \n",
       "75%      0.000000  \n",
       "max      1.000000  "
      ]
     },
     "execution_count": 94,
     "metadata": {},
     "output_type": "execute_result"
    }
   ],
   "source": [
    "data=data.dropna()\n",
    "# data_columns=list(data.columns.values.tolist())\n",
    "data=data[data.notnull()]\n",
    "data=data.reset_index()\n",
    "data=data.sample(frac=0.1)\n",
    "data.describe()"
   ]
  },
  {
   "cell_type": "code",
   "execution_count": 95,
   "id": "olympic-publisher",
   "metadata": {},
   "outputs": [],
   "source": [
    "y=data[\"TenYearCHD\"]\n",
    "X=data.drop('TenYearCHD',axis=1)"
   ]
  },
  {
   "cell_type": "code",
   "execution_count": 96,
   "id": "efficient-racing",
   "metadata": {},
   "outputs": [
    {
     "data": {
      "text/plain": [
       "PCA(n_components=3)"
      ]
     },
     "execution_count": 96,
     "metadata": {},
     "output_type": "execute_result"
    }
   ],
   "source": [
    "# X = TSNE(n_components=2).fit_transform(X)\n",
    "pca = PCA(n_components=3)\n",
    "pca.fit(X)"
   ]
  },
  {
   "cell_type": "code",
   "execution_count": 97,
   "id": "accomplished-parade",
   "metadata": {},
   "outputs": [],
   "source": [
    "X_reduced=pca.transform(X)\n",
    "X_train, X_test, y_train, y_test = train_test_split(X_reduced, y, test_size=0.20, random_state = 200)"
   ]
  },
  {
   "cell_type": "code",
   "execution_count": 98,
   "id": "continent-colon",
   "metadata": {},
   "outputs": [],
   "source": [
    "scaler = StandardScaler()\n",
    "X_train = scaler.fit_transform(X_train)\n",
    "X_test = scaler.transform(X_test)"
   ]
  },
  {
   "cell_type": "code",
   "execution_count": 99,
   "id": "active-seating",
   "metadata": {},
   "outputs": [
    {
     "data": {
      "image/png": "[encoded data removed]",
      "text/plain": [
       "<Figure size 720x720 with 1 Axes>"
      ]
     },
     "metadata": {
      "needs_background": "light"
     },
     "output_type": "display_data"
    }
   ],
   "source": [
    "# print data distribution after dimentionality reduction\n",
    "plotRed3d(X_train,y_train)"
   ]
  },
  {
   "cell_type": "code",
   "execution_count": 126,
   "id": "acceptable-lease",
   "metadata": {},
   "outputs": [],
   "source": [
    "f_beta = make_scorer(fbeta_score, beta=4, average='weighted',zero_division=0)\n",
    "# f_beta = make_scorer(fbeta_score, beta=2, average='weighted',zero_division=0)"
   ]
  },
  {
   "cell_type": "code",
   "execution_count": null,
   "id": "based-browser",
   "metadata": {},
   "outputs": [],
   "source": []
  },
  {
   "cell_type": "code",
   "execution_count": 127,
   "id": "major-found",
   "metadata": {},
   "outputs": [],
   "source": [
    "# Criacao de grid para a Random Forest Classifier\n",
    "max_depth = [int(x) for x in np.linspace(5, 100, num = 5)]\n",
    "max_depth.append(None)\n",
    "\n",
    "grid_rfc = {\n",
    "    'n_estimators': [int(x) for x in np.linspace(start = 50, stop = 500, num = 11)],\n",
    "    'criterion': ['gini','entropy'],\n",
    "    'max_features': ['auto', 'sqrt', 'log2', None],\n",
    "    'max_depth': max_depth,\n",
    "    'min_samples_split': [2, 4],\n",
    "    'min_samples_leaf': [1, 2, 4],\n",
    "    'bootstrap': [True, False]\n",
    "}"
   ]
  },
  {
   "cell_type": "code",
   "execution_count": 128,
   "id": "informational-treasurer",
   "metadata": {},
   "outputs": [],
   "source": [
    "clf_rfc = RandomForestClassifier()"
   ]
  },
  {
   "cell_type": "code",
   "execution_count": 129,
   "id": "documented-travel",
   "metadata": {},
   "outputs": [
    {
     "data": {
      "text/plain": [
       "{'n_estimators': 185,\n",
       " 'min_samples_split': 4,\n",
       " 'min_samples_leaf': 2,\n",
       " 'max_features': None,\n",
       " 'max_depth': 5,\n",
       " 'criterion': 'entropy',\n",
       " 'bootstrap': True}"
      ]
     },
     "execution_count": 129,
     "metadata": {},
     "output_type": "execute_result"
    }
   ],
   "source": [
    "#  Random search of parameters. Uses our shuffle selection cross validation, \n",
    "#  and search across \"n_iter\" different (shuffle) combinations, and use all available cores\n",
    "rfc_search = RandomizedSearchCV(estimator = clf_rfc, param_distributions = grid_rfc, \n",
    "                               n_iter = 20, cv = 5, random_state=200, scoring=f_beta)\n",
    "\n",
    "rfc_search.fit(X_train, y_train)\n",
    "rfc_search.best_params_"
   ]
  },
  {
   "cell_type": "code",
   "execution_count": 130,
   "id": "aquatic-floor",
   "metadata": {},
   "outputs": [
    {
     "data": {
      "text/plain": [
       "0.8452696903029931"
      ]
     },
     "execution_count": 130,
     "metadata": {},
     "output_type": "execute_result"
    }
   ],
   "source": [
    "rfc_search.best_score_"
   ]
  },
  {
   "cell_type": "code",
   "execution_count": 131,
   "id": "lesbian-brooklyn",
   "metadata": {},
   "outputs": [],
   "source": [
    "best_clf_rfc = rfc_search.best_estimator_\n",
    "# print_val_scores(best_clf_rfc, X_train, y_train)"
   ]
  },
  {
   "cell_type": "code",
   "execution_count": 132,
   "id": "instant-chambers",
   "metadata": {},
   "outputs": [
    {
     "name": "stdout",
     "output_type": "stream",
     "text": [
      "Classification report for classifier RandomForestClassifier(criterion='entropy', max_depth=5, max_features=None,\n",
      "                       min_samples_leaf=2, min_samples_split=4,\n",
      "                       n_estimators=185):\n",
      "parameters:\n",
      "\n",
      "make_scorer(fbeta_score, beta=4, average=weighted, zero_division=0)\n",
      "mean: 0.8491708674255911, std deviation: 0.02438165897979618\n",
      "\n",
      "\n"
     ]
    }
   ],
   "source": [
    "print_val_custom_score(best_clf_rfc, X_train, y_train,f_beta)"
   ]
  },
  {
   "cell_type": "markdown",
   "id": "sweet-reaction",
   "metadata": {},
   "source": [
    "SVM implementarion"
   ]
  },
  {
   "cell_type": "code",
   "execution_count": null,
   "id": "double-motorcycle",
   "metadata": {},
   "outputs": [],
   "source": []
  },
  {
   "cell_type": "code",
   "execution_count": 133,
   "id": "likely-russian",
   "metadata": {},
   "outputs": [],
   "source": [
    "clf_svm = make_pipeline(StandardScaler(), SVC())\n",
    "# print(pprint(clf_svm.get_params() ))"
   ]
  },
  {
   "cell_type": "code",
   "execution_count": 134,
   "id": "funky-circular",
   "metadata": {},
   "outputs": [],
   "source": [
    "# https://scikit-learn.org/stable/modules/generated/sklearn.svm.SVC.html\n",
    "\n",
    "C = [float(x) for x in np.linspace(start = 0.1, stop = 150.0, num = 10).astype(float)]\n",
    "class_weight=['balanced', None]\n",
    "kernel = ['linear', 'poly', 'rbf','sigmoid']\n",
    "gamma = ['scale', 'auto']\n",
    "decision_function_shape = ['ovo','ovr']\n",
    "shrinking = [True, False]\n",
    "\n",
    "grid_svm = {'svc__C': C,\n",
    "                   'svc__kernel': kernel,\n",
    "                   'svc__gamma': gamma,\n",
    "                   'svc__class_weight':class_weight,\n",
    "                   'svc__decision_function_shape': decision_function_shape,\n",
    "                   'svc__shrinking': shrinking,\n",
    "                   'svc__probability': [True]\n",
    "           }\n",
    "# pprint(grid_svm)"
   ]
  },
  {
   "cell_type": "code",
   "execution_count": 135,
   "id": "under-morrison",
   "metadata": {},
   "outputs": [
    {
     "data": {
      "text/plain": [
       "{'svc__shrinking': False,\n",
       " 'svc__probability': True,\n",
       " 'svc__kernel': 'rbf',\n",
       " 'svc__gamma': 'auto',\n",
       " 'svc__decision_function_shape': 'ovo',\n",
       " 'svc__class_weight': None,\n",
       " 'svc__C': 0.1}"
      ]
     },
     "execution_count": 135,
     "metadata": {},
     "output_type": "execute_result"
    }
   ],
   "source": [
    "svm_search = RandomizedSearchCV(estimator = clf_svm, param_distributions = grid_svm, \n",
    "                               n_iter = 20, cv = 5, random_state=200, scoring=f_beta)\n",
    "\n",
    "svm_search.fit(X_train, y_train)\n",
    "svm_search.best_params_"
   ]
  },
  {
   "cell_type": "code",
   "execution_count": 136,
   "id": "broadband-genius",
   "metadata": {},
   "outputs": [
    {
     "name": "stdout",
     "output_type": "stream",
     "text": [
      "Classification report for classifier Pipeline(steps=[('standardscaler', StandardScaler()),\n",
      "                ('svc',\n",
      "                 SVC(C=0.1, decision_function_shape='ovo', gamma='auto',\n",
      "                     probability=True, shrinking=False))]):\n",
      "parameters:\n",
      "\n",
      "make_scorer(fbeta_score, beta=4, average=weighted, zero_division=0)\n",
      "mean: 0.8479535033263984, std deviation: 0.012155046236842581\n",
      "\n",
      "\n"
     ]
    }
   ],
   "source": [
    "best_clf_svm = svm_search.best_estimator_\n",
    "svm_search.best_score_\n",
    "print_val_custom_score(best_clf_svm,X_train,y_train,f_beta)"
   ]
  },
  {
   "cell_type": "code",
   "execution_count": 112,
   "id": "nuclear-mouse",
   "metadata": {},
   "outputs": [],
   "source": [
    "#print_val_scores(best_clf_svm,X_train,y_train)"
   ]
  },
  {
   "cell_type": "code",
   "execution_count": null,
   "id": "undefined-momentum",
   "metadata": {},
   "outputs": [],
   "source": []
  },
  {
   "cell_type": "code",
   "execution_count": 137,
   "id": "rotary-grenada",
   "metadata": {},
   "outputs": [],
   "source": [
    "# https://scikit-learn.org/stable/modules/generated/sklearn.svm.SVC.html\n",
    "var_smoothing = [float(1/10**x) for x in np.linspace(start=1,stop=15,num=16)]\n",
    "\n",
    "grid_nb = {\n",
    "    'var_smoothing': var_smoothing\n",
    "}\n",
    "# pprint(grid_nb)"
   ]
  },
  {
   "cell_type": "code",
   "execution_count": 138,
   "id": "automated-corrections",
   "metadata": {},
   "outputs": [
    {
     "data": {
      "text/plain": [
       "{'var_smoothing': 0.1}"
      ]
     },
     "execution_count": 138,
     "metadata": {},
     "output_type": "execute_result"
    }
   ],
   "source": [
    "clf_nb = GaussianNB()\n",
    "nb_search = GridSearchCV(estimator = clf_nb, param_grid = grid_nb, \n",
    "                         cv = 5, scoring=f_beta)\n",
    "nb_search.fit(X_train, y_train)\n",
    "nb_search.best_params_"
   ]
  },
  {
   "cell_type": "code",
   "execution_count": 139,
   "id": "antique-cycle",
   "metadata": {},
   "outputs": [
    {
     "name": "stdout",
     "output_type": "stream",
     "text": [
      "Classification report for classifier GaussianNB(var_smoothing=0.1):\n",
      "parameters:\n",
      "\n",
      "make_scorer(fbeta_score, beta=4, average=weighted, zero_division=0)\n",
      "mean: 0.8452591333857136, std deviation: 0.013501921129876134\n",
      "\n",
      "\n"
     ]
    }
   ],
   "source": [
    "best_clf_nb = nb_search.best_estimator_\n",
    "nb_search.best_score_\n",
    "print_val_custom_score(best_clf_nb,X_train,y_train,f_beta)"
   ]
  },
  {
   "cell_type": "code",
   "execution_count": null,
   "id": "heated-corner",
   "metadata": {},
   "outputs": [],
   "source": []
  },
  {
   "cell_type": "code",
   "execution_count": 140,
   "id": "behind-tattoo",
   "metadata": {},
   "outputs": [],
   "source": [
    "#https://scikit-learn.org/stable/modules/generated/sklearn.linear_model.LogisticRegression.html\n",
    "\n",
    "C=[float(x) for x in np.linspace(start=0.1,stop=3,num=21)]\n",
    "grid_lr = {\n",
    "    'C': C,\n",
    "    'n_jobs': [None, -1],\n",
    "    'multi_class': ['auto', 'ovr', 'multinomial'],\n",
    "    'warm_start': [False,True]\n",
    "}\n",
    "# pprint(grid_lr)"
   ]
  },
  {
   "cell_type": "code",
   "execution_count": 141,
   "id": "alone-consortium",
   "metadata": {},
   "outputs": [
    {
     "data": {
      "text/plain": [
       "{'warm_start': True, 'n_jobs': -1, 'multi_class': 'ovr', 'C': 0.1}"
      ]
     },
     "execution_count": 141,
     "metadata": {},
     "output_type": "execute_result"
    }
   ],
   "source": [
    "clf_lr = LogisticRegression()\n",
    "# print(RandomizedSearchCV(estimator = clf_lr, param_distributions = grid_lr, n_iter=20,\n",
    "#                         cv = 5, scoring=f_beta).estimator.get_params().keys())\n",
    "\n",
    "lr_search = RandomizedSearchCV(estimator = clf_lr, param_distributions=grid_lr, \n",
    "                                 n_iter=20, cv = 5, scoring=f_beta)\n",
    "lr_search.fit(X_train, y_train)\n",
    "lr_search.best_params_"
   ]
  },
  {
   "cell_type": "code",
   "execution_count": 142,
   "id": "sporting-chaos",
   "metadata": {},
   "outputs": [
    {
     "name": "stdout",
     "output_type": "stream",
     "text": [
      "Classification report for classifier LogisticRegression(C=0.1, multi_class='ovr', n_jobs=-1, warm_start=True):\n",
      "parameters:\n",
      "\n",
      "make_scorer(fbeta_score, beta=4, average=weighted, zero_division=0)\n",
      "mean: 0.8479535033263984, std deviation: 0.012155046236842581\n",
      "\n",
      "\n"
     ]
    }
   ],
   "source": [
    "best_clf_lr = lr_search.best_estimator_\n",
    "lr_search.best_score_\n",
    "print_val_custom_score(best_clf_lr,X_train,y_train,f_beta)"
   ]
  },
  {
   "cell_type": "code",
   "execution_count": null,
   "id": "uniform-greene",
   "metadata": {},
   "outputs": [],
   "source": []
  },
  {
   "cell_type": "code",
   "execution_count": null,
   "id": "optical-consensus",
   "metadata": {},
   "outputs": [],
   "source": []
  },
  {
   "cell_type": "code",
   "execution_count": null,
   "id": "oriented-berlin",
   "metadata": {},
   "outputs": [],
   "source": []
  },
  {
   "cell_type": "code",
   "execution_count": null,
   "id": "convenient-defeat",
   "metadata": {},
   "outputs": [],
   "source": []
  },
  {
   "cell_type": "code",
   "execution_count": 143,
   "id": "appropriate-consciousness",
   "metadata": {},
   "outputs": [],
   "source": [
    "clf_lr = best_clf_lr \n",
    "clf_rfc = best_clf_rfc\n",
    "clf_nb = best_clf_nb\n",
    "clf_svm = best_clf_svm"
   ]
  },
  {
   "cell_type": "code",
   "execution_count": 144,
   "id": "secret-summary",
   "metadata": {},
   "outputs": [
    {
     "name": "stdout",
     "output_type": "stream",
     "text": [
      "5 fold cross-validation\n",
      "f2 Validation: 0.848 (+/- 0.008) [Logistic Regression]\n",
      "f2 Validation: 0.845 (+/- 0.013) [Random Forest Classsifier]\n",
      "f2 Validation: 0.846 (+/- 0.017) [Naive Bayes]\n",
      "f2 Validation: 0.848 (+/- 0.008) [SVM]\n"
     ]
    }
   ],
   "source": [
    "print('5 fold cross-validation')\n",
    "\n",
    "labels = ['Logistic Regression','Random Forest Classsifier', 'Naive Bayes', 'SVM']\n",
    "for clf, label in zip([clf_lr, clf_rfc,clf_nb, clf_svm], labels):\n",
    "\n",
    "    scores = cross_val_score(clf, X_train, y_train,\n",
    "                             cv=5, scoring=f_beta)\n",
    "\n",
    "    print(\"f2 Validation: %0.3f (+/- %0.3f) [%s]\" % (np.mean(scores), np.std(scores), label))"
   ]
  },
  {
   "cell_type": "code",
   "execution_count": 145,
   "id": "baking-snapshot",
   "metadata": {},
   "outputs": [],
   "source": [
    "voting_clf_hard = VotingClassifier(estimators = [(labels[0], clf_lr),\n",
    "                                                 (labels[1], clf_rfc),\n",
    "                                                 (labels[2], clf_nb),\n",
    "                                                 (labels[3], clf_svm)],\n",
    "                                  voting='hard')"
   ]
  },
  {
   "cell_type": "code",
   "execution_count": 146,
   "id": "figured-spiritual",
   "metadata": {},
   "outputs": [],
   "source": [
    "voting_clf_soft = VotingClassifier(estimators = [(labels[0], clf_lr),\n",
    "                                                 (labels[1], clf_rfc),\n",
    "                                                 (labels[2], clf_nb),\n",
    "                                                 (labels[3], clf_svm)],\n",
    "                                  voting='soft')"
   ]
  },
  {
   "cell_type": "code",
   "execution_count": 147,
   "id": "reduced-dollar",
   "metadata": {
    "scrolled": false
   },
   "outputs": [
    {
     "name": "stdout",
     "output_type": "stream",
     "text": [
      "5 fold cross-validation\n",
      "f2 Validation: 0.836 (+/- 0.006) [Logistic Regression]\n",
      "f2 Validation: 0.834 (+/- 0.007) [Random Forest Classifier]\n",
      "f2 Validation: 0.844 (+/- 0.006) [Naive Bayes]\n",
      "f2 Validation: 0.844 (+/- 0.006) [SVM]\n",
      "f2 Validation: 0.844 (+/- 0.006) [Voting Classifier - Hard]\n",
      "f2 Validation: 0.844 (+/- 0.006) [Voting Classifier - Soft]\n"
     ]
    }
   ],
   "source": [
    "print('5 fold cross-validation')\n",
    "\n",
    "labels = ['Logistic Regression','Random Forest Classifier', 'Naive Bayes', 'SVM', \n",
    "          'Voting Classifier - Hard', 'Voting Classifier - Soft']\n",
    "for clf, label in zip([clf_lr, clf_rfc,clf_nb, clf_svm, voting_clf_hard, voting_clf_soft], labels):\n",
    "\n",
    "    scores = cross_val_score(clf, X, y,\n",
    "                             cv=5, scoring=f_beta,error_score='raise')\n",
    "\n",
    "    print(\"f2 Validation: %0.3f (+/- %0.3f) [%s]\" % (np.mean(scores), np.std(scores), label))"
   ]
  },
  {
   "cell_type": "code",
   "execution_count": null,
   "id": "recorded-partner",
   "metadata": {},
   "outputs": [],
   "source": []
  },
  {
   "cell_type": "code",
   "execution_count": null,
   "id": "cutting-afghanistan",
   "metadata": {},
   "outputs": [],
   "source": []
  },
  {
   "cell_type": "code",
   "execution_count": null,
   "id": "willing-support",
   "metadata": {},
   "outputs": [],
   "source": []
  },
  {
   "cell_type": "code",
   "execution_count": 148,
   "id": "norman-continent",
   "metadata": {},
   "outputs": [
    {
     "name": "stdout",
     "output_type": "stream",
     "text": [
      "LogisticRegression(C=0.1, multi_class='ovr', n_jobs=-1, warm_start=True)\n",
      "GaussianNB(var_smoothing=0.1)\n",
      "RandomForestClassifier(criterion='entropy', max_depth=5, max_features=None,\n",
      "                       min_samples_leaf=2, min_samples_split=4,\n",
      "                       n_estimators=185)\n",
      "Pipeline(steps=[('standardscaler', StandardScaler()),\n",
      "                ('svc',\n",
      "                 SVC(C=0.1, decision_function_shape='ovo', gamma='auto',\n",
      "                     probability=True, shrinking=False))])\n"
     ]
    }
   ],
   "source": [
    "print(clf_lr)\n",
    "print(clf_nb)\n",
    "print(clf_rfc)\n",
    "print(clf_svm)"
   ]
  },
  {
   "cell_type": "code",
   "execution_count": 149,
   "id": "valid-congress",
   "metadata": {},
   "outputs": [
    {
     "name": "stdout",
     "output_type": "stream",
     "text": [
      "Classification report for classifier LogisticRegression(C=0.1, multi_class='ovr', n_jobs=-1, warm_start=True):\n",
      "              precision    recall  f1-score   support\n",
      "\n",
      "           0       0.84      1.00      0.91        62\n",
      "           1       0.00      0.00      0.00        12\n",
      "\n",
      "    accuracy                           0.84        74\n",
      "   macro avg       0.42      0.50      0.46        74\n",
      "weighted avg       0.70      0.84      0.76        74\n",
      "\n",
      "\n",
      "Classification report for classifier RandomForestClassifier(criterion='entropy', max_depth=5, max_features=None,\n",
      "                       min_samples_leaf=2, min_samples_split=4,\n",
      "                       n_estimators=185):\n",
      "              precision    recall  f1-score   support\n",
      "\n",
      "           0       0.84      1.00      0.91        62\n",
      "           1       0.00      0.00      0.00        12\n",
      "\n",
      "    accuracy                           0.84        74\n",
      "   macro avg       0.42      0.50      0.46        74\n",
      "weighted avg       0.70      0.84      0.76        74\n",
      "\n",
      "\n",
      "Classification report for classifier GaussianNB(var_smoothing=0.1):\n",
      "              precision    recall  f1-score   support\n",
      "\n",
      "           0       0.84      1.00      0.91        62\n",
      "           1       0.00      0.00      0.00        12\n",
      "\n",
      "    accuracy                           0.84        74\n",
      "   macro avg       0.42      0.50      0.46        74\n",
      "weighted avg       0.70      0.84      0.76        74\n",
      "\n",
      "\n",
      "Classification report for classifier Pipeline(steps=[('standardscaler', StandardScaler()),\n",
      "                ('svc',\n",
      "                 SVC(C=0.1, decision_function_shape='ovo', gamma='auto',\n",
      "                     probability=True, shrinking=False))]):\n",
      "              precision    recall  f1-score   support\n",
      "\n",
      "           0       0.84      1.00      0.91        62\n",
      "           1       0.00      0.00      0.00        12\n",
      "\n",
      "    accuracy                           0.84        74\n",
      "   macro avg       0.42      0.50      0.46        74\n",
      "weighted avg       0.70      0.84      0.76        74\n",
      "\n",
      "\n",
      "Classification report for classifier VotingClassifier(estimators=[('Logistic Regression',\n",
      "                              LogisticRegression(C=0.1, multi_class='ovr',\n",
      "                                                 n_jobs=-1, warm_start=True)),\n",
      "                             ('Random Forest Classsifier',\n",
      "                              RandomForestClassifier(criterion='entropy',\n",
      "                                                     max_depth=5,\n",
      "                                                     max_features=None,\n",
      "                                                     min_samples_leaf=2,\n",
      "                                                     min_samples_split=4,\n",
      "                                                     n_estimators=185)),\n",
      "                             ('Naive Bayes', GaussianNB(var_smoothing=0.1)),\n",
      "                             ('SVM',\n",
      "                              Pipeline(steps=[('standardscaler',\n",
      "                                               StandardScaler()),\n",
      "                                              ('svc',\n",
      "                                               SVC(C=0.1,\n",
      "                                                   decision_function_shape='ovo',\n",
      "                                                   gamma='auto',\n",
      "                                                   probability=True,\n",
      "                                                   shrinking=False))]))]):\n",
      "              precision    recall  f1-score   support\n",
      "\n",
      "           0       0.84      1.00      0.91        62\n",
      "           1       0.00      0.00      0.00        12\n",
      "\n",
      "    accuracy                           0.84        74\n",
      "   macro avg       0.42      0.50      0.46        74\n",
      "weighted avg       0.70      0.84      0.76        74\n",
      "\n",
      "\n",
      "Classification report for classifier VotingClassifier(estimators=[('Logistic Regression',\n",
      "                              LogisticRegression(C=0.1, multi_class='ovr',\n",
      "                                                 n_jobs=-1, warm_start=True)),\n",
      "                             ('Random Forest Classsifier',\n",
      "                              RandomForestClassifier(criterion='entropy',\n",
      "                                                     max_depth=5,\n",
      "                                                     max_features=None,\n",
      "                                                     min_samples_leaf=2,\n",
      "                                                     min_samples_split=4,\n",
      "                                                     n_estimators=185)),\n",
      "                             ('Naive Bayes', GaussianNB(var_smoothing=0.1)),\n",
      "                             ('SVM',\n",
      "                              Pipeline(steps=[('standardscaler',\n",
      "                                               StandardScaler()),\n",
      "                                              ('svc',\n",
      "                                               SVC(C=0.1,\n",
      "                                                   decision_function_shape='ovo',\n",
      "                                                   gamma='auto',\n",
      "                                                   probability=True,\n",
      "                                                   shrinking=False))]))],\n",
      "                 voting='soft'):\n",
      "              precision    recall  f1-score   support\n",
      "\n",
      "           0       0.84      1.00      0.91        62\n",
      "           1       0.00      0.00      0.00        12\n",
      "\n",
      "    accuracy                           0.84        74\n",
      "   macro avg       0.42      0.50      0.46        74\n",
      "weighted avg       0.70      0.84      0.76        74\n",
      "\n",
      "\n"
     ]
    },
    {
     "data": {
      "image/png": "[encoded data removed]",
      "text/plain": [
       "<Figure size 432x288 with 2 Axes>"
      ]
     },
     "metadata": {
      "needs_background": "light"
     },
     "output_type": "display_data"
    },
    {
     "data": {
      "image/png": "[encoded data removed]",
      "text/plain": [
       "<Figure size 432x288 with 2 Axes>"
      ]
     },
     "metadata": {
      "needs_background": "light"
     },
     "output_type": "display_data"
    },
    {
     "data": {
      "image/png": "[encoded data removed]",
      "text/plain": [
       "<Figure size 432x288 with 2 Axes>"
      ]
     },
     "metadata": {
      "needs_background": "light"
     },
     "output_type": "display_data"
    },
    {
     "data": {
      "image/png": "[encoded data removed]",
      "text/plain": [
       "<Figure size 432x288 with 2 Axes>"
      ]
     },
     "metadata": {
      "needs_background": "light"
     },
     "output_type": "display_data"
    },
    {
     "data": {
      "image/png": "[encoded data removed]",
      "text/plain": [
       "<Figure size 432x288 with 2 Axes>"
      ]
     },
     "metadata": {
      "needs_background": "light"
     },
     "output_type": "display_data"
    },
    {
     "data": {
      "image/png": "[encoded data removed]",
      "text/plain": [
       "<Figure size 432x288 with 2 Axes>"
      ]
     },
     "metadata": {
      "needs_background": "light"
     },
     "output_type": "display_data"
    }
   ],
   "source": [
    "for clf, label in zip([clf_lr, clf_rfc,clf_nb, clf_svm, voting_clf_hard, voting_clf_soft], labels):\n",
    "    clf.fit(X_train,y_train)\n",
    "    prediction = clf.predict(X_test)\n",
    "    print_metrics(clf,X_test,y_test,prediction)"
   ]
  },
  {
   "cell_type": "code",
   "execution_count": null,
   "id": "several-abraham",
   "metadata": {},
   "outputs": [],
   "source": []
  },
  {
   "cell_type": "code",
   "execution_count": null,
   "id": "capable-legislature",
   "metadata": {},
   "outputs": [],
   "source": []
  },
  {
   "cell_type": "code",
   "execution_count": null,
   "id": "elegant-archives",
   "metadata": {},
   "outputs": [],
   "source": []
  },
  {
   "cell_type": "code",
   "execution_count": null,
   "id": "nutritional-savings",
   "metadata": {},
   "outputs": [],
   "source": []
  },
  {
   "cell_type": "markdown",
   "id": "signed-delicious",
   "metadata": {},
   "source": [
    "Caso vc nao queira rodar tudo de novo, pode dar ctrl c+v nos grids e recuperar os melhores modelos assim:"
   ]
  },
  {
   "cell_type": "code",
   "execution_count": 79,
   "id": "hundred-passenger",
   "metadata": {},
   "outputs": [],
   "source": [
    "# https://stackoverflow.com/questions/33110973/pass-a-dict-to-scikit-learn-estimator\n",
    "grid_rfc={'n_estimators': 500,\n",
    " 'min_samples_split': 2,\n",
    " 'min_samples_leaf': 4,\n",
    " 'max_features': 'sqrt',\n",
    " 'max_depth': None,\n",
    " 'criterion': 'gini',\n",
    " 'bootstrap': True}\n",
    "\n",
    "clf_rfc=RandomForestClassifier(**grid_rfc)\n",
    "\n",
    "grid_svm={'svc__shrinking': False,\n",
    " 'svc__probability': True,\n",
    " 'svc__kernel': 'rbf',\n",
    " 'svc__gamma': 'auto',\n",
    " 'svc__decision_function_shape': 'ovo',\n",
    " 'svc__class_weight': None,\n",
    " 'svc__C': 0.1}\n",
    "\n",
    "clf_svm = make_pipeline(StandardScaler(), SVC())\n",
    "clf_svm.set_params(**grid_svm)\n",
    "\n",
    "grid_nb={'var_smoothing': 0.1}\n",
    "clf_nb=GaussianNB(var_smoothing= 0.1)\n",
    "\n",
    "grid_lr={'warm_start': True, 'n_jobs': -1, 'multi_class': 'multinomial', 'C': 0.39}\n",
    "clf_lr=LogisticRegression(**grid_lr)"
   ]
  }
 ],
 "metadata": {
  "kernelspec": {
   "display_name": "Python 3",
   "language": "python",
   "name": "python3"
  },
  "language_info": {
   "codemirror_mode": {
    "name": "ipython",
    "version": 3
   },
   "file_extension": ".py",
   "mimetype": "text/x-python",
   "name": "python",
   "nbconvert_exporter": "python",
   "pygments_lexer": "ipython3",
   "version": "3.8.8"
  }
 },
 "nbformat": 4,
 "nbformat_minor": 5
}
