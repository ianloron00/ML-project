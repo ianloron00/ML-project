{
  "nbformat": 4,
  "nbformat_minor": 5,
  "metadata": {
    "colab": {
      "name": "DEMO P4 - Heart Disease Prediction through SV - Undersampling.ipynb",
      "provenance": []
    },
    "kernelspec": {
      "display_name": "Python 3",
      "language": "python",
      "name": "python3"
    },
    "language_info": {
      "codemirror_mode": {
        "name": "ipython",
        "version": 3
      },
      "file_extension": ".py",
      "mimetype": "text/x-python",
      "name": "python",
      "nbconvert_exporter": "python",
      "pygments_lexer": "ipython3",
      "version": "3.8.8"
    }
  },
  "cells": [
    {
      "cell_type": "code",
      "metadata": {
        "id": "dressed-drove"
      },
      "source": [
        "### https://www.kaggle.com/dileep070/heart-disease-prediction-using-logistic-regression\n",
        "import numpy as np\n",
        "import pandas as pd \n",
        "# classifier models:\n",
        "from sklearn.linear_model import LogisticRegression\n",
        "from sklearn.naive_bayes import GaussianNB\n",
        "from sklearn.ensemble import RandomForestClassifier\n",
        "from sklearn.ensemble import RandomForestRegressor\n",
        "from sklearn.tree import DecisionTreeClassifier\n",
        "from sklearn.neighbors import KNeighborsClassifier\n",
        "from sklearn.pipeline import make_pipeline\n",
        "from sklearn.svm import SVC\n",
        "from sklearn.ensemble import VotingClassifier\n",
        "# scaler\n",
        "from sklearn.preprocessing import StandardScaler\n",
        "# split\n",
        "from sklearn.model_selection import train_test_split\n",
        "from sklearn.model_selection import ShuffleSplit\n",
        "# matplot libs\n",
        "from mpl_toolkits import mplot3d\n",
        "import matplotlib.pyplot as plt \n",
        "# to reduction\n",
        "from sklearn.manifold import TSNE\n",
        "from sklearn.decomposition import PCA\n",
        "# scoring\n",
        "from sklearn.metrics import fbeta_score, make_scorer, balanced_accuracy_score, jaccard_score, cohen_kappa_score\n",
        "from sklearn import metrics\n",
        "from sklearn.metrics import confusion_matrix,accuracy_score,roc_curve,classification_report\n",
        "# to classification report\n",
        "from sklearn.model_selection import learning_curve\n",
        "from pprint import pprint\n",
        "from sklearn.model_selection import RandomizedSearchCV\n",
        "from sklearn.model_selection import GridSearchCV\n",
        "from sklearn.model_selection import cross_val_score\n",
        "from sklearn.model_selection import cross_validate\n",
        "from imblearn.over_sampling import SMOTE\n",
        "from imblearn.under_sampling import NearMiss"
      ],
      "id": "dressed-drove",
      "execution_count": null,
      "outputs": []
    },
    {
      "cell_type": "markdown",
      "metadata": {
        "id": "psychological-benjamin"
      },
      "source": [
        "Abaixo, funcoes de plots (ou tentativas rs) de plotar o gráfico. O último que postei era essa primeira funcao. Este comentário será apagado em 24 horas, boa noite."
      ],
      "id": "psychological-benjamin"
    },
    {
      "cell_type": "code",
      "metadata": {
        "id": "ranking-token"
      },
      "source": [
        "def plotRed3d(train, point_labels, main_title='dimensionality reduction using PCA'):\n",
        "    dicColors = {0:'magenta', 1:'blue'}    \n",
        "    label_color = [dicColors[c] for c in point_labels]\n",
        "\n",
        "    x_label = 'X'\n",
        "    y_label = 'Y'\n",
        "    z_label = 'Z'\n",
        "    title = main_title \n",
        "\n",
        "    # creating figure\n",
        "    fig = plt.figure(figsize=(10,10))\n",
        "    ax = plt.axes(projection =\"3d\")\n",
        "\n",
        "    # creating plot\n",
        "    ax.scatter3D(train[:,0], train[:,1], train[:,2],c=label_color,alpha=0.8)\n",
        "\n",
        "    ax.set_xlabel(x_label)\n",
        "    ax.set_ylabel(y_label)\n",
        "    ax.set_zlabel(z_label)\n",
        "\n",
        "    ax.legend(labels=['healthy', 'with probable ddisease'])\n",
        "    plt.grid(b=True)\n",
        "\n",
        "    plt.suptitle(title, fontsize=20)  \n",
        "    # plt.savefig(title + '.png')\n",
        "    plt.show()"
      ],
      "id": "ranking-token",
      "execution_count": null,
      "outputs": []
    },
    {
      "cell_type": "code",
      "metadata": {
        "id": "hawaiian-wisconsin"
      },
      "source": [
        "import warnings\n",
        "# https://stackoverflow.com/questions/43162506/undefinedmetricwarning-f-score-is-ill-defined-and-being-set-to-0-0-in-labels-wi\n",
        "warnings.filterwarnings('ignore')\n",
        "\n",
        "def print_val_scores(model, X_train, y_train, scoring=['f1_weighted','f1_macro','recall_weighted',\n",
        "                                                       'precision_weighted'], \n",
        "                     cv=10):\n",
        "    _,__,f1_w,f1_m,r,p=cross_validate(model, X_train, y_train, cv=cv,\n",
        "                       scoring=scoring).items()\n",
        "    mean_f1_w = f1_w[1].mean(); sd_f1_w = f1_w[1].std()\n",
        "    mean_f1_m = f1_m[1].mean(); sd_f1_m = f1_m[1].std()\n",
        "    mean_r = r[1].mean(); sd_r = r[1].std()\n",
        "    mean_p = p[1].mean(); sd_p = p[1].std()\n",
        "    \n",
        "    print(\"Classification report for classifier {}:\\nparameters:\\n\".format(model) +\n",
        "          \"{}\\nmean: {}, std deviation: {}\\n\\n\".format(f1_w[0],mean_f1_w,sd_f1_w) +\n",
        "          \"{}\\nmean: {}, std deviation: {}\\n\\n\".format(f1_m[0],mean_f1_m,sd_f1_m) +\n",
        "          \"{}\\nmean: {}, std deviation: {}\\n\\n\".format(r[0],mean_r,sd_r) +\n",
        "          \"{}\\nmean: {}, std deviation: {}\\n\\n\".format(p[0],mean_p,sd_p))"
      ],
      "id": "hawaiian-wisconsin",
      "execution_count": null,
      "outputs": []
    },
    {
      "cell_type": "code",
      "metadata": {
        "id": "final-speed"
      },
      "source": [
        "def print_val_custom_score (model, X_train, y_train, \n",
        "                            scoring='f1_macro', \n",
        "                            cv=10):\n",
        "    print(\"Classification report for classifier {}:\\nparameters:\\n\".format(model))\n",
        "    \n",
        "    myReturn=cross_validate(model,X_train,y_train,cv=cv,scoring=scoring)\n",
        "    _,__,metric_score=myReturn\n",
        "    metric_score=myReturn[metric_score]\n",
        "    mean = np.mean(metric_score)\n",
        "    sd = np.std(metric_score)\n",
        "    print(\"{}\\nmean: {}, std deviation: {}\\n\\n\".format(scoring,mean,sd))"
      ],
      "id": "final-speed",
      "execution_count": null,
      "outputs": []
    },
    {
      "cell_type": "code",
      "metadata": {
        "id": "nutritional-skating"
      },
      "source": [
        "def print_metrics(clf, X, y, prediction):\n",
        "    print(f\"Classification report for classifier {clf}:\\n\"\n",
        "          f\"{metrics.classification_report(y, prediction)}\\n\")\n",
        "    disp = metrics.plot_confusion_matrix(clf, X, y)\n",
        "    disp.figure_.suptitle(\"Confusion Matrix\")"
      ],
      "id": "nutritional-skating",
      "execution_count": null,
      "outputs": []
    },
    {
      "cell_type": "code",
      "metadata": {
        "id": "mathematical-kentucky"
      },
      "source": [
        "data=pd.read_csv('heart_pred.csv')\n",
        "# data.describe()"
      ],
      "id": "mathematical-kentucky",
      "execution_count": null,
      "outputs": []
    },
    {
      "cell_type": "markdown",
      "metadata": {
        "id": "tender-mattress"
      },
      "source": [
        "Retirando valores nulos e NaN"
      ],
      "id": "tender-mattress"
    },
    {
      "cell_type": "code",
      "metadata": {
        "colab": {
          "base_uri": "https://localhost:8080/",
          "height": 297
        },
        "id": "integrated-switzerland",
        "outputId": "604f1686-e26c-424c-be88-e6c59a09c477"
      },
      "source": [
        "data=data.dropna()\n",
        "# data_columns=list(data.columns.values.tolist())\n",
        "data=data[data.notnull()]\n",
        "data=data.reset_index()\n",
        "data=data.sample(frac=0.1)\n",
        "data.describe()"
      ],
      "id": "integrated-switzerland",
      "execution_count": null,
      "outputs": [
        {
          "output_type": "execute_result",
          "data": {
            "text/html": [
              "<div>\n",
              "<style scoped>\n",
              "    .dataframe tbody tr th:only-of-type {\n",
              "        vertical-align: middle;\n",
              "    }\n",
              "\n",
              "    .dataframe tbody tr th {\n",
              "        vertical-align: top;\n",
              "    }\n",
              "\n",
              "    .dataframe thead th {\n",
              "        text-align: right;\n",
              "    }\n",
              "</style>\n",
              "<table border=\"1\" class=\"dataframe\">\n",
              "  <thead>\n",
              "    <tr style=\"text-align: right;\">\n",
              "      <th></th>\n",
              "      <th>index</th>\n",
              "      <th>male</th>\n",
              "      <th>age</th>\n",
              "      <th>education</th>\n",
              "      <th>currentSmoker</th>\n",
              "      <th>cigsPerDay</th>\n",
              "      <th>BPMeds</th>\n",
              "      <th>prevalentStroke</th>\n",
              "      <th>prevalentHyp</th>\n",
              "      <th>diabetes</th>\n",
              "      <th>totChol</th>\n",
              "      <th>sysBP</th>\n",
              "      <th>diaBP</th>\n",
              "      <th>BMI</th>\n",
              "      <th>heartRate</th>\n",
              "      <th>glucose</th>\n",
              "      <th>TenYearCHD</th>\n",
              "    </tr>\n",
              "  </thead>\n",
              "  <tbody>\n",
              "    <tr>\n",
              "      <th>count</th>\n",
              "      <td>366.000000</td>\n",
              "      <td>366.000000</td>\n",
              "      <td>366.000000</td>\n",
              "      <td>366.000000</td>\n",
              "      <td>366.000000</td>\n",
              "      <td>366.000000</td>\n",
              "      <td>366.000000</td>\n",
              "      <td>366.000000</td>\n",
              "      <td>366.000000</td>\n",
              "      <td>366.000000</td>\n",
              "      <td>366.000000</td>\n",
              "      <td>366.000000</td>\n",
              "      <td>366.000000</td>\n",
              "      <td>366.000000</td>\n",
              "      <td>366.000000</td>\n",
              "      <td>366.000000</td>\n",
              "      <td>366.000000</td>\n",
              "    </tr>\n",
              "    <tr>\n",
              "      <th>mean</th>\n",
              "      <td>2125.595628</td>\n",
              "      <td>0.461749</td>\n",
              "      <td>49.516393</td>\n",
              "      <td>1.948087</td>\n",
              "      <td>0.472678</td>\n",
              "      <td>8.229508</td>\n",
              "      <td>0.027322</td>\n",
              "      <td>0.008197</td>\n",
              "      <td>0.338798</td>\n",
              "      <td>0.024590</td>\n",
              "      <td>232.431694</td>\n",
              "      <td>133.490437</td>\n",
              "      <td>83.513661</td>\n",
              "      <td>25.776612</td>\n",
              "      <td>75.838798</td>\n",
              "      <td>82.855191</td>\n",
              "      <td>0.177596</td>\n",
              "    </tr>\n",
              "    <tr>\n",
              "      <th>std</th>\n",
              "      <td>1188.306224</td>\n",
              "      <td>0.499217</td>\n",
              "      <td>8.659052</td>\n",
              "      <td>0.995901</td>\n",
              "      <td>0.499936</td>\n",
              "      <td>11.029316</td>\n",
              "      <td>0.163244</td>\n",
              "      <td>0.090287</td>\n",
              "      <td>0.473949</td>\n",
              "      <td>0.155084</td>\n",
              "      <td>45.194853</td>\n",
              "      <td>24.275373</td>\n",
              "      <td>12.689866</td>\n",
              "      <td>4.313198</td>\n",
              "      <td>12.808547</td>\n",
              "      <td>28.455942</td>\n",
              "      <td>0.382695</td>\n",
              "    </tr>\n",
              "    <tr>\n",
              "      <th>min</th>\n",
              "      <td>6.000000</td>\n",
              "      <td>0.000000</td>\n",
              "      <td>33.000000</td>\n",
              "      <td>1.000000</td>\n",
              "      <td>0.000000</td>\n",
              "      <td>0.000000</td>\n",
              "      <td>0.000000</td>\n",
              "      <td>0.000000</td>\n",
              "      <td>0.000000</td>\n",
              "      <td>0.000000</td>\n",
              "      <td>119.000000</td>\n",
              "      <td>90.000000</td>\n",
              "      <td>55.000000</td>\n",
              "      <td>16.480000</td>\n",
              "      <td>52.000000</td>\n",
              "      <td>40.000000</td>\n",
              "      <td>0.000000</td>\n",
              "    </tr>\n",
              "    <tr>\n",
              "      <th>25%</th>\n",
              "      <td>1142.500000</td>\n",
              "      <td>0.000000</td>\n",
              "      <td>42.000000</td>\n",
              "      <td>1.000000</td>\n",
              "      <td>0.000000</td>\n",
              "      <td>0.000000</td>\n",
              "      <td>0.000000</td>\n",
              "      <td>0.000000</td>\n",
              "      <td>0.000000</td>\n",
              "      <td>0.000000</td>\n",
              "      <td>202.000000</td>\n",
              "      <td>117.500000</td>\n",
              "      <td>75.000000</td>\n",
              "      <td>22.842500</td>\n",
              "      <td>67.250000</td>\n",
              "      <td>72.000000</td>\n",
              "      <td>0.000000</td>\n",
              "    </tr>\n",
              "    <tr>\n",
              "      <th>50%</th>\n",
              "      <td>2170.500000</td>\n",
              "      <td>0.000000</td>\n",
              "      <td>49.000000</td>\n",
              "      <td>2.000000</td>\n",
              "      <td>0.000000</td>\n",
              "      <td>0.000000</td>\n",
              "      <td>0.000000</td>\n",
              "      <td>0.000000</td>\n",
              "      <td>0.000000</td>\n",
              "      <td>0.000000</td>\n",
              "      <td>229.500000</td>\n",
              "      <td>129.000000</td>\n",
              "      <td>81.250000</td>\n",
              "      <td>25.335000</td>\n",
              "      <td>75.000000</td>\n",
              "      <td>78.000000</td>\n",
              "      <td>0.000000</td>\n",
              "    </tr>\n",
              "    <tr>\n",
              "      <th>75%</th>\n",
              "      <td>3121.750000</td>\n",
              "      <td>1.000000</td>\n",
              "      <td>56.000000</td>\n",
              "      <td>2.750000</td>\n",
              "      <td>1.000000</td>\n",
              "      <td>20.000000</td>\n",
              "      <td>0.000000</td>\n",
              "      <td>0.000000</td>\n",
              "      <td>1.000000</td>\n",
              "      <td>0.000000</td>\n",
              "      <td>254.000000</td>\n",
              "      <td>144.750000</td>\n",
              "      <td>90.000000</td>\n",
              "      <td>28.217500</td>\n",
              "      <td>82.000000</td>\n",
              "      <td>86.000000</td>\n",
              "      <td>0.000000</td>\n",
              "    </tr>\n",
              "    <tr>\n",
              "      <th>max</th>\n",
              "      <td>4214.000000</td>\n",
              "      <td>1.000000</td>\n",
              "      <td>69.000000</td>\n",
              "      <td>4.000000</td>\n",
              "      <td>1.000000</td>\n",
              "      <td>70.000000</td>\n",
              "      <td>1.000000</td>\n",
              "      <td>1.000000</td>\n",
              "      <td>1.000000</td>\n",
              "      <td>1.000000</td>\n",
              "      <td>392.000000</td>\n",
              "      <td>295.000000</td>\n",
              "      <td>142.500000</td>\n",
              "      <td>56.800000</td>\n",
              "      <td>143.000000</td>\n",
              "      <td>370.000000</td>\n",
              "      <td>1.000000</td>\n",
              "    </tr>\n",
              "  </tbody>\n",
              "</table>\n",
              "</div>"
            ],
            "text/plain": [
              "             index        male         age  ...   heartRate     glucose  TenYearCHD\n",
              "count   366.000000  366.000000  366.000000  ...  366.000000  366.000000  366.000000\n",
              "mean   2125.595628    0.461749   49.516393  ...   75.838798   82.855191    0.177596\n",
              "std    1188.306224    0.499217    8.659052  ...   12.808547   28.455942    0.382695\n",
              "min       6.000000    0.000000   33.000000  ...   52.000000   40.000000    0.000000\n",
              "25%    1142.500000    0.000000   42.000000  ...   67.250000   72.000000    0.000000\n",
              "50%    2170.500000    0.000000   49.000000  ...   75.000000   78.000000    0.000000\n",
              "75%    3121.750000    1.000000   56.000000  ...   82.000000   86.000000    0.000000\n",
              "max    4214.000000    1.000000   69.000000  ...  143.000000  370.000000    1.000000\n",
              "\n",
              "[8 rows x 17 columns]"
            ]
          },
          "metadata": {
            "tags": []
          },
          "execution_count": 58
        }
      ]
    },
    {
      "cell_type": "code",
      "metadata": {
        "id": "olympic-publisher"
      },
      "source": [
        "y=data[\"TenYearCHD\"]\n",
        "X=data.drop('TenYearCHD',axis=1)"
      ],
      "id": "olympic-publisher",
      "execution_count": null,
      "outputs": []
    },
    {
      "cell_type": "code",
      "metadata": {
        "colab": {
          "base_uri": "https://localhost:8080/"
        },
        "id": "efficient-racing",
        "outputId": "886676a6-f60b-4df4-eebe-a16ee96115eb"
      },
      "source": [
        "# X = TSNE(n_components=2).fit_transform(X)\n",
        "pca = PCA(n_components=3)\n",
        "pca.fit(X)"
      ],
      "id": "efficient-racing",
      "execution_count": null,
      "outputs": [
        {
          "output_type": "execute_result",
          "data": {
            "text/plain": [
              "PCA(copy=True, iterated_power='auto', n_components=3, random_state=None,\n",
              "    svd_solver='auto', tol=0.0, whiten=False)"
            ]
          },
          "metadata": {
            "tags": []
          },
          "execution_count": 60
        }
      ]
    },
    {
      "cell_type": "code",
      "metadata": {
        "colab": {
          "base_uri": "https://localhost:8080/"
        },
        "id": "7Pe1LWBfZoDh",
        "outputId": "ecbcbed1-4038-4cb5-f246-127a8e083956"
      },
      "source": [
        "len(y_a[y_a == 0]) , len(y_a[y_a == 1])"
      ],
      "id": "7Pe1LWBfZoDh",
      "execution_count": null,
      "outputs": [
        {
          "output_type": "execute_result",
          "data": {
            "text/plain": [
              "(65, 65)"
            ]
          },
          "metadata": {
            "tags": []
          },
          "execution_count": 108
        }
      ]
    },
    {
      "cell_type": "code",
      "metadata": {
        "id": "accomplished-parade"
      },
      "source": [
        "X_reduced=pca.transform(X)\n",
        "nr = NearMiss()\n",
        "X_a, y_a = nr.fit_sample(X_reduced, y)\n",
        "X_train, X_test, y_train, y_test = train_test_split(X_a, y_a, test_size=0.20, random_state = 200)"
      ],
      "id": "accomplished-parade",
      "execution_count": null,
      "outputs": []
    },
    {
      "cell_type": "code",
      "metadata": {
        "id": "continent-colon"
      },
      "source": [
        "scaler = StandardScaler()\n",
        "X_train = scaler.fit_transform(X_train)\n",
        "X_test = scaler.transform(X_test)"
      ],
      "id": "continent-colon",
      "execution_count": null,
      "outputs": []
    },
    {
      "cell_type": "code",
      "metadata": {
        "colab": {
          "base_uri": "https://localhost:8080/",
          "height": 646
        },
        "id": "active-seating",
        "outputId": "c0939917-4a66-4b7b-a3c0-bdad1f5b2818"
      },
      "source": [
        "# print data distribution after dimentionality reduction\n",
        "plotRed3d(X_train,y_train)"
      ],
      "id": "active-seating",
      "execution_count": null,
      "outputs": [
        {
          "output_type": "display_data",
          "data": {
            "image/png": "[encoded data removed]",
            "text/plain": [
              "<Figure size 720x720 with 1 Axes>"
            ]
          },
          "metadata": {
            "tags": [],
            "needs_background": "light"
          }
        }
      ]
    },
    {
      "cell_type": "code",
      "metadata": {
        "id": "acceptable-lease"
      },
      "source": [
        "f_beta = make_scorer(fbeta_score, beta=4, average='weighted',zero_division=0)\n",
        "# f_beta = make_scorer(fbeta_score, beta=2, average='weighted',zero_division=0)"
      ],
      "id": "acceptable-lease",
      "execution_count": null,
      "outputs": []
    },
    {
      "cell_type": "code",
      "metadata": {
        "id": "based-browser"
      },
      "source": [
        ""
      ],
      "id": "based-browser",
      "execution_count": null,
      "outputs": []
    },
    {
      "cell_type": "code",
      "metadata": {
        "id": "major-found"
      },
      "source": [
        "# Criacao de grid para a Random Forest Classifier\n",
        "max_depth = [int(x) for x in np.linspace(5, 100, num = 5)]\n",
        "max_depth.append(None)\n",
        "\n",
        "grid_rfc = {\n",
        "    'n_estimators': [int(x) for x in np.linspace(start = 50, stop = 500, num = 11)],\n",
        "    'criterion': ['gini','entropy'],\n",
        "    'max_features': ['auto', 'sqrt', 'log2', None],\n",
        "    'max_depth': max_depth,\n",
        "    'min_samples_split': [2, 4],\n",
        "    'min_samples_leaf': [1, 2, 4],\n",
        "    'bootstrap': [True, False]\n",
        "}"
      ],
      "id": "major-found",
      "execution_count": null,
      "outputs": []
    },
    {
      "cell_type": "code",
      "metadata": {
        "id": "informational-treasurer"
      },
      "source": [
        "clf_rfc = RandomForestClassifier()"
      ],
      "id": "informational-treasurer",
      "execution_count": null,
      "outputs": []
    },
    {
      "cell_type": "code",
      "metadata": {
        "colab": {
          "base_uri": "https://localhost:8080/"
        },
        "id": "documented-travel",
        "outputId": "4cc08ea8-a34c-4f6f-94fe-078d639e89da"
      },
      "source": [
        "#  Random search of parameters. Uses our shuffle selection cross validation, \n",
        "#  and search across \"n_iter\" different (shuffle) combinations, and use all available cores\n",
        "rfc_search = RandomizedSearchCV(estimator = clf_rfc, param_distributions = grid_rfc, \n",
        "                               n_iter = 20, cv = 5, random_state=200, scoring=f_beta)\n",
        "\n",
        "rfc_search.fit(X_train, y_train)\n",
        "rfc_search.best_params_"
      ],
      "id": "documented-travel",
      "execution_count": null,
      "outputs": [
        {
          "output_type": "execute_result",
          "data": {
            "text/plain": [
              "{'bootstrap': True,\n",
              " 'criterion': 'gini',\n",
              " 'max_depth': 5,\n",
              " 'max_features': 'log2',\n",
              " 'min_samples_leaf': 4,\n",
              " 'min_samples_split': 2,\n",
              " 'n_estimators': 455}"
            ]
          },
          "metadata": {
            "tags": []
          },
          "execution_count": 76
        }
      ]
    },
    {
      "cell_type": "code",
      "metadata": {
        "colab": {
          "base_uri": "https://localhost:8080/"
        },
        "id": "aquatic-floor",
        "outputId": "c109644b-84e8-41c2-d48f-69c9516829d9"
      },
      "source": [
        "rfc_search.best_score_"
      ],
      "id": "aquatic-floor",
      "execution_count": null,
      "outputs": [
        {
          "output_type": "execute_result",
          "data": {
            "text/plain": [
              "0.6535507591443033"
            ]
          },
          "metadata": {
            "tags": []
          },
          "execution_count": 77
        }
      ]
    },
    {
      "cell_type": "code",
      "metadata": {
        "id": "lesbian-brooklyn"
      },
      "source": [
        "best_clf_rfc = rfc_search.best_estimator_\n",
        "# print_val_scores(best_clf_rfc, X_train, y_train)"
      ],
      "id": "lesbian-brooklyn",
      "execution_count": null,
      "outputs": []
    },
    {
      "cell_type": "code",
      "metadata": {
        "colab": {
          "base_uri": "https://localhost:8080/"
        },
        "id": "instant-chambers",
        "outputId": "c7688ee4-41ea-4fd1-814f-0305ff6abbaf"
      },
      "source": [
        "print_val_custom_score(best_clf_rfc, X_train, y_train,f_beta)"
      ],
      "id": "instant-chambers",
      "execution_count": null,
      "outputs": [
        {
          "output_type": "stream",
          "text": [
            "Classification report for classifier RandomForestClassifier(bootstrap=True, ccp_alpha=0.0, class_weight=None,\n",
            "                       criterion='gini', max_depth=5, max_features='log2',\n",
            "                       max_leaf_nodes=None, max_samples=None,\n",
            "                       min_impurity_decrease=0.0, min_impurity_split=None,\n",
            "                       min_samples_leaf=4, min_samples_split=2,\n",
            "                       min_weight_fraction_leaf=0.0, n_estimators=455,\n",
            "                       n_jobs=None, oob_score=False, random_state=None,\n",
            "                       verbose=0, warm_start=False):\n",
            "parameters:\n",
            "\n",
            "make_scorer(fbeta_score, beta=4, average=weighted, zero_division=0)\n",
            "mean: 0.5915918677616036, std deviation: 0.17337038317147463\n",
            "\n",
            "\n"
          ],
          "name": "stdout"
        }
      ]
    },
    {
      "cell_type": "markdown",
      "metadata": {
        "id": "sweet-reaction"
      },
      "source": [
        "SVM implementarion"
      ],
      "id": "sweet-reaction"
    },
    {
      "cell_type": "code",
      "metadata": {
        "id": "double-motorcycle"
      },
      "source": [
        ""
      ],
      "id": "double-motorcycle",
      "execution_count": null,
      "outputs": []
    },
    {
      "cell_type": "code",
      "metadata": {
        "id": "likely-russian"
      },
      "source": [
        "clf_svm = make_pipeline(StandardScaler(), SVC())\n",
        "# print(pprint(clf_svm.get_params() ))"
      ],
      "id": "likely-russian",
      "execution_count": null,
      "outputs": []
    },
    {
      "cell_type": "code",
      "metadata": {
        "id": "funky-circular"
      },
      "source": [
        "# https://scikit-learn.org/stable/modules/generated/sklearn.svm.SVC.html\n",
        "\n",
        "C = [float(x) for x in np.linspace(start = 0.1, stop = 150.0, num = 10).astype(float)]\n",
        "class_weight=['balanced', None]\n",
        "kernel = ['linear', 'poly', 'rbf','sigmoid']\n",
        "gamma = ['scale', 'auto']\n",
        "decision_function_shape = ['ovo','ovr']\n",
        "shrinking = [True, False]\n",
        "\n",
        "grid_svm = {'svc__C': C,\n",
        "                   'svc__kernel': kernel,\n",
        "                   'svc__gamma': gamma,\n",
        "                   'svc__class_weight':class_weight,\n",
        "                   'svc__decision_function_shape': decision_function_shape,\n",
        "                   'svc__shrinking': shrinking,\n",
        "                   'svc__probability': [True]\n",
        "           }\n",
        "# pprint(grid_svm)"
      ],
      "id": "funky-circular",
      "execution_count": null,
      "outputs": []
    },
    {
      "cell_type": "code",
      "metadata": {
        "colab": {
          "base_uri": "https://localhost:8080/"
        },
        "id": "under-morrison",
        "outputId": "ad5330cb-f5fe-424d-c921-146de7d039f6"
      },
      "source": [
        "svm_search = RandomizedSearchCV(estimator = clf_svm, param_distributions = grid_svm, \n",
        "                               n_iter = 20, cv = 5, random_state=200, scoring=f_beta)\n",
        "\n",
        "svm_search.fit(X_train, y_train)\n",
        "svm_search.best_params_"
      ],
      "id": "under-morrison",
      "execution_count": null,
      "outputs": [
        {
          "output_type": "execute_result",
          "data": {
            "text/plain": [
              "{'svc__C': 33.41111111111111,\n",
              " 'svc__class_weight': 'balanced',\n",
              " 'svc__decision_function_shape': 'ovo',\n",
              " 'svc__gamma': 'scale',\n",
              " 'svc__kernel': 'linear',\n",
              " 'svc__probability': True,\n",
              " 'svc__shrinking': False}"
            ]
          },
          "metadata": {
            "tags": []
          },
          "execution_count": 82
        }
      ]
    },
    {
      "cell_type": "code",
      "metadata": {
        "colab": {
          "base_uri": "https://localhost:8080/"
        },
        "id": "broadband-genius",
        "outputId": "49dc44f2-a92e-4a31-e8bb-2570b3999426"
      },
      "source": [
        "best_clf_svm = svm_search.best_estimator_\n",
        "svm_search.best_score_\n",
        "print_val_custom_score(best_clf_svm,X_train,y_train,f_beta)"
      ],
      "id": "broadband-genius",
      "execution_count": null,
      "outputs": [
        {
          "output_type": "stream",
          "text": [
            "Classification report for classifier Pipeline(memory=None,\n",
            "         steps=[('standardscaler',\n",
            "                 StandardScaler(copy=True, with_mean=True, with_std=True)),\n",
            "                ('svc',\n",
            "                 SVC(C=33.41111111111111, break_ties=False, cache_size=200,\n",
            "                     class_weight='balanced', coef0=0.0,\n",
            "                     decision_function_shape='ovo', degree=3, gamma='scale',\n",
            "                     kernel='linear', max_iter=-1, probability=True,\n",
            "                     random_state=None, shrinking=False, tol=0.001,\n",
            "                     verbose=False))],\n",
            "         verbose=False):\n",
            "parameters:\n",
            "\n",
            "make_scorer(fbeta_score, beta=4, average=weighted, zero_division=0)\n",
            "mean: 0.6162126611124844, std deviation: 0.14033418928277663\n",
            "\n",
            "\n"
          ],
          "name": "stdout"
        }
      ]
    },
    {
      "cell_type": "code",
      "metadata": {
        "id": "nuclear-mouse"
      },
      "source": [
        "#print_val_scores(best_clf_svm,X_train,y_train)"
      ],
      "id": "nuclear-mouse",
      "execution_count": null,
      "outputs": []
    },
    {
      "cell_type": "code",
      "metadata": {
        "id": "undefined-momentum"
      },
      "source": [
        ""
      ],
      "id": "undefined-momentum",
      "execution_count": null,
      "outputs": []
    },
    {
      "cell_type": "code",
      "metadata": {
        "id": "rotary-grenada"
      },
      "source": [
        "# https://scikit-learn.org/stable/modules/generated/sklearn.svm.SVC.html\n",
        "var_smoothing = [float(1/10**x) for x in np.linspace(start=1,stop=15,num=16)]\n",
        "\n",
        "grid_nb = {\n",
        "    'var_smoothing': var_smoothing\n",
        "}\n",
        "# pprint(grid_nb)"
      ],
      "id": "rotary-grenada",
      "execution_count": null,
      "outputs": []
    },
    {
      "cell_type": "code",
      "metadata": {
        "colab": {
          "base_uri": "https://localhost:8080/"
        },
        "id": "automated-corrections",
        "outputId": "98aa40c6-5898-4a8c-d213-dc7d69459ded"
      },
      "source": [
        "clf_nb = GaussianNB()\n",
        "nb_search = GridSearchCV(estimator = clf_nb, param_grid = grid_nb, \n",
        "                         cv = 5, scoring=f_beta)\n",
        "nb_search.fit(X_train, y_train)\n",
        "nb_search.best_params_"
      ],
      "id": "automated-corrections",
      "execution_count": null,
      "outputs": [
        {
          "output_type": "execute_result",
          "data": {
            "text/plain": [
              "{'var_smoothing': 0.011659144011798317}"
            ]
          },
          "metadata": {
            "tags": []
          },
          "execution_count": 85
        }
      ]
    },
    {
      "cell_type": "code",
      "metadata": {
        "colab": {
          "base_uri": "https://localhost:8080/"
        },
        "id": "antique-cycle",
        "outputId": "c30f77a5-5c42-4591-a595-f4e9ad0d314c"
      },
      "source": [
        "best_clf_nb = nb_search.best_estimator_\n",
        "nb_search.best_score_\n",
        "print_val_custom_score(best_clf_nb,X_train,y_train,f_beta)"
      ],
      "id": "antique-cycle",
      "execution_count": null,
      "outputs": [
        {
          "output_type": "stream",
          "text": [
            "Classification report for classifier GaussianNB(priors=None, var_smoothing=0.011659144011798317):\n",
            "parameters:\n",
            "\n",
            "make_scorer(fbeta_score, beta=4, average=weighted, zero_division=0)\n",
            "mean: 0.5886961797309359, std deviation: 0.1726797200756341\n",
            "\n",
            "\n"
          ],
          "name": "stdout"
        }
      ]
    },
    {
      "cell_type": "code",
      "metadata": {
        "id": "heated-corner"
      },
      "source": [
        ""
      ],
      "id": "heated-corner",
      "execution_count": null,
      "outputs": []
    },
    {
      "cell_type": "code",
      "metadata": {
        "id": "behind-tattoo"
      },
      "source": [
        "#https://scikit-learn.org/stable/modules/generated/sklearn.linear_model.LogisticRegression.html\n",
        "\n",
        "C=[float(x) for x in np.linspace(start=0.1,stop=3,num=21)]\n",
        "grid_lr = {\n",
        "    'C': C,\n",
        "    'n_jobs': [None, -1],\n",
        "    'multi_class': ['auto', 'ovr', 'multinomial'],\n",
        "    'warm_start': [False,True]\n",
        "}\n",
        "# pprint(grid_lr)"
      ],
      "id": "behind-tattoo",
      "execution_count": null,
      "outputs": []
    },
    {
      "cell_type": "code",
      "metadata": {
        "colab": {
          "base_uri": "https://localhost:8080/"
        },
        "id": "alone-consortium",
        "outputId": "3aa680bb-90bf-44f9-ad18-b1b2eec7694e"
      },
      "source": [
        "clf_lr = LogisticRegression()\n",
        "# print(RandomizedSearchCV(estimator = clf_lr, param_distributions = grid_lr, n_iter=20,\n",
        "#                         cv = 5, scoring=f_beta).estimator.get_params().keys())\n",
        "\n",
        "lr_search = RandomizedSearchCV(estimator = clf_lr, param_distributions=grid_lr, \n",
        "                                 n_iter=20, cv = 5, scoring=f_beta)\n",
        "lr_search.fit(X_train, y_train)\n",
        "lr_search.best_params_"
      ],
      "id": "alone-consortium",
      "execution_count": null,
      "outputs": [
        {
          "output_type": "execute_result",
          "data": {
            "text/plain": [
              "{'C': 0.6799999999999999,\n",
              " 'multi_class': 'multinomial',\n",
              " 'n_jobs': -1,\n",
              " 'warm_start': True}"
            ]
          },
          "metadata": {
            "tags": []
          },
          "execution_count": 88
        }
      ]
    },
    {
      "cell_type": "code",
      "metadata": {
        "colab": {
          "base_uri": "https://localhost:8080/"
        },
        "id": "sporting-chaos",
        "outputId": "492396b1-3cf6-4b09-a38c-acc3b4e51359"
      },
      "source": [
        "best_clf_lr = lr_search.best_estimator_\n",
        "lr_search.best_score_\n",
        "print_val_custom_score(best_clf_lr,X_train,y_train,f_beta)"
      ],
      "id": "sporting-chaos",
      "execution_count": null,
      "outputs": [
        {
          "output_type": "stream",
          "text": [
            "Classification report for classifier LogisticRegression(C=0.6799999999999999, class_weight=None, dual=False,\n",
            "                   fit_intercept=True, intercept_scaling=1, l1_ratio=None,\n",
            "                   max_iter=100, multi_class='multinomial', n_jobs=-1,\n",
            "                   penalty='l2', random_state=None, solver='lbfgs', tol=0.0001,\n",
            "                   verbose=0, warm_start=True):\n",
            "parameters:\n",
            "\n",
            "make_scorer(fbeta_score, beta=4, average=weighted, zero_division=0)\n",
            "mean: 0.6201055111688631, std deviation: 0.10805422826928494\n",
            "\n",
            "\n"
          ],
          "name": "stdout"
        }
      ]
    },
    {
      "cell_type": "code",
      "metadata": {
        "id": "uniform-greene"
      },
      "source": [
        ""
      ],
      "id": "uniform-greene",
      "execution_count": null,
      "outputs": []
    },
    {
      "cell_type": "code",
      "metadata": {
        "id": "optical-consensus"
      },
      "source": [
        ""
      ],
      "id": "optical-consensus",
      "execution_count": null,
      "outputs": []
    },
    {
      "cell_type": "code",
      "metadata": {
        "id": "oriented-berlin"
      },
      "source": [
        ""
      ],
      "id": "oriented-berlin",
      "execution_count": null,
      "outputs": []
    },
    {
      "cell_type": "code",
      "metadata": {
        "id": "convenient-defeat"
      },
      "source": [
        ""
      ],
      "id": "convenient-defeat",
      "execution_count": null,
      "outputs": []
    },
    {
      "cell_type": "code",
      "metadata": {
        "id": "appropriate-consciousness"
      },
      "source": [
        "clf_lr = best_clf_lr \n",
        "clf_rfc = best_clf_rfc\n",
        "clf_nb = best_clf_nb\n",
        "clf_svm = best_clf_svm"
      ],
      "id": "appropriate-consciousness",
      "execution_count": null,
      "outputs": []
    },
    {
      "cell_type": "code",
      "metadata": {
        "colab": {
          "base_uri": "https://localhost:8080/"
        },
        "id": "secret-summary",
        "outputId": "ee3d4138-0686-401f-b4e0-176a5e9b691c"
      },
      "source": [
        "print('5 fold cross-validation')\n",
        "\n",
        "labels = ['Logistic Regression','Random Forest Classsifier', 'Naive Bayes', 'SVM']\n",
        "for clf, label in zip([clf_lr, clf_rfc,clf_nb, clf_svm], labels):\n",
        "\n",
        "    scores = cross_val_score(clf, X_train, y_train,\n",
        "                             cv=5, scoring=f_beta)\n",
        "\n",
        "    print(\"f2 Validation: %0.3f (+/- %0.3f) [%s]\" % (np.mean(scores), np.std(scores), label))"
      ],
      "id": "secret-summary",
      "execution_count": null,
      "outputs": [
        {
          "output_type": "stream",
          "text": [
            "5 fold cross-validation\n",
            "f2 Validation: 0.643 (+/- 0.080) [Logistic Regression]\n",
            "f2 Validation: 0.683 (+/- 0.086) [Random Forest Classsifier]\n",
            "f2 Validation: 0.650 (+/- 0.036) [Naive Bayes]\n",
            "f2 Validation: 0.600 (+/- 0.090) [SVM]\n"
          ],
          "name": "stdout"
        }
      ]
    },
    {
      "cell_type": "code",
      "metadata": {
        "id": "baking-snapshot"
      },
      "source": [
        "voting_clf_hard = VotingClassifier(estimators = [(labels[0], clf_lr),\n",
        "                                                 (labels[1], clf_rfc),\n",
        "                                                 (labels[2], clf_nb),\n",
        "                                                 (labels[3], clf_svm)],\n",
        "                                  voting='hard')"
      ],
      "id": "baking-snapshot",
      "execution_count": null,
      "outputs": []
    },
    {
      "cell_type": "code",
      "metadata": {
        "id": "figured-spiritual"
      },
      "source": [
        "voting_clf_soft = VotingClassifier(estimators = [(labels[0], clf_lr),\n",
        "                                                 (labels[1], clf_rfc),\n",
        "                                                 (labels[2], clf_nb),\n",
        "                                                 (labels[3], clf_svm)],\n",
        "                                  voting='soft')"
      ],
      "id": "figured-spiritual",
      "execution_count": null,
      "outputs": []
    },
    {
      "cell_type": "code",
      "metadata": {
        "colab": {
          "base_uri": "https://localhost:8080/"
        },
        "id": "reduced-dollar",
        "scrolled": false,
        "outputId": "ac14a6ea-3c84-4880-b7af-37c1d7b2e9e5"
      },
      "source": [
        "print('5 fold cross-validation')\n",
        "\n",
        "labels = ['Logistic Regression','Random Forest Classifier', 'Naive Bayes', 'SVM', \n",
        "          'Voting Classifier - Hard', 'Voting Classifier - Soft']\n",
        "for clf, label in zip([clf_lr, clf_rfc,clf_nb, clf_svm, voting_clf_hard, voting_clf_soft], labels):\n",
        "\n",
        "    scores = cross_val_score(clf, X, y,\n",
        "                             cv=5, scoring=f_beta,error_score='raise')\n",
        "\n",
        "    print(\"f2 Validation: %0.3f (+/- %0.3f) [%s]\" % (np.mean(scores), np.std(scores), label))"
      ],
      "id": "reduced-dollar",
      "execution_count": null,
      "outputs": [
        {
          "output_type": "stream",
          "text": [
            "5 fold cross-validation\n",
            "f2 Validation: 0.816 (+/- 0.015) [Logistic Regression]\n",
            "f2 Validation: 0.810 (+/- 0.005) [Random Forest Classifier]\n",
            "f2 Validation: 0.812 (+/- 0.001) [Naive Bayes]\n",
            "f2 Validation: 0.678 (+/- 0.042) [SVM]\n",
            "f2 Validation: 0.812 (+/- 0.001) [Voting Classifier - Hard]\n",
            "f2 Validation: 0.812 (+/- 0.001) [Voting Classifier - Soft]\n"
          ],
          "name": "stdout"
        }
      ]
    },
    {
      "cell_type": "code",
      "metadata": {
        "id": "recorded-partner"
      },
      "source": [
        ""
      ],
      "id": "recorded-partner",
      "execution_count": null,
      "outputs": []
    },
    {
      "cell_type": "code",
      "metadata": {
        "id": "cutting-afghanistan"
      },
      "source": [
        ""
      ],
      "id": "cutting-afghanistan",
      "execution_count": null,
      "outputs": []
    },
    {
      "cell_type": "code",
      "metadata": {
        "id": "willing-support"
      },
      "source": [
        ""
      ],
      "id": "willing-support",
      "execution_count": null,
      "outputs": []
    },
    {
      "cell_type": "code",
      "metadata": {
        "colab": {
          "base_uri": "https://localhost:8080/"
        },
        "id": "norman-continent",
        "outputId": "9807b664-956d-4b76-cdaa-7454fda1d8bb"
      },
      "source": [
        "print(clf_lr)\n",
        "print(clf_nb)\n",
        "print(clf_rfc)\n",
        "print(clf_svm)"
      ],
      "id": "norman-continent",
      "execution_count": null,
      "outputs": [
        {
          "output_type": "stream",
          "text": [
            "LogisticRegression(C=0.6799999999999999, class_weight=None, dual=False,\n",
            "                   fit_intercept=True, intercept_scaling=1, l1_ratio=None,\n",
            "                   max_iter=100, multi_class='multinomial', n_jobs=-1,\n",
            "                   penalty='l2', random_state=None, solver='lbfgs', tol=0.0001,\n",
            "                   verbose=0, warm_start=True)\n",
            "GaussianNB(priors=None, var_smoothing=0.011659144011798317)\n",
            "RandomForestClassifier(bootstrap=True, ccp_alpha=0.0, class_weight=None,\n",
            "                       criterion='gini', max_depth=5, max_features='log2',\n",
            "                       max_leaf_nodes=None, max_samples=None,\n",
            "                       min_impurity_decrease=0.0, min_impurity_split=None,\n",
            "                       min_samples_leaf=4, min_samples_split=2,\n",
            "                       min_weight_fraction_leaf=0.0, n_estimators=455,\n",
            "                       n_jobs=None, oob_score=False, random_state=None,\n",
            "                       verbose=0, warm_start=False)\n",
            "Pipeline(memory=None,\n",
            "         steps=[('standardscaler',\n",
            "                 StandardScaler(copy=True, with_mean=True, with_std=True)),\n",
            "                ('svc',\n",
            "                 SVC(C=33.41111111111111, break_ties=False, cache_size=200,\n",
            "                     class_weight='balanced', coef0=0.0,\n",
            "                     decision_function_shape='ovo', degree=3, gamma='scale',\n",
            "                     kernel='linear', max_iter=-1, probability=True,\n",
            "                     random_state=None, shrinking=False, tol=0.001,\n",
            "                     verbose=False))],\n",
            "         verbose=False)\n"
          ],
          "name": "stdout"
        }
      ]
    },
    {
      "cell_type": "code",
      "metadata": {
        "id": "valid-congress",
        "colab": {
          "base_uri": "https://localhost:8080/",
          "height": 1000
        },
        "outputId": "fc397872-8282-47ac-abb7-4b947ffc5d48"
      },
      "source": [
        "for clf, label in zip([clf_lr, clf_rfc,clf_nb, clf_svm, voting_clf_hard, voting_clf_soft], labels):\n",
        "    clf.fit(X_train,y_train)\n",
        "    prediction = clf.predict(X_test)\n",
        "    print_metrics(clf,X_test,y_test,prediction)"
      ],
      "id": "valid-congress",
      "execution_count": null,
      "outputs": [
        {
          "output_type": "stream",
          "text": [
            "Classification report for classifier LogisticRegression(C=0.6799999999999999, class_weight=None, dual=False,\n",
            "                   fit_intercept=True, intercept_scaling=1, l1_ratio=None,\n",
            "                   max_iter=100, multi_class='multinomial', n_jobs=-1,\n",
            "                   penalty='l2', random_state=None, solver='lbfgs', tol=0.0001,\n",
            "                   verbose=0, warm_start=True):\n",
            "              precision    recall  f1-score   support\n",
            "\n",
            "           0       0.67      0.71      0.69        14\n",
            "           1       0.64      0.58      0.61        12\n",
            "\n",
            "    accuracy                           0.65        26\n",
            "   macro avg       0.65      0.65      0.65        26\n",
            "weighted avg       0.65      0.65      0.65        26\n",
            "\n",
            "\n",
            "Classification report for classifier RandomForestClassifier(bootstrap=True, ccp_alpha=0.0, class_weight=None,\n",
            "                       criterion='gini', max_depth=5, max_features='log2',\n",
            "                       max_leaf_nodes=None, max_samples=None,\n",
            "                       min_impurity_decrease=0.0, min_impurity_split=None,\n",
            "                       min_samples_leaf=4, min_samples_split=2,\n",
            "                       min_weight_fraction_leaf=0.0, n_estimators=455,\n",
            "                       n_jobs=None, oob_score=False, random_state=None,\n",
            "                       verbose=0, warm_start=False):\n",
            "              precision    recall  f1-score   support\n",
            "\n",
            "           0       0.69      0.64      0.67        14\n",
            "           1       0.62      0.67      0.64        12\n",
            "\n",
            "    accuracy                           0.65        26\n",
            "   macro avg       0.65      0.65      0.65        26\n",
            "weighted avg       0.66      0.65      0.65        26\n",
            "\n",
            "\n",
            "Classification report for classifier GaussianNB(priors=None, var_smoothing=0.011659144011798317):\n",
            "              precision    recall  f1-score   support\n",
            "\n",
            "           0       0.57      0.86      0.69        14\n",
            "           1       0.60      0.25      0.35        12\n",
            "\n",
            "    accuracy                           0.58        26\n",
            "   macro avg       0.59      0.55      0.52        26\n",
            "weighted avg       0.58      0.58      0.53        26\n",
            "\n",
            "\n",
            "Classification report for classifier Pipeline(memory=None,\n",
            "         steps=[('standardscaler',\n",
            "                 StandardScaler(copy=True, with_mean=True, with_std=True)),\n",
            "                ('svc',\n",
            "                 SVC(C=33.41111111111111, break_ties=False, cache_size=200,\n",
            "                     class_weight='balanced', coef0=0.0,\n",
            "                     decision_function_shape='ovo', degree=3, gamma='scale',\n",
            "                     kernel='linear', max_iter=-1, probability=True,\n",
            "                     random_state=None, shrinking=False, tol=0.001,\n",
            "                     verbose=False))],\n",
            "         verbose=False):\n",
            "              precision    recall  f1-score   support\n",
            "\n",
            "           0       0.63      0.86      0.73        14\n",
            "           1       0.71      0.42      0.53        12\n",
            "\n",
            "    accuracy                           0.65        26\n",
            "   macro avg       0.67      0.64      0.63        26\n",
            "weighted avg       0.67      0.65      0.63        26\n",
            "\n",
            "\n",
            "Classification report for classifier VotingClassifier(estimators=[('Logistic Regression',\n",
            "                              LogisticRegression(C=0.6799999999999999,\n",
            "                                                 class_weight=None, dual=False,\n",
            "                                                 fit_intercept=True,\n",
            "                                                 intercept_scaling=1,\n",
            "                                                 l1_ratio=None, max_iter=100,\n",
            "                                                 multi_class='multinomial',\n",
            "                                                 n_jobs=-1, penalty='l2',\n",
            "                                                 random_state=None,\n",
            "                                                 solver='lbfgs', tol=0.0001,\n",
            "                                                 verbose=0, warm_start=True)),\n",
            "                             ('Random Forest Classsifier',\n",
            "                              RandomForestClas...\n",
            "                                                              with_std=True)),\n",
            "                                              ('svc',\n",
            "                                               SVC(C=33.41111111111111,\n",
            "                                                   break_ties=False,\n",
            "                                                   cache_size=200,\n",
            "                                                   class_weight='balanced',\n",
            "                                                   coef0=0.0,\n",
            "                                                   decision_function_shape='ovo',\n",
            "                                                   degree=3, gamma='scale',\n",
            "                                                   kernel='linear', max_iter=-1,\n",
            "                                                   probability=True,\n",
            "                                                   random_state=None,\n",
            "                                                   shrinking=False, tol=0.001,\n",
            "                                                   verbose=False))],\n",
            "                                       verbose=False))],\n",
            "                 flatten_transform=True, n_jobs=None, voting='hard',\n",
            "                 weights=None):\n",
            "              precision    recall  f1-score   support\n",
            "\n",
            "           0       0.63      0.86      0.73        14\n",
            "           1       0.71      0.42      0.53        12\n",
            "\n",
            "    accuracy                           0.65        26\n",
            "   macro avg       0.67      0.64      0.63        26\n",
            "weighted avg       0.67      0.65      0.63        26\n",
            "\n",
            "\n",
            "Classification report for classifier VotingClassifier(estimators=[('Logistic Regression',\n",
            "                              LogisticRegression(C=0.6799999999999999,\n",
            "                                                 class_weight=None, dual=False,\n",
            "                                                 fit_intercept=True,\n",
            "                                                 intercept_scaling=1,\n",
            "                                                 l1_ratio=None, max_iter=100,\n",
            "                                                 multi_class='multinomial',\n",
            "                                                 n_jobs=-1, penalty='l2',\n",
            "                                                 random_state=None,\n",
            "                                                 solver='lbfgs', tol=0.0001,\n",
            "                                                 verbose=0, warm_start=True)),\n",
            "                             ('Random Forest Classsifier',\n",
            "                              RandomForestClas...\n",
            "                                                              with_std=True)),\n",
            "                                              ('svc',\n",
            "                                               SVC(C=33.41111111111111,\n",
            "                                                   break_ties=False,\n",
            "                                                   cache_size=200,\n",
            "                                                   class_weight='balanced',\n",
            "                                                   coef0=0.0,\n",
            "                                                   decision_function_shape='ovo',\n",
            "                                                   degree=3, gamma='scale',\n",
            "                                                   kernel='linear', max_iter=-1,\n",
            "                                                   probability=True,\n",
            "                                                   random_state=None,\n",
            "                                                   shrinking=False, tol=0.001,\n",
            "                                                   verbose=False))],\n",
            "                                       verbose=False))],\n",
            "                 flatten_transform=True, n_jobs=None, voting='soft',\n",
            "                 weights=None):\n",
            "              precision    recall  f1-score   support\n",
            "\n",
            "           0       0.61      0.79      0.69        14\n",
            "           1       0.62      0.42      0.50        12\n",
            "\n",
            "    accuracy                           0.62        26\n",
            "   macro avg       0.62      0.60      0.59        26\n",
            "weighted avg       0.62      0.62      0.60        26\n",
            "\n",
            "\n"
          ],
          "name": "stdout"
        },
        {
          "output_type": "display_data",
          "data": {
            "image/png": "[encoded data removed]",
            "text/plain": [
              "<Figure size 432x288 with 2 Axes>"
            ]
          },
          "metadata": {
            "tags": [],
            "needs_background": "light"
          }
        },
        {
          "output_type": "display_data",
          "data": {
            "image/png": "[encoded data removed]",
            "text/plain": [
              "<Figure size 432x288 with 2 Axes>"
            ]
          },
          "metadata": {
            "tags": [],
            "needs_background": "light"
          }
        },
        {
          "output_type": "display_data",
          "data": {
            "image/png": "[encoded data removed]",
            "text/plain": [
              "<Figure size 432x288 with 2 Axes>"
            ]
          },
          "metadata": {
            "tags": [],
            "needs_background": "light"
          }
        },
        {
          "output_type": "display_data",
          "data": {
            "image/png": "[encoded data removed]",
            "text/plain": [
              "<Figure size 432x288 with 2 Axes>"
            ]
          },
          "metadata": {
            "tags": [],
            "needs_background": "light"
          }
        },
        {
          "output_type": "display_data",
          "data": {
            "image/png": "[encoded data removed]",
            "text/plain": [
              "<Figure size 432x288 with 2 Axes>"
            ]
          },
          "metadata": {
            "tags": [],
            "needs_background": "light"
          }
        },
        {
          "output_type": "display_data",
          "data": {
            "image/png": "[encoded data removed]",
            "text/plain": [
              "<Figure size 432x288 with 2 Axes>"
            ]
          },
          "metadata": {
            "tags": [],
            "needs_background": "light"
          }
        }
      ]
    },
    {
      "cell_type": "code",
      "metadata": {
        "id": "several-abraham"
      },
      "source": [
        ""
      ],
      "id": "several-abraham",
      "execution_count": null,
      "outputs": []
    },
    {
      "cell_type": "code",
      "metadata": {
        "id": "capable-legislature"
      },
      "source": [
        ""
      ],
      "id": "capable-legislature",
      "execution_count": null,
      "outputs": []
    },
    {
      "cell_type": "code",
      "metadata": {
        "id": "elegant-archives"
      },
      "source": [
        ""
      ],
      "id": "elegant-archives",
      "execution_count": null,
      "outputs": []
    },
    {
      "cell_type": "code",
      "metadata": {
        "id": "nutritional-savings"
      },
      "source": [
        ""
      ],
      "id": "nutritional-savings",
      "execution_count": null,
      "outputs": []
    },
    {
      "cell_type": "markdown",
      "metadata": {
        "id": "signed-delicious"
      },
      "source": [
        "Caso vc nao queira rodar tudo de novo, pode dar ctrl c+v nos grids e recuperar os melhores modelos assim:"
      ],
      "id": "signed-delicious"
    },
    {
      "cell_type": "code",
      "metadata": {
        "id": "hundred-passenger"
      },
      "source": [
        "# https://stackoverflow.com/questions/33110973/pass-a-dict-to-scikit-learn-estimator\n",
        "grid_rfc={'n_estimators': 500,\n",
        " 'min_samples_split': 2,\n",
        " 'min_samples_leaf': 4,\n",
        " 'max_features': 'sqrt',\n",
        " 'max_depth': None,\n",
        " 'criterion': 'gini',\n",
        " 'bootstrap': True}\n",
        "\n",
        "clf_rfc=RandomForestClassifier(**grid_rfc)\n",
        "\n",
        "grid_svm={'svc__shrinking': False,\n",
        " 'svc__probability': True,\n",
        " 'svc__kernel': 'rbf',\n",
        " 'svc__gamma': 'auto',\n",
        " 'svc__decision_function_shape': 'ovo',\n",
        " 'svc__class_weight': None,\n",
        " 'svc__C': 0.1}\n",
        "\n",
        "clf_svm = make_pipeline(StandardScaler(), SVC())\n",
        "clf_svm.set_params(**grid_svm)\n",
        "\n",
        "grid_nb={'var_smoothing': 0.1}\n",
        "clf_nb=GaussianNB(var_smoothing= 0.1)\n",
        "\n",
        "grid_lr={'warm_start': True, 'n_jobs': -1, 'multi_class': 'multinomial', 'C': 0.39}\n",
        "clf_lr=LogisticRegression(**grid_lr)"
      ],
      "id": "hundred-passenger",
      "execution_count": null,
      "outputs": []
    }
  ]
}